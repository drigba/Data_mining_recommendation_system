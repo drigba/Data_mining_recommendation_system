{
 "cells": [
  {
   "cell_type": "code",
   "execution_count": 91,
   "metadata": {},
   "outputs": [],
   "source": [
    "import torch\n",
    "import pandas as pd\n",
    "from torch_geometric.nn import HeteroConv, Linear, SAGEConv, to_hetero\n",
    "import torch.nn.functional as F\n",
    "import torch_geometric.transforms as T\n",
    "\n"
   ]
  },
  {
   "cell_type": "code",
   "execution_count": 92,
   "metadata": {},
   "outputs": [],
   "source": [
    "class IdentityEncoder:\n",
    "    def __init__(self, dtype=None):\n",
    "        self.dtype = dtype\n",
    "\n",
    "    def __call__(self, df):\n",
    "        return torch.from_numpy(df.values).view(-1, 1).to(self.dtype)"
   ]
  },
  {
   "cell_type": "code",
   "execution_count": 93,
   "metadata": {},
   "outputs": [],
   "source": [
    "def load_node_csv(path, index_col, encoders=None, **kwargs):\n",
    "    df = pd.read_csv(path, index_col=index_col, **kwargs)\n",
    "    mapping = {index: i for i, index in enumerate(df.index.unique())}\n",
    "\n",
    "    x = None\n",
    "    if encoders is not None:\n",
    "        xs = [encoder(df[col]) for col, encoder in encoders.items()]\n",
    "        x = torch.cat(xs, dim=-1)\n",
    "\n",
    "    return x, mapping"
   ]
  },
  {
   "cell_type": "code",
   "execution_count": 94,
   "metadata": {},
   "outputs": [],
   "source": [
    "def load_edge_csv(path, src_index_col, src_mapping, dst_index_col, dst_mapping,\n",
    "                  attr_encoders=None,label_encoders = None ,**kwargs):\n",
    "    df = pd.read_csv(path, **kwargs)\n",
    "\n",
    "    src = [src_mapping[index] for index in df[src_index_col]]\n",
    "    dst = [dst_mapping[index] for index in df[dst_index_col]]\n",
    "    edge_index = torch.tensor([src, dst])\n",
    "\n",
    "    edge_attr = None\n",
    "    if attr_encoders is not None:\n",
    "        edge_attrs = [encoder(df[col]) for col, encoder in attr_encoders.items()]\n",
    "        edge_attr = torch.cat(edge_attrs, dim=-1)\n",
    "    if label_encoders is not None:\n",
    "        edge_labels = [encoder(df[col]) for col, encoder in label_encoders.items()]\n",
    "        edge_label = torch.cat(edge_labels, dim=-1)\n",
    "\n",
    "    return edge_index, edge_attr, edge_label"
   ]
  },
  {
   "cell_type": "code",
   "execution_count": 95,
   "metadata": {},
   "outputs": [],
   "source": [
    "customer_encoders = {col_name : IdentityEncoder(dtype=torch.float32) for col_name in [\"n_orders\",\"n_not_returned\",\"n_partial_returned\",\"n_fully_returned\",\"n_products\"]}\n",
    "order_encoders = {col_name : IdentityEncoder(dtype=torch.float32) for col_name in [\"label\",\"n_products\"]}\n",
    "product_encoders = {col_name : IdentityEncoder(dtype=torch.float32) for col_name in [\"n_orders\", \"n_returned\"]}\n",
    "customer_x, customer_mapping = load_node_csv('data/customer_node_attributes.csv', index_col='customer', encoders=customer_encoders)\n",
    "order_x, order_mapping = load_node_csv('data/order_node_attributes.csv', index_col='order', encoders=order_encoders)\n",
    "product_x, product_mapping = load_node_csv('data/product_node_attributes.csv', index_col='product', encoders=product_encoders)"
   ]
  },
  {
   "cell_type": "code",
   "execution_count": 96,
   "metadata": {},
   "outputs": [],
   "source": [
    "customer_order_edge_attr_encoders = {col_name : IdentityEncoder(dtype=torch.float32) for col_name in [\"n_products\",\"train_masks\",\"valid_masks\",\"test_masks\"]}\n",
    "customer_order_edge_label_encoders = {\"label\" : IdentityEncoder(torch.long)}\n",
    "customer_order_edge_index, customer_order_edge_attr, customer_order_edge_label = load_edge_csv('data/customer_edgelist.csv', 'customer', customer_mapping, 'order', order_mapping, attr_encoders=customer_order_edge_attr_encoders, label_encoders=customer_order_edge_label_encoders)\n",
    "order_product_edge_index, order_product_edge_attr, order_product_edge_label = load_edge_csv('data/order_edgelist.csv', 'order', order_mapping, 'product', product_mapping, label_encoders={\"label\": IdentityEncoder(torch.long)})"
   ]
  },
  {
   "cell_type": "code",
   "execution_count": 97,
   "metadata": {},
   "outputs": [
    {
     "name": "stdout",
     "output_type": "stream",
     "text": [
      "HeteroData(\n",
      "  order={ x=[849185, 2] },\n",
      "  product={ x=[58415, 2] },\n",
      "  customer={ x=[342038, 5] },\n",
      "  (customer, to, order)={\n",
      "    edge_index=[2, 849185],\n",
      "    edge_attr=[849185, 4],\n",
      "    edge_label=[849185, 1],\n",
      "  },\n",
      "  (order, to, product)={\n",
      "    edge_index=[2, 2666262],\n",
      "    edge_label=[2666262, 1],\n",
      "  },\n",
      "  (order, rev_to, customer)={\n",
      "    edge_index=[2, 849185],\n",
      "    edge_attr=[849185, 4],\n",
      "    edge_label=[849185, 1],\n",
      "  },\n",
      "  (product, rev_to, order)={\n",
      "    edge_index=[2, 2666262],\n",
      "    edge_label=[2666262, 1],\n",
      "  }\n",
      ")\n"
     ]
    }
   ],
   "source": [
    "from torch_geometric.data import HeteroData\n",
    "\n",
    "data = HeteroData()\n",
    "\n",
    "customer_mapping = []\n",
    "order_mapping = []\n",
    "item_mapping = []\n",
    "\n",
    "\n",
    "data['order'].x = order_x\n",
    "data['product'].x = product_x\n",
    "data['customer'].x = customer_x\n",
    "data['customer', 'order'].edge_index = customer_order_edge_index\n",
    "data['customer', 'order'].edge_attr = customer_order_edge_attr\n",
    "data['customer', 'order'].edge_label = customer_order_edge_label\n",
    "\n",
    "data['order',  'product'].edge_index = order_product_edge_index\n",
    "data['order',  'product'].edge_attr = order_product_edge_attr\n",
    "data['order',  'product'].edge_label = order_product_edge_label\n",
    "\n",
    "data = T.ToUndirected()(data)\n",
    "\n",
    "print(data)"
   ]
  },
  {
   "cell_type": "code",
   "execution_count": 98,
   "metadata": {},
   "outputs": [],
   "source": [
    "# DOES NOT WORK FROM HERE\n",
    "\n",
    "class GNN(torch.nn.Module):\n",
    "    def __init__(self, hidden_channels, out_channels):\n",
    "        super().__init__()\n",
    "        self.conv1 = SAGEConv((-1, -1), hidden_channels)\n",
    "        self.conv2 = SAGEConv((-1, -1), out_channels)\n",
    "\n",
    "    def forward(self, x, edge_index):\n",
    "        x = self.conv1(x, edge_index).relu()\n",
    "        x = self.conv2(x, edge_index)\n",
    "        return x\n",
    "    \n",
    "\n",
    "model = GNN(hidden_channels=64, out_channels=3)\n",
    "model = to_hetero(model, data.metadata(), aggr='sum')"
   ]
  },
  {
   "cell_type": "code",
   "execution_count": 99,
   "metadata": {},
   "outputs": [
    {
     "data": {
      "text/plain": [
       "GraphModule(\n",
       "  (conv1): ModuleDict(\n",
       "    (customer__to__order): SAGEConv((-1, -1), 64, aggr=mean)\n",
       "    (order__to__product): SAGEConv((-1, -1), 64, aggr=mean)\n",
       "    (order__rev_to__customer): SAGEConv((-1, -1), 64, aggr=mean)\n",
       "    (product__rev_to__order): SAGEConv((-1, -1), 64, aggr=mean)\n",
       "  )\n",
       "  (conv2): ModuleDict(\n",
       "    (customer__to__order): SAGEConv((-1, -1), 3, aggr=mean)\n",
       "    (order__to__product): SAGEConv((-1, -1), 3, aggr=mean)\n",
       "    (order__rev_to__customer): SAGEConv((-1, -1), 3, aggr=mean)\n",
       "    (product__rev_to__order): SAGEConv((-1, -1), 3, aggr=mean)\n",
       "  )\n",
       ")"
      ]
     },
     "execution_count": 99,
     "metadata": {},
     "output_type": "execute_result"
    }
   ],
   "source": [
    "model"
   ]
  },
  {
   "cell_type": "code",
   "execution_count": 108,
   "metadata": {},
   "outputs": [
    {
     "data": {
      "text/plain": [
       "tensor([[-1,  1,  2,  ...,  1, -1,  1]])"
      ]
     },
     "execution_count": 108,
     "metadata": {},
     "output_type": "execute_result"
    }
   ],
   "source": [
    "data['customer', 'order'].edge_label.T"
   ]
  },
  {
   "cell_type": "code",
   "execution_count": 127,
   "metadata": {},
   "outputs": [],
   "source": [
    "optimizer = torch.optim.Adam(model.parameters(), lr=0.01)\n",
    "\n",
    "def train():\n",
    "    model.train()\n",
    "    optimizer.zero_grad()\n",
    "    output = model(data.x_dict, data.edge_index_dict,\n",
    "                 )\n",
    "    # edge_attr[:,-3] - train mask\n",
    "    mask = data['customer', 'order'].edge_attr[:,-3].bool()\n",
    "    pred = F.softmax(output[\"order\"][mask], dim=-1)\n",
    "    target = data['customer', 'order'].edge_label[mask].squeeze()\n",
    "    print(output[\"order\"][mask][0])\n",
    "    loss = F.cross_entropy(pred, target)\n",
    "    loss.backward()\n",
    "    optimizer.step()\n",
    "    return float(loss)"
   ]
  },
  {
   "cell_type": "code",
   "execution_count": 129,
   "metadata": {},
   "outputs": [
    {
     "name": "stdout",
     "output_type": "stream",
     "text": [
      "tensor([ 26.1372, 308.6824,  75.3516], grad_fn=<SelectBackward0>)\n",
      "Epoch: 01, Loss: 1.1567\n",
      "tensor([ -7.7246, 344.7181, 135.9347], grad_fn=<SelectBackward0>)\n",
      "Epoch: 02, Loss: 1.1567\n",
      "tensor([-37.0440, 375.4637, 190.2463], grad_fn=<SelectBackward0>)\n",
      "Epoch: 03, Loss: 1.1566\n",
      "tensor([-62.9246, 400.9625, 239.0159], grad_fn=<SelectBackward0>)\n",
      "Epoch: 04, Loss: 1.1563\n",
      "tensor([-86.3450, 412.6218, 282.6101], grad_fn=<SelectBackward0>)\n",
      "Epoch: 05, Loss: 1.2017\n",
      "tensor([-104.6045,  458.6339,  248.4642], grad_fn=<SelectBackward0>)\n",
      "Epoch: 06, Loss: 1.1566\n",
      "tensor([-121.0403,  499.9644,  218.0501], grad_fn=<SelectBackward0>)\n",
      "Epoch: 07, Loss: 1.1567\n",
      "tensor([-135.8651,  537.5198,  191.0305], grad_fn=<SelectBackward0>)\n",
      "Epoch: 08, Loss: 1.1567\n",
      "tensor([-149.3281,  571.5295,  166.6568], grad_fn=<SelectBackward0>)\n",
      "Epoch: 09, Loss: 1.1567\n",
      "tensor([-161.5548,  602.3651,  144.6206], grad_fn=<SelectBackward0>)\n",
      "Epoch: 10, Loss: 1.1567\n",
      "tensor([-172.7263,  630.3967,  124.6418], grad_fn=<SelectBackward0>)\n",
      "Epoch: 11, Loss: 1.1567\n",
      "tensor([-182.9127,  655.8945,  106.5141], grad_fn=<SelectBackward0>)\n",
      "Epoch: 12, Loss: 1.1567\n",
      "tensor([-192.2085,  679.1135,   90.0690], grad_fn=<SelectBackward0>)\n",
      "Epoch: 13, Loss: 1.1567\n",
      "tensor([-200.6946,  700.2692,   75.1331], grad_fn=<SelectBackward0>)\n",
      "Epoch: 14, Loss: 1.1567\n"
     ]
    }
   ],
   "source": [
    "for epoch in range(1, 15):\n",
    "    loss = train()\n",
    "    print(f'Epoch: {epoch:02d}, Loss: {loss:.4f}')\n"
   ]
  },
  {
   "cell_type": "code",
   "execution_count": 114,
   "metadata": {},
   "outputs": [
    {
     "name": "stdout",
     "output_type": "stream",
     "text": [
      "torch.Size([3, 5]) torch.Size([3]) tensor(1.8807, grad_fn=<NllLossBackward0>)\n"
     ]
    }
   ],
   "source": [
    "# Example of target with class indices\n",
    "input = torch.randn(3, 5, requires_grad=True)\n",
    "target = torch.randint(5, (3,), dtype=torch.int64)\n",
    "loss = F.cross_entropy(input, target)\n",
    "\n",
    "print(input.shape, target.shape, loss)\n",
    "# Example of target with class probabilities\n",
    "# input = torch.randn(3, 5, requires_grad=True)\n",
    "# target = torch.randn(3, 5).softmax(dim=1)\n",
    "# loss = F.cross_entropy(input, target)\n"
   ]
  },
  {
   "cell_type": "code",
   "execution_count": 49,
   "metadata": {},
   "outputs": [
    {
     "data": {
      "text/plain": [
       "tensor([0., 1.])"
      ]
     },
     "execution_count": 49,
     "metadata": {},
     "output_type": "execute_result"
    }
   ],
   "source": [
    "data['customer', 'order'].edge_label.unique()\n"
   ]
  },
  {
   "cell_type": "code",
   "execution_count": null,
   "metadata": {},
   "outputs": [],
   "source": []
  }
 ],
 "metadata": {
  "kernelspec": {
   "display_name": "pytorch-env",
   "language": "python",
   "name": "python3"
  },
  "language_info": {
   "codemirror_mode": {
    "name": "ipython",
    "version": 3
   },
   "file_extension": ".py",
   "mimetype": "text/x-python",
   "name": "python",
   "nbconvert_exporter": "python",
   "pygments_lexer": "ipython3",
   "version": "3.11.4"
  }
 },
 "nbformat": 4,
 "nbformat_minor": 2
}
