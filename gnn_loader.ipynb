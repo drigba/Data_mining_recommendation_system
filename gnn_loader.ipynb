{
 "cells": [
  {
   "cell_type": "code",
   "execution_count": 1,
   "metadata": {},
   "outputs": [
    {
     "name": "stderr",
     "output_type": "stream",
     "text": [
      "c:\\Users\\banfi\\anaconda3\\envs\\pytorch-env\\Lib\\site-packages\\pandas\\core\\arrays\\masked.py:60: UserWarning: Pandas requires version '1.3.6' or newer of 'bottleneck' (version '1.3.5' currently installed).\n",
      "  from pandas.core import (\n"
     ]
    }
   ],
   "source": [
    "import torch\n",
    "import pandas as pd\n",
    "from torch_geometric.nn import HeteroConv, Linear, SAGEConv, GATConv, to_hetero\n",
    "import torch.nn.functional as F\n",
    "import torch_geometric.transforms as T\n",
    "from torch_geometric.profile import count_parameters\n",
    "\n"
   ]
  },
  {
   "cell_type": "code",
   "execution_count": 2,
   "metadata": {},
   "outputs": [],
   "source": [
    "# device = torch.device('cuda' if torch.cuda.is_available() else 'cpu')\n",
    "device = torch.device('cpu')"
   ]
  },
  {
   "cell_type": "code",
   "execution_count": 3,
   "metadata": {},
   "outputs": [],
   "source": [
    "import itertools\n",
    "\n",
    "ATTRIBUTE_ENCODING_LENGTH = 10\n",
    "EXTRA_NODE_TYPES = [\"order\", \"customer\"]\n",
    "NUM_CATEGORIES = 32\n",
    "NUM_SIZES = 29\n",
    "NUM_COLORS = 642\n",
    "\n",
    "pairs = list(itertools.product(range(NUM_CATEGORIES), range(NUM_SIZES)))\n",
    "CATGORY_SIZE_INDEX = {pair: i for i, pair in enumerate(pairs)}\n"
   ]
  },
  {
   "cell_type": "code",
   "execution_count": 4,
   "metadata": {},
   "outputs": [],
   "source": [
    "class IdentityEncoder:\n",
    "    def __init__(self, dtype=None):\n",
    "        self.dtype = dtype\n",
    "\n",
    "    def __call__(self, df):\n",
    "        return torch.from_numpy(df.values).view(-1, 1).to(self.dtype)\n",
    "    \n",
    "class PairToOneEncoder:\n",
    "    def __init__(self, dtype=None):\n",
    "        self.dtype = dtype\n",
    "\n",
    "    def __call__(self, df):\n",
    "        v = df.apply(lambda x: CATGORY_SIZE_INDEX[tuple(x)], axis=1)\n",
    "        return torch.from_numpy(v.values).view(-1, 1).to(self.dtype)"
   ]
  },
  {
   "cell_type": "code",
   "execution_count": 5,
   "metadata": {},
   "outputs": [],
   "source": [
    "def load_node_csv(path, index_col, encoders=None, **kwargs):\n",
    "    df = pd.read_csv(path, index_col=index_col, **kwargs)\n",
    "    mapping = {index: i for i, index in enumerate(df.index.unique())}\n",
    "\n",
    "    x = None\n",
    "    if encoders is not None:\n",
    "        xs = [encoder(df[col]) for col, encoder in encoders.items()]\n",
    "        x = torch.cat(xs, dim=-1)\n",
    "\n",
    "    return x, mapping"
   ]
  },
  {
   "cell_type": "code",
   "execution_count": 6,
   "metadata": {},
   "outputs": [],
   "source": [
    "def load_edge_csv(path, src_index_col, src_mapping, dst_index_col, dst_mapping,\n",
    "                  attr_encoders=None,label_encoders = None ,**kwargs):\n",
    "    df = pd.read_csv(path, **kwargs)\n",
    "\n",
    "    src = [src_mapping[index] for index in df[src_index_col]]\n",
    "    dst = [dst_mapping[index] for index in df[dst_index_col]]\n",
    "    edge_index = torch.tensor([src, dst])\n",
    "\n",
    "    edge_attr = None\n",
    "    edge_label = None\n",
    "    \n",
    "    if attr_encoders is not None:\n",
    "        edge_attrs = [encoder(df[col]) for col, encoder in attr_encoders.items()]\n",
    "        edge_attr = torch.cat(edge_attrs, dim=-1)\n",
    "    if label_encoders is not None:\n",
    "        edge_labels = [encoder(df[col]) for col, encoder in label_encoders.items()]\n",
    "        edge_label = torch.cat(edge_labels, dim=-1)\n",
    "\n",
    "    return edge_index, edge_attr, edge_label"
   ]
  },
  {
   "cell_type": "code",
   "execution_count": 7,
   "metadata": {},
   "outputs": [],
   "source": [
    "customer_encoders = {col_name : IdentityEncoder(dtype=torch.float32) for col_name in [\"n_orders\",\"n_not_returned\",\"n_partial_returned\",\"n_fully_returned\",\"n_products\"]}\n",
    "order_encoders = {col_name : IdentityEncoder(dtype=torch.float32) for col_name in [\"n_products\"]}\n",
    "# product_encoders = {col_name : IdentityEncoder(dtype=torch.float32) for col_name in [\"n_orders\", \"n_returned\", \"n_customers\"]}\n",
    "product_encoders = {col_name : IdentityEncoder(dtype=torch.float32) for col_name in [\"return_rate\"]}\n",
    "customer_x, customer_mapping = load_node_csv('data/customer_node_attributes.csv', index_col='customer', encoders=customer_encoders)\n",
    "order_x, order_mapping = load_node_csv('data/order_node_attributes.csv', index_col='order', encoders=order_encoders)\n",
    "# product_x, product_mapping = load_node_csv('data/product_node_attributes.csv', index_col='product', encoders=product_encoders)\n",
    "product_x, product_mapping = load_node_csv('product_stats.csv', index_col='product', encoders=product_encoders)\n"
   ]
  },
  {
   "cell_type": "code",
   "execution_count": 8,
   "metadata": {},
   "outputs": [],
   "source": [
    "customer_order_edge_attr_encoders = {col_name : IdentityEncoder(dtype=torch.float32) for col_name in [\"n_products\",\"train_masks\",\"valid_masks\",\"test_masks\"]}\n",
    "customer_order_edge_label_encoders = {\"label\" : IdentityEncoder(torch.long)}\n",
    "order_product_edge_attr_encoders = {col_name : IdentityEncoder(dtype=torch.long) for col_name in [\"color\", \"size\"]}\n",
    "order_product_edge_label_encoders = {\"label\" : IdentityEncoder(torch.long)}\n",
    "\n",
    "customer_order_edge_index, customer_order_edge_attr, customer_order_edge_label = load_edge_csv('data/customer_edgelist.csv', \n",
    "                                                                                               'customer', customer_mapping, \n",
    "                                                                                               'order', order_mapping, \n",
    "                                                                                               attr_encoders=customer_order_edge_attr_encoders, \n",
    "                                                                                               label_encoders=customer_order_edge_label_encoders)\n",
    "order_product_edge_index, order_product_edge_attr, order_product_edge_label = load_edge_csv('data/order_edgelist.csv',\n",
    "                                                                                            'order', order_mapping, \n",
    "                                                                                            'product', product_mapping, \n",
    "                                                                                            attr_encoders=order_product_edge_attr_encoders,\n",
    "                                                                                            label_encoders=order_product_edge_label_encoders)"
   ]
  },
  {
   "cell_type": "code",
   "execution_count": 9,
   "metadata": {},
   "outputs": [
    {
     "data": {
      "text/plain": [
       "tensor([[611,  10],\n",
       "        [611,  17],\n",
       "        [398,  10],\n",
       "        ...,\n",
       "        [406,  17],\n",
       "        [269,  24],\n",
       "        [302,  24]])"
      ]
     },
     "execution_count": 9,
     "metadata": {},
     "output_type": "execute_result"
    }
   ],
   "source": [
    "order_product_edge_attr"
   ]
  },
  {
   "cell_type": "code",
   "execution_count": 10,
   "metadata": {},
   "outputs": [
    {
     "name": "stdout",
     "output_type": "stream",
     "text": [
      "HeteroData(\n",
      "  order={ x=[849185, 1] },\n",
      "  product={ x=[58415, 1] },\n",
      "  customer={ x=[342038, 5] },\n",
      "  (customer, to, order)={\n",
      "    edge_index=[2, 849185],\n",
      "    edge_attr=[849185],\n",
      "    edge_mask=[849185, 3],\n",
      "    edge_label=[849185, 1],\n",
      "  },\n",
      "  (order, to, product)={\n",
      "    edge_index=[2, 2280200],\n",
      "    edge_attr=[2280200, 2],\n",
      "    edge_label=[2280200, 1],\n",
      "  },\n",
      "  (order, rev_to, customer)={\n",
      "    edge_index=[2, 849185],\n",
      "    edge_attr=[849185],\n",
      "    edge_mask=[849185, 3],\n",
      "  },\n",
      "  (product, rev_to, order)={\n",
      "    edge_index=[2, 2280200],\n",
      "    edge_attr=[2280200, 2],\n",
      "  }\n",
      ")\n"
     ]
    }
   ],
   "source": [
    "from torch_geometric.data import HeteroData\n",
    "\n",
    "data = HeteroData()\n",
    "\n",
    "customer_mapping = []\n",
    "order_mapping = []\n",
    "item_mapping = []\n",
    "\n",
    "# Try not using features but learning embeddings for nodes\n",
    "data['order'].x = order_x\n",
    "# data['order'].num_nodes = len(order_x)\n",
    "data['product'].x = product_x\n",
    "data['customer'].x = customer_x\n",
    "# data['customer'].num_nodes = len(customer_x)\n",
    "data['customer', 'order'].edge_index = customer_order_edge_index\n",
    "data['customer', 'order'].edge_attr = customer_order_edge_attr[:,0]\n",
    "data['customer', 'order'].edge_mask = customer_order_edge_attr[:,1:]\n",
    "data['customer', 'order'].edge_label = customer_order_edge_label\n",
    "\n",
    "data['order',  'product'].edge_index = order_product_edge_index\n",
    "data['order',  'product'].edge_attr = order_product_edge_attr\n",
    "data['order',  'product'].edge_label = order_product_edge_label\n",
    "\n",
    "data = T.ToUndirected()(data)\n",
    "data = data.to(device)\n",
    "del data['order', 'rev_to', 'customer'].edge_label\n",
    "del data['product', 'rev_to', 'order'].edge_label\n",
    "print(data)"
   ]
  },
  {
   "cell_type": "code",
   "execution_count": 11,
   "metadata": {},
   "outputs": [
    {
     "data": {
      "text/plain": [
       "tensor([[611,  10],\n",
       "        [611,  17],\n",
       "        [398,  10],\n",
       "        ...,\n",
       "        [406,  17],\n",
       "        [269,  24],\n",
       "        [302,  24]])"
      ]
     },
     "execution_count": 11,
     "metadata": {},
     "output_type": "execute_result"
    }
   ],
   "source": [
    "data[(\"order\", \"to\", \"product\")][\"edge_attr\"]"
   ]
  },
  {
   "cell_type": "code",
   "execution_count": 12,
   "metadata": {},
   "outputs": [],
   "source": [
    "from torch_geometric.nn import HANConv\n",
    "\n",
    "class HAN(torch.nn.Module):\n",
    "    def __init__(self, in_channels: int,\n",
    "                 out_channels: int, hidden_channels=128, heads=8):\n",
    "        super().__init__()\n",
    "        self.han_conv = HANConv(in_channels, hidden_channels, heads=heads,\n",
    "                                dropout=0.6, metadata=data.metadata())\n",
    "        self.lin = torch.nn.Linear(hidden_channels, out_channels)\n",
    "\n",
    "    def forward(self, x_dict, edge_index_dict, edge_attr_dict=None):\n",
    "        out = self.han_conv(x_dict, edge_index_dict)\n",
    "        out = self.lin(out[\"order\"])\n",
    "        return out"
   ]
  },
  {
   "cell_type": "code",
   "execution_count": 13,
   "metadata": {},
   "outputs": [],
   "source": [
    "from torch_geometric.utils import trim_to_layer\n",
    "\n",
    "\n",
    "\n",
    "class GAT(torch.nn.Module):\n",
    "    def __init__(self, hidden_channels, out_channels):\n",
    "        super().__init__()\n",
    "        self.conv1 = GATConv((-1, -1), hidden_channels, add_self_loops=False)\n",
    "        self.lin1 = Linear(-1, hidden_channels)\n",
    "        # self.conv2 = GATConv((-1, -1), hidden_channels, add_self_loops=False)\n",
    "        # self.lin2  = Linear(-1, hidden_channels)\n",
    "        self.conv_final = GATConv((-1, -1), out_channels, add_self_loops=False)\n",
    "        self.lin_final = Linear(-1, out_channels)\n",
    "        \n",
    "\n",
    "    def forward(self, x, edge_index, edge_attr):\n",
    "    \n",
    "        x = self.conv1(x, edge_index,edge_attr) + self.lin1(x)\n",
    "        x = x.relu()\n",
    "        # x = self.conv2(x, edge_index,edge_attr) + self.lin2(x)\n",
    "        # x = x.relu()\n",
    "        x = self.conv_final(x, edge_index,edge_attr) + self.lin_final(x)\n",
    "        return x\n",
    "    \n",
    "class GNN(torch.nn.Module):\n",
    "    def __init__(self, hidden_channels, out_channels):\n",
    "        super().__init__()\n",
    "        self.conv1 = SAGEConv((-1, -1), hidden_channels)\n",
    "        self.conv2 = SAGEConv((-1, -1), out_channels)\n",
    "        \n",
    "\n",
    "    def forward(self, x, edge_index, edge_attr):\n",
    "        print(x.shape, edge_index.shape, edge_attr.shape)\n",
    "        x = self.conv1(x, edge_index).relu()\n",
    "        print(x.shape)\n",
    "        x = self.conv2(x, edge_index)\n",
    "        print(\"2\",x.shape)\n",
    "        return x"
   ]
  },
  {
   "cell_type": "code",
   "execution_count": 14,
   "metadata": {},
   "outputs": [],
   "source": [
    "import copy\n",
    "# GNN + Node embedding\n",
    "class MyModel(torch.nn.Module):\n",
    "    def __init__(self, model, embedding_dim):\n",
    "        super(MyModel, self).__init__()\n",
    "        self.model = model\n",
    "        # node_embeddings = {\n",
    "        #         nt: torch.nn.Embedding(data[nt][\"num_nodes\"], embedding_dim)\n",
    "        #             for nt in EXTRA_NODE_TYPES\n",
    "        #         }\n",
    "        # self.node_embeddings = torch.nn.ModuleDict(node_embeddings)\n",
    "\n",
    "        # feature_embeddings = {}\n",
    "        # feature_embeddings[\"color\"] = torch.nn.Embedding(NUM_COLORS, embedding_dim)\n",
    "        # feature_embeddings[\"category\"] = torch.nn.Embedding(NUM_CATEGORIES, embedding_dim)\n",
    "        # feature_embeddings[\"size\"] = torch.nn.Embedding(NUM_SIZES, embedding_dim)\n",
    "        # self.feature_embeddings = torch.nn.ModuleDict(feature_embeddings)\n",
    "        \n",
    "        self.classifier = Linear(2*embedding_dim, 3)\n",
    "        \n",
    "\n",
    "    def forward(self, x, edge_index, edge_attr):\n",
    "        \n",
    "        x = copy.copy(x)\n",
    "        edge_index = copy.copy(edge_index)\n",
    "        edge_attr = copy.copy(edge_attr)    \n",
    "        # for nt in EXTRA_NODE_TYPES:\n",
    "        #         x[nt] = self.node_embeddings[nt].weight\n",
    "        # x[\"product\"] = self.product_lin(x[\"product\"])\n",
    "        # c_e = self.feature_embeddings[\"color\"](edge_attr[('order', 'to', 'product')][:,0])\n",
    "        # s_e = self.feature_embeddings[\"size\"](edge_attr[('order', 'to', 'product')][:,1]) \n",
    "        # edge_attr[('order', 'to', 'product')] = torch.cat([c_e,s_e],dim=-1)\n",
    "        # print(x.keys(), edge_index.keys())  \n",
    "        output =  self.model(x, edge_index,edge_attr)\n",
    "        o_p_index = edge_index[('customer', 'to', 'order')]  \n",
    "        c_f = output[\"customer\"][o_p_index[0]]\n",
    "        o_f = output[\"order\"][o_p_index[1]]\n",
    "        # print(c_f.shape, o_f.shape, edge_attr[(\"customer\", \"to\", \"order\")][:,0].unsqueeze(-1).shape)\n",
    "        f = torch.cat([c_f,o_f],dim=-1)\n",
    "        pred = self.classifier(f)\n",
    "        return pred"
   ]
  },
  {
   "cell_type": "code",
   "execution_count": 15,
   "metadata": {},
   "outputs": [
    {
     "data": {
      "text/plain": [
       "tensor([1., 4., 1.,  ..., 7., 3., 6.])"
      ]
     },
     "execution_count": 15,
     "metadata": {},
     "output_type": "execute_result"
    }
   ],
   "source": [
    "data.edge_attr_dict[\"customer\",\"to\",\"order\"]"
   ]
  },
  {
   "cell_type": "code",
   "execution_count": 16,
   "metadata": {},
   "outputs": [],
   "source": [
    "@torch.no_grad()\n",
    "def init_params(n_model):\n",
    "    # Initialize lazy parameters via forwarding a single batch to the model:\n",
    "    output = n_model(data.x_dict, data.edge_index_dict, data.edge_attr_dict)\n",
    "    return output"
   ]
  },
  {
   "cell_type": "code",
   "execution_count": 18,
   "metadata": {},
   "outputs": [],
   "source": [
    "# Models learn, overfit but does not generalize\n",
    "embedding_dim = 3\n",
    "model = GAT(hidden_channels =  16,out_channels =embedding_dim)\n",
    "model = to_hetero(model, data.metadata(), aggr='sum').to(device)\n",
    "# model = HAN(in_channels = -1, out_channels = 3, hidden_channels=64, heads=8).to(device)\n",
    "embedded_model = MyModel(model, embedding_dim=embedding_dim).to(device)\n",
    "optimizer = torch.optim.Adam(embedded_model.parameters(), lr=0.001)\n",
    "\n",
    "# https://github.com/pyg-team/pytorch_geometric/issues/3604\n",
    "# Learn embeddings\n",
    "output = init_params(embedded_model)"
   ]
  },
  {
   "cell_type": "code",
   "execution_count": 23,
   "metadata": {},
   "outputs": [],
   "source": [
    "\n",
    "def train(model):\n",
    "    model.train()\n",
    "    optimizer.zero_grad()\n",
    "    output = model(data.x_dict, data.edge_index_dict,data.edge_attr_dict\n",
    "                 )\n",
    "    # edge_attr[:,-3] - train mask\n",
    "    mask = data['customer', 'order'].edge_mask[:,-3].bool()\n",
    "\n",
    "    pred = F.softmax(output[mask], dim=-1)\n",
    "    target = data['customer', 'order'].edge_label[mask].squeeze()\n",
    "    loss = F.cross_entropy(pred, target)\n",
    "    loss.backward()\n",
    "    optimizer.step()\n",
    "    return float(loss)"
   ]
  },
  {
   "cell_type": "code",
   "execution_count": 25,
   "metadata": {},
   "outputs": [],
   "source": [
    "from tqdm import tqdm\n",
    "@torch.no_grad()\n",
    "def test(model, test_set):\n",
    "    model.eval()\n",
    "    output = model(data.x_dict, data.edge_index_dict,data.edge_attr_dict\n",
    "                 )\n",
    "    # edge_attr[:,-3] - train mask\n",
    "    if test_set == \"train\":\n",
    "        mask_index = -3\n",
    "    elif test_set == \"valid\":\n",
    "        mask_index = -2\n",
    "    elif test_set == \"test\":\n",
    "        mask_index = -1\n",
    "    else:\n",
    "        raise ValueError(\"Invalid set for testing\")\n",
    "    mask = data['customer', 'order'].edge_mask[:,mask_index].bool()\n",
    "    pred = F.softmax(output[mask], dim=-1)\n",
    "    target = data['customer', 'order'].edge_label[mask].squeeze()\n",
    "    pred = pred.argmax(dim=-1)\n",
    "    total_correct = pred.eq(target).sum().item()\n",
    "    total_0 = pred.eq(0).sum().item()\n",
    "    total_1 = pred.eq(1).sum().item()\n",
    "    total_2 = pred.eq(2).sum().item()\n",
    "    print(f\"Total correct: {total_correct}, Total 0: {total_0}, Total 1: {total_1}, Total 2: {total_2}\")\n",
    "    \n",
    "\n",
    "\n",
    "    return total_correct / mask.sum().item(), total_0/ mask.sum().item(), total_1/ mask.sum().item(), total_2/ mask.sum().item()"
   ]
  },
  {
   "cell_type": "code",
   "execution_count": 26,
   "metadata": {},
   "outputs": [
    {
     "name": "stdout",
     "output_type": "stream",
     "text": [
      "Epoch: 01, Loss: 1.0859\n",
      "Epoch: 02, Loss: 1.0838\n",
      "Epoch: 03, Loss: 1.0816\n",
      "Epoch: 04, Loss: 1.0793\n",
      "Epoch: 05, Loss: 1.0769\n",
      "Epoch: 06, Loss: 1.0742\n",
      "Epoch: 07, Loss: 1.0712\n",
      "Epoch: 08, Loss: 1.0678\n",
      "Epoch: 09, Loss: 1.0640\n",
      "Epoch: 10, Loss: 1.0600\n",
      "Total correct: 235608, Total 0: 1342, Total 1: 593029, Total 2: 59\n",
      "Total correct: 49558, Total 0: 309, Total 1: 127058, Total 2: 10\n",
      "Train accuracy: 0.39635953770839294\n",
      "Valid accuracy: 0.389065529883731\n",
      "Epoch: 11, Loss: 1.0556\n",
      "Epoch: 12, Loss: 1.0509\n",
      "Epoch: 13, Loss: 1.0465\n",
      "Epoch: 14, Loss: 1.0432\n",
      "Epoch: 15, Loss: 1.0419\n",
      "Epoch: 16, Loss: 1.0421\n",
      "Epoch: 17, Loss: 1.0413\n",
      "Epoch: 18, Loss: 1.0389\n",
      "Epoch: 19, Loss: 1.0358\n",
      "Epoch: 20, Loss: 1.0328\n",
      "Total correct: 257306, Total 0: 61758, Total 1: 527334, Total 2: 5338\n",
      "Total correct: 54188, Total 0: 13423, Total 1: 112843, Total 2: 1111\n",
      "Train accuracy: 0.4328617330888414\n",
      "Valid accuracy: 0.4254143212667907\n",
      "Epoch: 21, Loss: 1.0304\n",
      "Epoch: 22, Loss: 1.0281\n",
      "Epoch: 23, Loss: 1.0263\n",
      "Epoch: 24, Loss: 1.0247\n",
      "Epoch: 25, Loss: 1.0231\n",
      "Epoch: 26, Loss: 1.0214\n",
      "Epoch: 27, Loss: 1.0195\n",
      "Epoch: 28, Loss: 1.0175\n",
      "Epoch: 29, Loss: 1.0154\n",
      "Epoch: 30, Loss: 1.0134\n",
      "Total correct: 299620, Total 0: 67313, Total 1: 476845, Total 2: 50272\n",
      "Total correct: 63413, Total 0: 14514, Total 1: 101916, Total 2: 10947\n",
      "Train accuracy: 0.5040458927039349\n",
      "Valid accuracy: 0.4978371291520447\n",
      "Epoch: 31, Loss: 1.0115\n",
      "Epoch: 32, Loss: 1.0098\n",
      "Epoch: 33, Loss: 1.0083\n",
      "Epoch: 34, Loss: 1.0069\n",
      "Epoch: 35, Loss: 1.0054\n",
      "Epoch: 36, Loss: 1.0037\n",
      "Epoch: 37, Loss: 1.0020\n",
      "Epoch: 38, Loss: 1.0003\n",
      "Epoch: 39, Loss: 0.9985\n",
      "Epoch: 40, Loss: 0.9968\n",
      "Total correct: 359714, Total 0: 164266, Total 1: 377224, Total 2: 52940\n",
      "Total correct: 76565, Total 0: 35970, Total 1: 79989, Total 2: 11418\n",
      "Train accuracy: 0.6051410595023804\n",
      "Valid accuracy: 0.6010896786704036\n",
      "Epoch: 41, Loss: 0.9952\n",
      "Epoch: 42, Loss: 0.9936\n",
      "Epoch: 43, Loss: 0.9920\n",
      "Epoch: 44, Loss: 0.9903\n",
      "Epoch: 45, Loss: 0.9887\n",
      "Epoch: 46, Loss: 0.9870\n",
      "Epoch: 47, Loss: 0.9853\n",
      "Epoch: 48, Loss: 0.9836\n",
      "Epoch: 49, Loss: 0.9819\n",
      "Epoch: 50, Loss: 0.9802\n",
      "Total correct: 375610, Total 0: 211577, Total 1: 341523, Total 2: 41330\n",
      "Total correct: 80109, Total 0: 46352, Total 1: 72029, Total 2: 8996\n",
      "Train accuracy: 0.6318826438773278\n",
      "Valid accuracy: 0.6289125980357522\n",
      "Epoch: 51, Loss: 0.9784\n",
      "Epoch: 52, Loss: 0.9767\n",
      "Epoch: 53, Loss: 0.9749\n",
      "Epoch: 54, Loss: 0.9732\n",
      "Epoch: 55, Loss: 0.9715\n",
      "Epoch: 56, Loss: 0.9697\n",
      "Epoch: 57, Loss: 0.9680\n",
      "Epoch: 58, Loss: 0.9662\n",
      "Epoch: 59, Loss: 0.9645\n",
      "Epoch: 60, Loss: 0.9627\n",
      "Total correct: 380754, Total 0: 251722, Total 1: 297727, Total 2: 44981\n",
      "Total correct: 81143, Total 0: 55268, Total 1: 62329, Total 2: 9780\n",
      "Train accuracy: 0.6405363120973033\n",
      "Valid accuracy: 0.6370302330876061\n",
      "Epoch: 61, Loss: 0.9609\n",
      "Epoch: 62, Loss: 0.9592\n",
      "Epoch: 63, Loss: 0.9574\n",
      "Epoch: 64, Loss: 0.9556\n",
      "Epoch: 65, Loss: 0.9539\n",
      "Epoch: 66, Loss: 0.9521\n",
      "Epoch: 67, Loss: 0.9504\n",
      "Epoch: 68, Loss: 0.9487\n",
      "Epoch: 69, Loss: 0.9469\n",
      "Epoch: 70, Loss: 0.9451\n",
      "Total correct: 379777, Total 0: 270961, Total 1: 280418, Total 2: 43051\n",
      "Total correct: 80839, Total 0: 59528, Total 1: 58546, Total 2: 9303\n",
      "Train accuracy: 0.6388927207577006\n",
      "Valid accuracy: 0.6346436169795175\n",
      "Epoch: 71, Loss: 0.9433\n",
      "Epoch: 72, Loss: 0.9415\n",
      "Epoch: 73, Loss: 0.9398\n",
      "Epoch: 74, Loss: 0.9380\n",
      "Epoch: 75, Loss: 0.9363\n",
      "Epoch: 76, Loss: 0.9345\n",
      "Epoch: 77, Loss: 0.9327\n",
      "Epoch: 78, Loss: 0.9310\n",
      "Epoch: 79, Loss: 0.9292\n",
      "Epoch: 80, Loss: 0.9274\n",
      "Total correct: 387566, Total 0: 265157, Total 1: 279095, Total 2: 50178\n",
      "Total correct: 82594, Total 0: 58258, Total 1: 58248, Total 2: 10871\n",
      "Train accuracy: 0.6519960298100701\n",
      "Valid accuracy: 0.6484216145771999\n",
      "Epoch: 81, Loss: 0.9257\n",
      "Epoch: 82, Loss: 0.9239\n",
      "Epoch: 83, Loss: 0.9222\n",
      "Epoch: 84, Loss: 0.9205\n",
      "Epoch: 85, Loss: 0.9188\n",
      "Epoch: 86, Loss: 0.9171\n",
      "Epoch: 87, Loss: 0.9154\n",
      "Epoch: 88, Loss: 0.9138\n",
      "Epoch: 89, Loss: 0.9121\n",
      "Epoch: 90, Loss: 0.9105\n",
      "Total correct: 400561, Total 0: 252303, Total 1: 277988, Total 2: 64139\n",
      "Total correct: 85415, Total 0: 55291, Total 1: 58100, Total 2: 13986\n",
      "Train accuracy: 0.673857308682267\n",
      "Valid accuracy: 0.6705684699749562\n",
      "Epoch: 91, Loss: 0.9089\n",
      "Epoch: 92, Loss: 0.9073\n",
      "Epoch: 93, Loss: 0.9057\n",
      "Epoch: 94, Loss: 0.9042\n",
      "Epoch: 95, Loss: 0.9026\n",
      "Epoch: 96, Loss: 0.9011\n",
      "Epoch: 97, Loss: 0.8995\n",
      "Epoch: 98, Loss: 0.8980\n",
      "Epoch: 99, Loss: 0.8964\n",
      "Epoch: 100, Loss: 0.8949\n",
      "Total correct: 416083, Total 0: 241053, Total 1: 273934, Total 2: 79443\n",
      "Total correct: 88737, Total 0: 52890, Total 1: 57131, Total 2: 17356\n",
      "Train accuracy: 0.6999697188903655\n",
      "Valid accuracy: 0.6966485315245295\n"
     ]
    }
   ],
   "source": [
    "losses = []\n",
    "train_accs = []\n",
    "valid_accs = []\n",
    "valid_dist = []\n",
    "for epoch in range(1, 101):\n",
    "    loss = train(embedded_model)\n",
    "    losses.append(loss)\n",
    "    \n",
    "    print(f'Epoch: {epoch:02d}, Loss: {loss:.4f}')\n",
    "    if epoch % 10 == 0:\n",
    "        train_acc, _, _, _ = test(embedded_model, \"train\")\n",
    "        valid_acc, z, o,t = test(embedded_model, \"valid\")\n",
    "        train_accs.append(train_acc)\n",
    "        valid_accs.append(valid_acc)\n",
    "        valid_dist.append([z,o,t])\n",
    "        print(f\"Train accuracy: {train_acc}\")\n",
    "        print(f\"Valid accuracy: {valid_acc}\")\n",
    "\n",
    "\n",
    "    \n"
   ]
  },
  {
   "cell_type": "code",
   "execution_count": 28,
   "metadata": {},
   "outputs": [
    {
     "data": {
      "text/plain": [
       "<Axes: >"
      ]
     },
     "execution_count": 28,
     "metadata": {},
     "output_type": "execute_result"
    },
    {
     "data": {
      "image/png": "[encoded data removed]",
      "text/plain": [
       "<Figure size 640x480 with 2 Axes>"
      ]
     },
     "metadata": {},
     "output_type": "display_data"
    }
   ],
   "source": [
    "from sklearn.metrics import confusion_matrix\n",
    "import seaborn as sns\n",
    "embedded_model.eval()\n",
    "output = embedded_model(data.x_dict, data.edge_index_dict,data.edge_attr_dict\n",
    "                )\n",
    "mask_index = -2\n",
    "mask = data['customer', 'order'].edge_mask[:,mask_index].bool()\n",
    "pred = F.softmax(output[mask], dim=-1)\n",
    "target = data['customer', 'order'].edge_label[mask].squeeze()\n",
    "pred = pred.argmax(dim=-1)\n",
    "\n",
    "cfm = confusion_matrix(target.cpu().numpy(), pred.cpu().numpy())\n",
    "sns.heatmap(cfm, annot=True, fmt='d', cmap='Blues')"
   ]
  },
  {
   "cell_type": "code",
   "execution_count": 29,
   "metadata": {},
   "outputs": [
    {
     "data": {
      "image/png": "[encoded data removed]",
      "text/plain": [
       "<Figure size 640x480 with 1 Axes>"
      ]
     },
     "metadata": {},
     "output_type": "display_data"
    }
   ],
   "source": [
    "import matplotlib.pyplot as plt\n",
    "plt.plot(losses)\n",
    "\n",
    "plt.legend([\"Loss\"])\n",
    "plt.show()"
   ]
  },
  {
   "cell_type": "code",
   "execution_count": 30,
   "metadata": {},
   "outputs": [
    {
     "data": {
      "image/png": "[encoded data removed]",
      "text/plain": [
       "<Figure size 640x480 with 1 Axes>"
      ]
     },
     "metadata": {},
     "output_type": "display_data"
    }
   ],
   "source": [
    "import numpy as np\n",
    "plt.plot(train_accs)\n",
    "plt.plot(valid_accs)\n",
    "plt.xticks(np.arange(0, 51, 10), np.arange(0, 510, 100))  # Set the x-ticks\n",
    "\n",
    "plt.legend([\"Train Accuracy\", \"Valid Accuracy\"])\n",
    "plt.show()"
   ]
  },
  {
   "cell_type": "code",
   "execution_count": 31,
   "metadata": {},
   "outputs": [
    {
     "data": {
      "image/png": "[encoded data removed]",
      "text/plain": [
       "<Figure size 640x480 with 1 Axes>"
      ]
     },
     "metadata": {},
     "output_type": "display_data"
    }
   ],
   "source": [
    "import numpy as np\n",
    "valid_dist = np.array(valid_dist)\n",
    "plt.plot(valid_dist[:,0])\n",
    "plt.plot(valid_dist[:,1])\n",
    "plt.plot(valid_dist[:,2])\n",
    "plt.legend([\"No return\", \"Partial return\", \"Full return\"])\n",
    "plt.show()"
   ]
  }
 ],
 "metadata": {
  "kernelspec": {
   "display_name": "pytorch-env",
   "language": "python",
   "name": "python3"
  },
  "language_info": {
   "codemirror_mode": {
    "name": "ipython",
    "version": 3
   },
   "file_extension": ".py",
   "mimetype": "text/x-python",
   "name": "python",
   "nbconvert_exporter": "python",
   "pygments_lexer": "ipython3",
   "version": "3.11.4"
  }
 },
 "nbformat": 4,
 "nbformat_minor": 2
}
