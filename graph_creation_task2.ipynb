{
 "cells": [
  {
   "cell_type": "code",
   "execution_count": 14,
   "id": "initial_id",
   "metadata": {
    "ExecuteTime": {
     "end_time": "2024-04-29T13:35:12.460059Z",
     "start_time": "2024-04-29T13:35:12.457021Z"
    },
    "collapsed": true
   },
   "outputs": [],
   "source": [
    "import pandas as pd\n",
    "import numpy as np\n",
    "import os\n",
    "\n",
    "pd.set_option('display.max_columns', None)"
   ]
  },
  {
   "cell_type": "markdown",
   "id": "7949a953c19a3d17",
   "metadata": {},
   "source": [
    "# Load Dataset"
   ]
  },
  {
   "cell_type": "code",
   "execution_count": 15,
   "id": "8ebd6bc3",
   "metadata": {},
   "outputs": [],
   "source": [
    "SAVE_PATH = \"data/task2/\""
   ]
  },
  {
   "cell_type": "code",
   "execution_count": 16,
   "id": "15f2144c",
   "metadata": {},
   "outputs": [],
   "source": [
    "if not os.path.exists(SAVE_PATH):\n",
    "    os.makedirs(SAVE_PATH)\n"
   ]
  },
  {
   "cell_type": "code",
   "execution_count": 17,
   "id": "8e3d2f1e",
   "metadata": {},
   "outputs": [],
   "source": [
    "def load_data(task):\n",
    "    df = pd.read_csv(task+\"_data.txt\")\n",
    "    if task == \"task2\":\n",
    "        train_labels = pd.read_csv(task+\"_train_label.txt\", header=None, sep=\"\\t\", names=[\"order\",\"product\", \"label\"])\n",
    "        valid_labels = pd.read_csv(task+\"_valid_label.txt\", header=None, sep=\"\\t\", names=[\"order\", \"product\",\"label\"])\n",
    "        test_query = pd.read_csv(task+\"_test_query.txt\",header=None,sep=\"\\t\", names=[\"order\", \"product\"])\n",
    "    else:\n",
    "        train_labels = pd.read_csv(task+\"_train_label.txt\", header=None, sep=\"\\t\", names=[\"order\", \"label\"])\n",
    "        valid_labels = pd.read_csv(task+\"_valid_label.txt\", header=None, sep=\"\\t\", names=[\"order\", \"label\"])\n",
    "        test_query = pd.read_csv(task+\"_test_query.txt\",header=None,sep=\"\\t\", names=[\"order\"])\n",
    "    test_query[\"label\"] = -1\n",
    "    return df, train_labels, valid_labels, test_query"
   ]
  },
  {
   "cell_type": "code",
   "execution_count": 18,
   "id": "1a61330c",
   "metadata": {},
   "outputs": [],
   "source": [
    "task = \"task2\""
   ]
  },
  {
   "cell_type": "code",
   "execution_count": 19,
   "id": "c7c1d45b",
   "metadata": {},
   "outputs": [],
   "source": [
    "\n",
    "df, train_labels, valid_labels, test_query = load_data(task=\"task2\")\n",
    "labels = pd.concat([train_labels, valid_labels, test_query])\n"
   ]
  },
  {
   "cell_type": "code",
   "execution_count": 20,
   "id": "8b084f72",
   "metadata": {},
   "outputs": [],
   "source": [
    "def split_df(df, labels,train_labels, valid_labels, test_query):\n",
    "    train_df = df.merge(train_labels)\n",
    "    valid_df = df.merge(valid_labels)\n",
    "    test_df = df.merge(test_query)\n",
    "    df = df.merge(labels)\n",
    "\n",
    "    return df,train_df, valid_df, test_df"
   ]
  },
  {
   "cell_type": "code",
   "execution_count": 21,
   "id": "52a650ca",
   "metadata": {},
   "outputs": [],
   "source": [
    "def create_masks(labels,task):\n",
    "    total_length = len(labels)\n",
    "    train_masks = np.concatenate([np.ones(len(train_labels)), np.zeros(total_length - len(train_labels))])\n",
    "    valid_masks = np.concatenate([np.zeros(len(train_labels)), np.ones(len(valid_labels)), np.zeros(len(test_query))])\n",
    "    test_masks = np.concatenate([np.zeros(total_length - len(test_query)), np.ones(len(test_query))])\n",
    "\n",
    "    if task == \"task2\":\n",
    "        masks = pd.DataFrame({\"order\": labels[\"order\"],\"product\": labels[\"product\"],\"train_masks\": train_masks, \"valid_masks\": valid_masks, \"test_masks\": test_masks})\n",
    "    else:\n",
    "        masks = pd.DataFrame({\"order\": labels[\"order\"],\"train_masks\": train_masks, \"valid_masks\": valid_masks, \"test_masks\": test_masks})\n",
    "    return masks"
   ]
  },
  {
   "cell_type": "code",
   "execution_count": 23,
   "id": "11423d8e",
   "metadata": {},
   "outputs": [],
   "source": [
    "labels = pd.concat([train_labels, valid_labels, test_query])\n",
    "masks = create_masks(labels,task)\n",
    "df,train_df, valid_df, test_df = split_df(df, labels,train_labels, valid_labels, test_query)\n"
   ]
  },
  {
   "cell_type": "markdown",
   "id": "6d908096785980fe",
   "metadata": {},
   "source": [
    "# Create Customer Edgelist"
   ]
  },
  {
   "cell_type": "code",
   "execution_count": null,
   "id": "53e78dd8023aaf2c",
   "metadata": {
    "ExecuteTime": {
     "end_time": "2024-04-29T13:35:13.450220Z",
     "start_time": "2024-04-29T13:35:13.447387Z"
    }
   },
   "outputs": [],
   "source": [
    "def get_customer_edgelist(df: pd.DataFrame) -> pd.DataFrame:\n",
    "    \"\"\"\n",
    "    Returns the customer edgelist with the following edge attributes: customer, order, n_products, label\n",
    "    \n",
    "    Args:\n",
    "        df (pandas.DataFrame): DataFrame containing customer order information.\n",
    "    Returns:\n",
    "        pandas.DataFrame: DataFrame containing customer edgelist.\n",
    "    \"\"\"\n",
    "    # Group by customer\n",
    "    customer_groups = df.groupby(['order', 'customer', 'label']).size().reset_index().rename(columns={0: 'n_products'})\n",
    "    return customer_groups[['customer', 'order', 'n_products', 'label']].sort_values(by='customer')\n",
    "\n",
    "def save_customer_edgelist(df: pd.DataFrame, filename: str) -> None:\n",
    "    \"\"\"\n",
    "    Saves the customer edgelist to a file.\n",
    "    \n",
    "    Args:\n",
    "        df (pandas.DataFrame): DataFrame containing customer edgelist.\n",
    "        filename (str): Filename to save the customer edgelist to.\n",
    "    \"\"\"\n",
    "    output = get_customer_edgelist(df)\n",
    "    output.to_csv(filename, sep=',', index=False)"
   ]
  },
  {
   "cell_type": "code",
   "execution_count": null,
   "id": "24e509f7",
   "metadata": {},
   "outputs": [],
   "source": [
    "masks"
   ]
  },
  {
   "cell_type": "code",
   "execution_count": null,
   "id": "fe0d9b828ed644d3",
   "metadata": {
    "ExecuteTime": {
     "end_time": "2024-04-29T13:35:14.389231Z",
     "start_time": "2024-04-29T13:35:13.450921Z"
    }
   },
   "outputs": [],
   "source": [
    "# save_customer_edgelist(train_df, 'train_customer_edgelist.csv')\n",
    "customer_edge_list = get_customer_edgelist(df)\n",
    "customer_edge_list = customer_edge_list.merge(masks, left_index=True, right_index=True)\n",
    "customer_edge_list.to_csv(SAVE_PATH + \"customer_edgelist.csv\", index=False)"
   ]
  },
  {
   "cell_type": "markdown",
   "id": "4c39d22e190cee93",
   "metadata": {},
   "source": [
    "# Create Order Edgelist"
   ]
  },
  {
   "cell_type": "code",
   "execution_count": null,
   "id": "8745897b64243cff",
   "metadata": {
    "ExecuteTime": {
     "end_time": "2024-04-29T13:37:40.086901Z",
     "start_time": "2024-04-29T13:37:40.083398Z"
    }
   },
   "outputs": [],
   "source": [
    "def get_order_edgelist(df: pd.DataFrame) -> pd.DataFrame:\n",
    "    \"\"\"\n",
    "    Returns the order edgelist with the following edge attributes: order, product, n_customers, label\n",
    "    \n",
    "    Args:\n",
    "        df (pandas.DataFrame): DataFrame containing customer order information.\n",
    "    Returns:\n",
    "        pandas.DataFrame: DataFrame containing order edgelist.\n",
    "    \"\"\"\n",
    "    # Group by order\n",
    "    order_groups = df.groupby(['order', 'product', 'label','color','size']).size().reset_index().rename(columns={0: 'n_customers'})\n",
    "    return order_groups[['order', 'product', 'label','color','size']].sort_values(by='order')\n",
    "\n",
    "def save_order_edgelist(df: pd.DataFrame, filename: str) -> None:\n",
    "    \"\"\"\n",
    "    Saves the order edgelist to a file.\n",
    "    \n",
    "    Args:\n",
    "        df (pandas.DataFrame): DataFrame containing order edgelist.\n",
    "        filename (str): Filename to save the order edgelist to.\n",
    "    \"\"\"\n",
    "    output = get_order_edgelist(df)\n",
    "    output.to_csv(filename, sep=',', index=False)"
   ]
  },
  {
   "cell_type": "code",
   "execution_count": null,
   "id": "335d3f22e3474b46",
   "metadata": {
    "ExecuteTime": {
     "end_time": "2024-04-29T13:35:17.295099Z",
     "start_time": "2024-04-29T13:35:14.393813Z"
    }
   },
   "outputs": [],
   "source": [
    "# save_order_edgelist(train_df, 'train_order_edgelist.csv')\n",
    "save_order_edgelist(df, SAVE_PATH+'order_edgelist.csv')"
   ]
  },
  {
   "cell_type": "markdown",
   "id": "6cc33a1a9f1e85ed",
   "metadata": {},
   "source": [
    "# Create Customer Node Attributes\n",
    "Possibly find some way to find the average size of product ordered, but also linked to product type."
   ]
  },
  {
   "cell_type": "code",
   "execution_count": null,
   "id": "1d28b3d8988ebc77",
   "metadata": {
    "ExecuteTime": {
     "end_time": "2024-04-29T14:14:54.769167Z",
     "start_time": "2024-04-29T14:14:54.762796Z"
    }
   },
   "outputs": [],
   "source": [
    "def get_customer_node_attributes(df: pd.DataFrame) -> pd.DataFrame:\n",
    "    \"\"\"\n",
    "    Returns the customer node attributes with the following attributes: customer, n_orders, n_products, label\n",
    "    \n",
    "    Args:\n",
    "        df (pandas.DataFrame): DataFrame containing customer order information.\n",
    "    Returns:\n",
    "        pandas.DataFrame: DataFrame containing customer node attributes.\n",
    "    \"\"\"\n",
    "    # Group by customer\n",
    "    customer_groups = df.groupby(['customer', 'order', 'label']).size().reset_index().rename(columns={0: 'n_products'})\n",
    "    customer_groups['n_not_returned'] = customer_groups['label'].apply(lambda x: 1 if x == 0 else 0)\n",
    "    customer_groups['n_partial_returned'] = customer_groups['label'].apply(lambda x: 1 if x == 1 else 0)\n",
    "    customer_groups['n_fully_returned'] = customer_groups['label'].apply(lambda x: 1 if x == 2 else 0)\n",
    "    customer_groups = customer_groups.groupby('customer').agg({'order': 'count', 'n_not_returned': 'sum', 'n_partial_returned': 'sum', 'n_fully_returned': 'sum', 'n_products': 'sum'}).reset_index().rename(columns={'order': 'n_orders'})\n",
    "    return customer_groups\n",
    "\n",
    "def save_customer_node_attributes(df: pd.DataFrame, filename: str) -> None:\n",
    "    \"\"\"\n",
    "    Saves the customer node attributes to a file.\n",
    "    \n",
    "    Args:\n",
    "        df (pandas.DataFrame): DataFrame containing customer node attributes.\n",
    "        filename (str): Filename to save the customer node attributes to.\n",
    "    \"\"\"\n",
    "    output = get_customer_node_attributes(df)\n",
    "    output.to_csv(filename, sep=',', index=False)"
   ]
  },
  {
   "cell_type": "code",
   "execution_count": null,
   "id": "10abcea6d07474be",
   "metadata": {
    "ExecuteTime": {
     "end_time": "2024-04-29T14:15:03.654853Z",
     "start_time": "2024-04-29T14:15:02.520412Z"
    }
   },
   "outputs": [],
   "source": [
    "save_customer_node_attributes(df, SAVE_PATH+'customer_node_attributes.csv')"
   ]
  },
  {
   "cell_type": "markdown",
   "id": "49f5e0edcc0bbfab",
   "metadata": {},
   "source": [
    "# Create Order Node Attributes"
   ]
  },
  {
   "cell_type": "code",
   "execution_count": null,
   "id": "c2b6739ddc51a707",
   "metadata": {
    "ExecuteTime": {
     "end_time": "2024-04-29T14:18:28.068190Z",
     "start_time": "2024-04-29T14:18:28.065167Z"
    }
   },
   "outputs": [],
   "source": [
    "def get_order_node_attributes(df: pd.DataFrame) -> pd.DataFrame:\n",
    "    \"\"\"\n",
    "    Returns the order node attributes with the following attributes: customer, n_orders, n_products, label\n",
    "    \n",
    "    Args:\n",
    "        df (pandas.DataFrame): DataFrame containing customer order information.\n",
    "    Returns:\n",
    "        pandas.DataFrame: DataFrame containing customer node attributes.\n",
    "    \"\"\"\n",
    "    customer_groups = df.groupby(['order', 'label']).size().reset_index().rename(columns={0: 'n_products'})\n",
    "    return customer_groups\n",
    "\n",
    "def save_order_node_attributes(df: pd.DataFrame, filename: str) -> None:\n",
    "    \"\"\"\n",
    "    Saves the order node attributes to a file.\n",
    "    \n",
    "    Args:\n",
    "        df (pandas.DataFrame): DataFrame containing order node attributes.\n",
    "        filename (str): Filename to save the order node attributes to.\n",
    "    \"\"\"\n",
    "    output = get_order_node_attributes(df)\n",
    "    output.to_csv(filename, sep=',', index=False)"
   ]
  },
  {
   "cell_type": "code",
   "execution_count": null,
   "id": "dfc93944fb858697",
   "metadata": {
    "ExecuteTime": {
     "end_time": "2024-04-29T14:18:37.975813Z",
     "start_time": "2024-04-29T14:18:37.313298Z"
    }
   },
   "outputs": [],
   "source": [
    "# save_order_node_attributes(train_df, 'train_order_node_attributes.csv')\n",
    "save_order_node_attributes(df, SAVE_PATH+'order_node_attributes.csv')"
   ]
  },
  {
   "cell_type": "markdown",
   "id": "fd84bbd98e4b39a3",
   "metadata": {},
   "source": [
    "# Create Product Node Attributes"
   ]
  },
  {
   "cell_type": "code",
   "execution_count": null,
   "id": "b17512de",
   "metadata": {},
   "outputs": [],
   "source": [
    "train_df"
   ]
  },
  {
   "cell_type": "code",
   "execution_count": null,
   "id": "bd8b828030ac1445",
   "metadata": {
    "ExecuteTime": {
     "end_time": "2024-04-29T14:29:32.035824Z",
     "start_time": "2024-04-29T14:29:30.228037Z"
    }
   },
   "outputs": [],
   "source": [
    "#todo: Finish this\n",
    "def get_product_node_attributes(df: pd.DataFrame) -> pd.DataFrame:\n",
    "    \"\"\"\n",
    "    Calculate the node attributes for each product in the given DataFrame.\n",
    "\n",
    "    Parameters:\n",
    "    df (pd.DataFrame): The input DataFrame containing the product data.\n",
    "\n",
    "    Returns:\n",
    "    pd.DataFrame: A DataFrame with the calculated node attributes for each product.\n",
    "    \"\"\"\n",
    "    # Function implementation goes here\n",
    "    pass\n",
    "\n",
    "    # Group by customer\n",
    "    product_stats = df.groupby('product').agg(\n",
    "    total_count=('product', 'count'),\n",
    "    return_1=('label', lambda x: (x==1).sum()),\n",
    "    return_2=('label', lambda x: (x==2).sum())\n",
    "    ).reset_index(drop=True)\n",
    "    product_stats['return1_rate'] = product_stats['return_1'] / product_stats['total_count']\n",
    "    product_stats['return2_rate'] = product_stats['return_2'] / product_stats['total_count']\n",
    "    product_stats.rename_axis('product', inplace=True)\n",
    "    return product_stats\n",
    "\n",
    "def save_product_node_attributes(df: pd.DataFrame, filename: str) -> pd.DataFrame:\n",
    "    \"\"\"\n",
    "    Save the product node attributes to a CSV file.\n",
    "\n",
    "    Parameters:\n",
    "    - df (pd.DataFrame): The input DataFrame containing the product node attributes.\n",
    "    - filename (str): The name of the CSV file to save the attributes to.\n",
    "\n",
    "    Returns:\n",
    "    - pd.DataFrame: The DataFrame containing the product node attributes.\n",
    "\n",
    "    \"\"\"\n",
    "    output = get_product_node_attributes(df)\n",
    "    output.to_csv(filename, index=True)\n",
    "\n"
   ]
  },
  {
   "cell_type": "code",
   "execution_count": null,
   "id": "cfd88bbd",
   "metadata": {},
   "outputs": [],
   "source": [
    "# Returns calculated only on training data\n",
    "# save_product_node_attributes(train_df, SAVE_PATH+\"product_node_attributes.csv\")\n",
    "pa = get_product_node_attributes(train_df)"
   ]
  },
  {
   "cell_type": "code",
   "execution_count": null,
   "id": "390e2724b7fd21d8",
   "metadata": {},
   "outputs": [],
   "source": [
    "pa"
   ]
  }
 ],
 "metadata": {
  "kernelspec": {
   "display_name": "Python 3",
   "language": "python",
   "name": "python3"
  },
  "language_info": {
   "codemirror_mode": {
    "name": "ipython",
    "version": 3
   },
   "file_extension": ".py",
   "mimetype": "text/x-python",
   "name": "python",
   "nbconvert_exporter": "python",
   "pygments_lexer": "ipython3",
   "version": "3.11.4"
  }
 },
 "nbformat": 4,
 "nbformat_minor": 5
}
