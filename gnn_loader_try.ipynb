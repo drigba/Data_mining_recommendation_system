{
 "cells": [
  {
   "cell_type": "code",
   "execution_count": 1,
   "metadata": {},
   "outputs": [],
   "source": [
    "import torch\n",
    "import pandas as pd\n",
    "from torch_geometric.nn import HeteroConv, Linear, SAGEConv, GATConv, to_hetero, HEATConv\n",
    "import torch.nn.functional as F\n",
    "import torch_geometric.transforms as T\n",
    "from torch_geometric.profile import count_parameters\n",
    "import matplotlib.pyplot as plt\n",
    "\n",
    "from sklearn.metrics import confusion_matrix\n",
    "import seaborn as sns"
   ]
  },
  {
   "cell_type": "code",
   "execution_count": 2,
   "metadata": {},
   "outputs": [],
   "source": [
    "device = torch.device('cuda' if torch.cuda.is_available() else 'cpu')\n",
    "# device = torch.device(\"cpu\")"
   ]
  },
  {
   "cell_type": "code",
   "execution_count": 3,
   "metadata": {},
   "outputs": [],
   "source": [
    "import itertools\n",
    "\n",
    "ATTRIBUTE_ENCODING_LENGTH = 10\n",
    "EXTRA_NODE_TYPES = [\"order\", \"customer\"]\n",
    "NUM_CATEGORIES = 32\n",
    "NUM_SIZES = 29\n",
    "NUM_COLORS = 642\n",
    "NUM_ORDER = 849185\n",
    "NUM_CUSTOMER = 342038\n",
    "NUM_PRODUCTS =58415\n",
    "\n",
    "pairs = list(itertools.product(range(NUM_CATEGORIES), range(NUM_SIZES)))\n",
    "CATGORY_SIZE_INDEX = {pair: i for i, pair in enumerate(pairs)}\n"
   ]
  },
  {
   "cell_type": "code",
   "execution_count": 4,
   "metadata": {},
   "outputs": [],
   "source": [
    "class IdentityEncoder:\n",
    "    def __init__(self, dtype=None):\n",
    "        self.dtype = dtype\n",
    "\n",
    "    def __call__(self, df):\n",
    "        return torch.from_numpy(df.values).view(-1, 1).to(self.dtype)\n",
    "    \n",
    "class PairToOneEncoder:\n",
    "    def __init__(self, dtype=None):\n",
    "        self.dtype = dtype\n",
    "\n",
    "    def __call__(self, df):\n",
    "        v = df.apply(lambda x: CATGORY_SIZE_INDEX[tuple(x)], axis=1)\n",
    "        return torch.from_numpy(v.values).view(-1, 1).to(self.dtype)"
   ]
  },
  {
   "cell_type": "code",
   "execution_count": 5,
   "metadata": {},
   "outputs": [],
   "source": [
    "def load_node_csv(path, index_col, encoders=None, **kwargs):\n",
    "    df = pd.read_csv(path, index_col=index_col, **kwargs)\n",
    "    mapping = {index: i for i, index in enumerate(df.index.unique())}\n",
    "\n",
    "    x = None\n",
    "    if encoders is not None:\n",
    "        xs = [encoder(df[col]) for col, encoder in encoders.items()]\n",
    "        x = torch.cat(xs, dim=-1)\n",
    "\n",
    "    return x, mapping"
   ]
  },
  {
   "cell_type": "code",
   "execution_count": 6,
   "metadata": {},
   "outputs": [],
   "source": [
    "def load_edge_csv(path, src_index_col, src_mapping, dst_index_col, dst_mapping,\n",
    "                  attr_encoders=None,label_encoders = None ,**kwargs):\n",
    "    df = pd.read_csv(path, **kwargs)\n",
    "\n",
    "    src = [src_mapping[index] for index in df[src_index_col]]\n",
    "    dst = [dst_mapping[index] for index in df[dst_index_col]]\n",
    "    edge_index = torch.tensor([src, dst])\n",
    "\n",
    "    edge_attr = None\n",
    "    edge_label = None\n",
    "    \n",
    "    if attr_encoders is not None:\n",
    "        edge_attrs = [encoder(df[col]) for col, encoder in attr_encoders.items()]\n",
    "        edge_attr = torch.cat(edge_attrs, dim=-1)\n",
    "    if label_encoders is not None:\n",
    "        edge_labels = [encoder(df[col]) for col, encoder in label_encoders.items()]\n",
    "        edge_label = torch.cat(edge_labels, dim=-1)\n",
    "\n",
    "    return edge_index, edge_attr, edge_label"
   ]
  },
  {
   "cell_type": "code",
   "execution_count": 7,
   "metadata": {},
   "outputs": [],
   "source": [
    "def load_edge_csv2(path, src_index_col, src_mapping, dst_index_col, dst_mapping,\n",
    "                  attr_encoders=None,**kwargs):\n",
    "    df = pd.read_csv(path, **kwargs)\n",
    "\n",
    "    src = [src_mapping[index] for index in df[src_index_col]]\n",
    "    dst = [dst_mapping[index] for index in df[dst_index_col]]\n",
    "    edge_index = torch.tensor([src, dst])\n",
    "    edge_attr = {col : encoder(df[col]) for col, encoder in attr_encoders.items()}\n",
    "    return edge_index, edge_attr"
   ]
  },
  {
   "cell_type": "code",
   "execution_count": 8,
   "metadata": {},
   "outputs": [],
   "source": [
    "customer_encoders = {col_name : IdentityEncoder(dtype=torch.float) for col_name in [\"n_orders\",\"n_not_returned\",\"n_partial_returned\",\"n_fully_returned\",\"n_products\"]}\n",
    "order_encoders = {col_name : IdentityEncoder(dtype=torch.float) for col_name in [\"n_products\"]}\n",
    "# product_encoders = {col_name : IdentityEncoder(dtype=torch.float32) for col_name in [\"n_orders\", \"n_returned\", \"n_customers\"]}\n",
    "product_encoders = {col_name : IdentityEncoder(dtype=torch.float32) for col_name in [\"return_rate\"]}\n",
    "customer_x, customer_mapping = load_node_csv('data/customer_node_attributes.csv', index_col='customer', encoders=customer_encoders)\n",
    "order_x, order_mapping = load_node_csv('data/order_node_attributes.csv', index_col='order', encoders=order_encoders)\n",
    "# product_x, product_mapping = load_node_csv('data/product_node_attributes.csv', index_col='product', encoders=product_encoders)\n",
    "product_x, product_mapping = load_node_csv('product_stats.csv', index_col='product', encoders=product_encoders)\n"
   ]
  },
  {
   "cell_type": "code",
   "execution_count": 9,
   "metadata": {},
   "outputs": [],
   "source": [
    "customer_order_edge_attr_encoders = {col_name : IdentityEncoder(dtype=torch.long) for col_name in [\"n_products\",\"train_masks\",\"valid_masks\",\"test_masks\",\"label\" ]}\n",
    "customer_order_edge_label_encoders = {\"label\" : IdentityEncoder(torch.long)}\n",
    "order_product_edge_attr_encoders = {col_name : IdentityEncoder(dtype=torch.long) for col_name in [\"color\", \"size\",\"label\" ]}\n",
    "order_product_edge_label_encoders = {\"label\" : IdentityEncoder(torch.long)}\n",
    "\n",
    "customer_order_edge_index, customer_order_edge_attr = load_edge_csv2('data/customer_edgelist.csv', \n",
    "                                                                                               'customer', customer_mapping, \n",
    "                                                                                               'order', order_mapping, \n",
    "                                                                                               attr_encoders=customer_order_edge_attr_encoders, \n",
    "                                                                                              )\n",
    "order_product_edge_index, order_product_edge_attr = load_edge_csv2('data/order_edgelist.csv',\n",
    "                                                                                            'order', order_mapping, \n",
    "                                                                                            'product', product_mapping, \n",
    "                                                                                            attr_encoders=order_product_edge_attr_encoders\n",
    "                                                                                            )"
   ]
  },
  {
   "cell_type": "code",
   "execution_count": 10,
   "metadata": {},
   "outputs": [
    {
     "name": "stdout",
     "output_type": "stream",
     "text": [
      "HeteroData(\n",
      "  order={ x=[849185, 1] },\n",
      "  product={ x=[58415, 1] },\n",
      "  customer={ x=[342038, 5] },\n",
      "  (customer, to, order)={\n",
      "    edge_index=[2, 849185],\n",
      "    n_products=[849185, 1],\n",
      "    train_masks=[849185, 1],\n",
      "    valid_masks=[849185, 1],\n",
      "    test_masks=[849185, 1],\n",
      "    label=[849185, 1],\n",
      "  },\n",
      "  (order, to, product)={\n",
      "    edge_index=[2, 2666262],\n",
      "    color=[2666262, 1],\n",
      "    size=[2666262, 1],\n",
      "    label=[2666262, 1],\n",
      "  },\n",
      "  (order, rev_to, customer)={\n",
      "    edge_index=[2, 849185],\n",
      "    n_products=[849185, 1],\n",
      "    train_masks=[849185, 1],\n",
      "    valid_masks=[849185, 1],\n",
      "    test_masks=[849185, 1],\n",
      "  },\n",
      "  (product, rev_to, order)={\n",
      "    edge_index=[2, 2666262],\n",
      "    color=[2666262, 1],\n",
      "    size=[2666262, 1],\n",
      "  }\n",
      ")\n"
     ]
    }
   ],
   "source": [
    "from torch_geometric.data import HeteroData\n",
    "\n",
    "data = HeteroData()\n",
    "\n",
    "customer_mapping = []\n",
    "order_mapping = []\n",
    "item_mapping = []\n",
    "\n",
    "# Try not using features but learning embeddings for nodes\n",
    "data['order'].x = order_x\n",
    "# data['order'].num_nodes = len(order_x)\n",
    "data['product'].x = product_x\n",
    "data['customer'].x = customer_x\n",
    "# data['customer'].num_nodes = len(customer_x)\n",
    "data['customer', 'order'].edge_index = customer_order_edge_index\n",
    "for attr_name, attr in customer_order_edge_attr.items():\n",
    "    data['customer', 'order'][attr_name] = attr\n",
    "# data['customer', 'order'][\"edge_attr\"] = customer_order_edge_attr[\"color\"]\n",
    "\n",
    "data['order',  'product'].edge_index = order_product_edge_index\n",
    "for attr_name, attr in order_product_edge_attr.items():\n",
    "    data['order',  'product'][attr_name] = attr\n",
    "# data['order',  'product'][\"edge_attr\"] = order_product_edge_attr[\"color\"]\n",
    "\n",
    "data = T.ToUndirected()(data)\n",
    "data = data.to(device)\n",
    "del data['order', 'rev_to', 'customer'].label\n",
    "del data['product', 'rev_to', 'order'].label\n",
    "print(data)"
   ]
  },
  {
   "cell_type": "code",
   "execution_count": null,
   "metadata": {},
   "outputs": [],
   "source": []
  },
  {
   "cell_type": "code",
   "execution_count": null,
   "metadata": {},
   "outputs": [],
   "source": []
  },
  {
   "cell_type": "code",
   "execution_count": 11,
   "metadata": {},
   "outputs": [
    {
     "data": {
      "text/plain": [
       "tensor([[611],\n",
       "        [611],\n",
       "        [398],\n",
       "        ...,\n",
       "        [406],\n",
       "        [269],\n",
       "        [302]], device='cuda:0')"
      ]
     },
     "execution_count": 11,
     "metadata": {},
     "output_type": "execute_result"
    }
   ],
   "source": [
    "data[\"order\", \"to\", \"product\"][\"color\"]"
   ]
  },
  {
   "cell_type": "code",
   "execution_count": 12,
   "metadata": {},
   "outputs": [],
   "source": [
    "class EdgeDecoder(torch.nn.Module):\n",
    "    def __init__(self, hidden_channels):\n",
    "        super().__init__()\n",
    "        self.lin1 = Linear(3 * hidden_channels, 2*hidden_channels)\n",
    "        self.lin2 = Linear(2*hidden_channels, 1)\n",
    "\n",
    "    def forward(self,  cus_order, article,edge_label_index,edge_attr):\n",
    "        row, col = edge_label_index\n",
    "        # print(article[row].shape)\n",
    "        # print(edge_attr.shape)\n",
    "        # print(cus_order[col].shape)\n",
    "        #z = torch.cat([order[col], article[row],edge_attr,cus_order[col]], dim=-1)\n",
    "        z = torch.cat([ article[row],edge_attr.squeeze(-2),cus_order[col]], dim=-1)\n",
    "        #z = torch.cat([edge_attr, edge_attr,edge_attr], dim=-1)\n",
    "        print(z.shape)\n",
    "        z = self.lin1(z).relu()\n",
    "        z = self.lin2(z)\n",
    "        print(z.view(-1).shape)\n",
    "        return z.view(-1)    "
   ]
  },
  {
   "cell_type": "code",
   "execution_count": 13,
   "metadata": {},
   "outputs": [],
   "source": [
    "import copy\n",
    "# GNN + Node embedding\n",
    "class MyModel(torch.nn.Module):\n",
    "    def __init__(self, embedding_dim):\n",
    "        super(MyModel, self).__init__()\n",
    "        node_embeddings = {}\n",
    "        node_embeddings[\"product\"] = torch.nn.Embedding(NUM_PRODUCTS, embedding_dim)\n",
    "        node_embeddings[\"customer\"] = torch.nn.Embedding(NUM_CUSTOMER, embedding_dim)\n",
    "        self.node_embeddings = torch.nn.ModuleDict(node_embeddings)\n",
    "\n",
    "        feature_embeddings = {}\n",
    "        feature_embeddings[\"color\"] = torch.nn.Embedding(NUM_COLORS, embedding_dim)\n",
    "        feature_embeddings[\"category\"] = torch.nn.Embedding(NUM_CATEGORIES, embedding_dim)\n",
    "        feature_embeddings[\"size\"] = torch.nn.Embedding(NUM_SIZES, embedding_dim)\n",
    "        self.feature_embeddings = torch.nn.ModuleDict(feature_embeddings)\n",
    "        \n",
    "        self.decoder = EdgeDecoder(embedding_dim)\n",
    "\n",
    "        self.gnn_product_order = GATConv((-1,-1), embedding_dim,add_self_loops= False, dropout=0.4)\n",
    "        self.gnn_customer_order = GATConv((-1,-1), embedding_dim,add_self_loops= False,dropout=0.4)\n",
    "        self.gnn_order_product = GATConv((-1,-1), embedding_dim,add_self_loops= False,dropout=0.4)\n",
    "        self.gnn_customer_customer = GATConv((-1,-1), embedding_dim,add_self_loops= False,dropout=0.4)\n",
    "        \n",
    "        self.classifier = Linear(embedding_dim, 3)        \n",
    "\n",
    "    def forward(self,data):\n",
    "        x = data.x_dict\n",
    "        edge_index = data.edge_index_dict\n",
    "        x = copy.copy(x)\n",
    "        edge_index = copy.copy(edge_index)\n",
    "        # for node_type, embedding in self.node_embeddings.items():\n",
    "        #     x[node_type] = torch.cat([x[node_type],embedding.weight], dim = -1)\n",
    "        x[\"product\"] = self.node_embeddings[\"product\"].weight\n",
    "        # print(x[\"order\"].shape)\n",
    "        # print(x[\"customer\"].shape)\n",
    "        product_order, (_,a1) =  self.gnn_product_order((x[\"product\"],x[\"order\"]),edge_index[\"product\",\"rev_to\", \"order\"],return_attention_weights = True)\n",
    "        # print(a1)\n",
    "        # print(a1.shape)\n",
    "        order = self.gnn_customer_order((x[\"customer\"], product_order), edge_index[\"customer\",\"to\", \"order\"])\n",
    "        \n",
    "        \n",
    "        \n",
    "        # output = self.decoder(order, \n",
    "        #                       x[\"product\"], \n",
    "        #                       edge_index[\"product\", \"rev_to\", \"order\"],\n",
    "        #                       product_encoding)\n",
    "        output = self.classifier(order)\n",
    "                \n",
    "        return output"
   ]
  },
  {
   "cell_type": "code",
   "execution_count": 20,
   "metadata": {},
   "outputs": [
    {
     "data": {
      "text/plain": [
       "tensor([[ 18312,  37434,  40372,  ...,  53461,  20178,  55536],\n",
       "        [     0,      0,      0,  ..., 849183, 849184, 849184]],\n",
       "       device='cuda:0')"
      ]
     },
     "execution_count": 20,
     "metadata": {},
     "output_type": "execute_result"
    }
   ],
   "source": [
    "data.edge_index_dict[\"product\",\"rev_to\", \"order\"]"
   ]
  },
  {
   "cell_type": "code",
   "execution_count": 14,
   "metadata": {},
   "outputs": [],
   "source": [
    "@torch.no_grad()\n",
    "def init_params(n_model):\n",
    "    # Initialize lazy parameters via forwarding a single batch to the model:\n",
    "    output = n_model(data)\n",
    "    return output"
   ]
  },
  {
   "cell_type": "code",
   "execution_count": 15,
   "metadata": {},
   "outputs": [],
   "source": [
    "# Models learn, overfit but does not generalize\n",
    "\n",
    "embedded_model = MyModel( embedding_dim=8).to(device)\n",
    "optimizer = torch.optim.Adam(embedded_model.parameters(), lr=0.005)\n",
    "\n",
    "# https://github.com/pyg-team/pytorch_geometric/issues/3604\n",
    "# Learn embeddings\n",
    "output = init_params(embedded_model)"
   ]
  },
  {
   "cell_type": "code",
   "execution_count": 16,
   "metadata": {},
   "outputs": [],
   "source": [
    "embedded_model.gnn_customer_order.lin_dst.weight.grad"
   ]
  },
  {
   "cell_type": "code",
   "execution_count": 17,
   "metadata": {},
   "outputs": [],
   "source": [
    "from tqdm import tqdm\n",
    "@torch.no_grad()\n",
    "def test(model, test_set):\n",
    "    model.eval()\n",
    "    output = model(data)\n",
    "    # edge_attr[:,-3] - train mask\n",
    "    mask_name = test_set + \"_masks\"\n",
    "    mask = data['customer', 'order'][mask_name].bool().squeeze()\n",
    "    pred = F.softmax(output[mask], dim=-1)\n",
    "    target = data['customer', 'order'].label[mask].squeeze()\n",
    "    pred = pred.argmax(dim=-1)\n",
    "    total_correct = pred.eq(target).sum().item()\n",
    "    total_0 = pred.eq(0).sum().item()\n",
    "    total_1 = pred.eq(1).sum().item()\n",
    "    total_2 = pred.eq(2).sum().item()\n",
    "    print(f\"Total correct: {total_correct}, Total 0: {total_0}, Total 1: {total_1}, Total 2: {total_2}\")\n",
    "    \n",
    "\n",
    "\n",
    "    return total_correct / mask.sum().item(), total_0/ mask.sum().item(), total_1/ mask.sum().item(), total_2/ mask.sum().item()"
   ]
  },
  {
   "cell_type": "code",
   "execution_count": 18,
   "metadata": {},
   "outputs": [],
   "source": [
    "\n",
    "def train(model):\n",
    "    model.train()\n",
    "    optimizer.zero_grad()\n",
    "    output = model(data )\n",
    "    \n",
    "    # edge_attr[:,-3] - train mask\n",
    "    mask = data['customer', 'order'][\"train_masks\"].bool().squeeze()\n",
    "    # print(sum(model.node_embeddings[\"order\"].weight[mask]))\n",
    "    pred = F.softmax(output[mask], dim=-1)\n",
    "    target = data['customer', 'order'].label[mask].squeeze()\n",
    "    loss = F.cross_entropy(pred, target)\n",
    "    loss.backward()\n",
    "    # print(model.classifier.weight.grad)\n",
    "    # print(model.gnn_product_order.att_dst)\n",
    "    print(model.gnn_customer_order.att_dst)\n",
    "    print(model.gnn_customer_order.att_src)\n",
    "    # print(model.gnn_customer_order.lin_dst.weight.grad)\n",
    "\n",
    "    \n",
    "\n",
    "    \n",
    "    optimizer.step()\n",
    "    return float(loss)"
   ]
  },
  {
   "cell_type": "code",
   "execution_count": 19,
   "metadata": {},
   "outputs": [
    {
     "name": "stdout",
     "output_type": "stream",
     "text": [
      "Parameter containing:\n",
      "tensor([[[ 0.2217,  0.2765, -0.1495, -0.3244,  0.7366, -0.2428, -0.5952,\n",
      "          -0.5369]]], device='cuda:0', requires_grad=True)\n",
      "Parameter containing:\n",
      "tensor([[[ 0.3378, -0.2456,  0.6941, -0.3953,  0.2064, -0.2134, -0.4819,\n",
      "          -0.3209]]], device='cuda:0', requires_grad=True)\n",
      "Epoch: 01, Loss: 1.1303\n",
      "Parameter containing:\n",
      "tensor([[[ 0.2217,  0.2765, -0.1495, -0.3244,  0.7366, -0.2428, -0.5952,\n",
      "          -0.5369]]], device='cuda:0', requires_grad=True)\n",
      "Parameter containing:\n",
      "tensor([[[ 0.3378, -0.2456,  0.6941, -0.3953,  0.2064, -0.2134, -0.4819,\n",
      "          -0.3209]]], device='cuda:0', requires_grad=True)\n",
      "Epoch: 02, Loss: 1.1171\n",
      "Parameter containing:\n",
      "tensor([[[ 0.2217,  0.2765, -0.1495, -0.3244,  0.7366, -0.2428, -0.5952,\n",
      "          -0.5369]]], device='cuda:0', requires_grad=True)\n",
      "Parameter containing:\n",
      "tensor([[[ 0.3378, -0.2456,  0.6941, -0.3953,  0.2064, -0.2134, -0.4819,\n",
      "          -0.3209]]], device='cuda:0', requires_grad=True)\n",
      "Epoch: 03, Loss: 1.1132\n",
      "Parameter containing:\n",
      "tensor([[[ 0.2217,  0.2765, -0.1495, -0.3244,  0.7366, -0.2428, -0.5952,\n",
      "          -0.5369]]], device='cuda:0', requires_grad=True)\n",
      "Parameter containing:\n",
      "tensor([[[ 0.3378, -0.2456,  0.6941, -0.3953,  0.2064, -0.2134, -0.4819,\n",
      "          -0.3209]]], device='cuda:0', requires_grad=True)\n",
      "Epoch: 04, Loss: 1.1116\n"
     ]
    },
    {
     "name": "stdout",
     "output_type": "stream",
     "text": [
      "Parameter containing:\n",
      "tensor([[[ 0.2217,  0.2765, -0.1495, -0.3244,  0.7366, -0.2428, -0.5952,\n",
      "          -0.5369]]], device='cuda:0', requires_grad=True)\n",
      "Parameter containing:\n",
      "tensor([[[ 0.3378, -0.2456,  0.6941, -0.3953,  0.2064, -0.2134, -0.4819,\n",
      "          -0.3209]]], device='cuda:0', requires_grad=True)\n",
      "Epoch: 05, Loss: 1.1101\n",
      "Parameter containing:\n",
      "tensor([[[ 0.2217,  0.2765, -0.1495, -0.3244,  0.7366, -0.2428, -0.5952,\n",
      "          -0.5369]]], device='cuda:0', requires_grad=True)\n",
      "Parameter containing:\n",
      "tensor([[[ 0.3378, -0.2456,  0.6941, -0.3953,  0.2064, -0.2134, -0.4819,\n",
      "          -0.3209]]], device='cuda:0', requires_grad=True)\n",
      "Epoch: 06, Loss: 1.1091\n",
      "Parameter containing:\n",
      "tensor([[[ 0.2217,  0.2765, -0.1495, -0.3244,  0.7366, -0.2428, -0.5952,\n",
      "          -0.5369]]], device='cuda:0', requires_grad=True)\n",
      "Parameter containing:\n",
      "tensor([[[ 0.3378, -0.2456,  0.6941, -0.3953,  0.2064, -0.2134, -0.4819,\n",
      "          -0.3209]]], device='cuda:0', requires_grad=True)\n",
      "Epoch: 07, Loss: 1.1080\n",
      "Parameter containing:\n",
      "tensor([[[ 0.2217,  0.2765, -0.1495, -0.3244,  0.7366, -0.2428, -0.5952,\n",
      "          -0.5369]]], device='cuda:0', requires_grad=True)\n",
      "Parameter containing:\n",
      "tensor([[[ 0.3378, -0.2456,  0.6941, -0.3953,  0.2064, -0.2134, -0.4819,\n",
      "          -0.3209]]], device='cuda:0', requires_grad=True)\n",
      "Epoch: 08, Loss: 1.1072\n",
      "Parameter containing:\n",
      "tensor([[[ 0.2217,  0.2765, -0.1495, -0.3244,  0.7366, -0.2428, -0.5952,\n",
      "          -0.5369]]], device='cuda:0', requires_grad=True)\n",
      "Parameter containing:\n",
      "tensor([[[ 0.3378, -0.2456,  0.6941, -0.3953,  0.2064, -0.2134, -0.4819,\n",
      "          -0.3209]]], device='cuda:0', requires_grad=True)\n",
      "Epoch: 09, Loss: 1.1059\n",
      "Parameter containing:\n",
      "tensor([[[ 0.2217,  0.2765, -0.1495, -0.3244,  0.7366, -0.2428, -0.5952,\n",
      "          -0.5369]]], device='cuda:0', requires_grad=True)\n",
      "Parameter containing:\n",
      "tensor([[[ 0.3378, -0.2456,  0.6941, -0.3953,  0.2064, -0.2134, -0.4819,\n",
      "          -0.3209]]], device='cuda:0', requires_grad=True)\n",
      "Epoch: 10, Loss: 1.1052\n",
      "Total correct: 224553, Total 0: 170765, Total 1: 393561, Total 2: 30104\n",
      "Total correct: 47510, Total 0: 37026, Total 1: 83876, Total 2: 6475\n",
      "Train accuracy: 0.3777618895412412\n",
      "Valid accuracy: 0.37298727399766046\n",
      "Parameter containing:\n",
      "tensor([[[ 0.2217,  0.2765, -0.1495, -0.3244,  0.7366, -0.2428, -0.5952,\n",
      "          -0.5369]]], device='cuda:0', requires_grad=True)\n",
      "Parameter containing:\n",
      "tensor([[[ 0.3378, -0.2456,  0.6941, -0.3953,  0.2064, -0.2134, -0.4819,\n",
      "          -0.3209]]], device='cuda:0', requires_grad=True)\n",
      "Epoch: 11, Loss: 1.1038\n",
      "Parameter containing:\n",
      "tensor([[[ 0.2217,  0.2765, -0.1495, -0.3244,  0.7366, -0.2428, -0.5952,\n",
      "          -0.5369]]], device='cuda:0', requires_grad=True)\n",
      "Parameter containing:\n",
      "tensor([[[ 0.3378, -0.2456,  0.6941, -0.3953,  0.2064, -0.2134, -0.4819,\n",
      "          -0.3209]]], device='cuda:0', requires_grad=True)\n",
      "Epoch: 12, Loss: 1.1033\n",
      "Parameter containing:\n",
      "tensor([[[ 0.2217,  0.2765, -0.1495, -0.3244,  0.7366, -0.2428, -0.5952,\n",
      "          -0.5369]]], device='cuda:0', requires_grad=True)\n",
      "Parameter containing:\n",
      "tensor([[[ 0.3378, -0.2456,  0.6941, -0.3953,  0.2064, -0.2134, -0.4819,\n",
      "          -0.3209]]], device='cuda:0', requires_grad=True)\n",
      "Epoch: 13, Loss: 1.1018\n",
      "Parameter containing:\n",
      "tensor([[[ 0.2217,  0.2765, -0.1495, -0.3244,  0.7366, -0.2428, -0.5952,\n",
      "          -0.5369]]], device='cuda:0', requires_grad=True)\n",
      "Parameter containing:\n",
      "tensor([[[ 0.3378, -0.2456,  0.6941, -0.3953,  0.2064, -0.2134, -0.4819,\n",
      "          -0.3209]]], device='cuda:0', requires_grad=True)\n",
      "Epoch: 14, Loss: 1.1008\n",
      "Parameter containing:\n",
      "tensor([[[ 0.2217,  0.2765, -0.1495, -0.3244,  0.7366, -0.2428, -0.5952,\n",
      "          -0.5369]]], device='cuda:0', requires_grad=True)\n",
      "Parameter containing:\n",
      "tensor([[[ 0.3378, -0.2456,  0.6941, -0.3953,  0.2064, -0.2134, -0.4819,\n",
      "          -0.3209]]], device='cuda:0', requires_grad=True)\n",
      "Epoch: 15, Loss: 1.0996\n",
      "Parameter containing:\n",
      "tensor([[[ 0.2217,  0.2765, -0.1495, -0.3244,  0.7366, -0.2428, -0.5952,\n",
      "          -0.5369]]], device='cuda:0', requires_grad=True)\n",
      "Parameter containing:\n",
      "tensor([[[ 0.3378, -0.2456,  0.6941, -0.3953,  0.2064, -0.2134, -0.4819,\n",
      "          -0.3209]]], device='cuda:0', requires_grad=True)\n",
      "Epoch: 16, Loss: 1.0984\n",
      "Parameter containing:\n",
      "tensor([[[ 0.2217,  0.2765, -0.1495, -0.3244,  0.7366, -0.2428, -0.5952,\n",
      "          -0.5369]]], device='cuda:0', requires_grad=True)\n",
      "Parameter containing:\n",
      "tensor([[[ 0.3378, -0.2456,  0.6941, -0.3953,  0.2064, -0.2134, -0.4819,\n",
      "          -0.3209]]], device='cuda:0', requires_grad=True)\n",
      "Epoch: 17, Loss: 1.0967\n",
      "Parameter containing:\n",
      "tensor([[[ 0.2217,  0.2765, -0.1495, -0.3244,  0.7366, -0.2428, -0.5952,\n",
      "          -0.5369]]], device='cuda:0', requires_grad=True)\n",
      "Parameter containing:\n",
      "tensor([[[ 0.3378, -0.2456,  0.6941, -0.3953,  0.2064, -0.2134, -0.4819,\n",
      "          -0.3209]]], device='cuda:0', requires_grad=True)\n",
      "Epoch: 18, Loss: 1.0955\n",
      "Parameter containing:\n",
      "tensor([[[ 0.2217,  0.2765, -0.1495, -0.3244,  0.7366, -0.2428, -0.5952,\n",
      "          -0.5369]]], device='cuda:0', requires_grad=True)\n",
      "Parameter containing:\n",
      "tensor([[[ 0.3378, -0.2456,  0.6941, -0.3953,  0.2064, -0.2134, -0.4819,\n",
      "          -0.3209]]], device='cuda:0', requires_grad=True)\n",
      "Epoch: 19, Loss: 1.0944\n",
      "Parameter containing:\n",
      "tensor([[[ 0.2217,  0.2765, -0.1495, -0.3244,  0.7366, -0.2428, -0.5952,\n",
      "          -0.5369]]], device='cuda:0', requires_grad=True)\n",
      "Parameter containing:\n",
      "tensor([[[ 0.3378, -0.2456,  0.6941, -0.3953,  0.2064, -0.2134, -0.4819,\n",
      "          -0.3209]]], device='cuda:0', requires_grad=True)\n",
      "Epoch: 20, Loss: 1.0930\n",
      "Total correct: 220543, Total 0: 348055, Total 1: 229566, Total 2: 16809\n",
      "Total correct: 47367, Total 0: 74698, Total 1: 48933, Total 2: 3746\n",
      "Train accuracy: 0.37101593122823545\n",
      "Valid accuracy: 0.37186462234155304\n",
      "Parameter containing:\n",
      "tensor([[[ 0.2217,  0.2765, -0.1495, -0.3244,  0.7366, -0.2428, -0.5952,\n",
      "          -0.5369]]], device='cuda:0', requires_grad=True)\n",
      "Parameter containing:\n",
      "tensor([[[ 0.3378, -0.2456,  0.6941, -0.3953,  0.2064, -0.2134, -0.4819,\n",
      "          -0.3209]]], device='cuda:0', requires_grad=True)\n",
      "Epoch: 21, Loss: 1.0923\n",
      "Parameter containing:\n",
      "tensor([[[ 0.2217,  0.2765, -0.1495, -0.3244,  0.7366, -0.2428, -0.5952,\n",
      "          -0.5369]]], device='cuda:0', requires_grad=True)\n",
      "Parameter containing:\n",
      "tensor([[[ 0.3378, -0.2456,  0.6941, -0.3953,  0.2064, -0.2134, -0.4819,\n",
      "          -0.3209]]], device='cuda:0', requires_grad=True)\n",
      "Epoch: 22, Loss: 1.0912\n",
      "Parameter containing:\n",
      "tensor([[[ 0.2217,  0.2765, -0.1495, -0.3244,  0.7366, -0.2428, -0.5952,\n",
      "          -0.5369]]], device='cuda:0', requires_grad=True)\n",
      "Parameter containing:\n",
      "tensor([[[ 0.3378, -0.2456,  0.6941, -0.3953,  0.2064, -0.2134, -0.4819,\n",
      "          -0.3209]]], device='cuda:0', requires_grad=True)\n",
      "Epoch: 23, Loss: 1.0911\n",
      "Parameter containing:\n",
      "tensor([[[ 0.2217,  0.2765, -0.1495, -0.3244,  0.7366, -0.2428, -0.5952,\n",
      "          -0.5369]]], device='cuda:0', requires_grad=True)\n",
      "Parameter containing:\n",
      "tensor([[[ 0.3378, -0.2456,  0.6941, -0.3953,  0.2064, -0.2134, -0.4819,\n",
      "          -0.3209]]], device='cuda:0', requires_grad=True)\n",
      "Epoch: 24, Loss: 1.0915\n",
      "Parameter containing:\n",
      "tensor([[[ 0.2217,  0.2765, -0.1495, -0.3244,  0.7366, -0.2428, -0.5952,\n",
      "          -0.5369]]], device='cuda:0', requires_grad=True)\n",
      "Parameter containing:\n",
      "tensor([[[ 0.3378, -0.2456,  0.6941, -0.3953,  0.2064, -0.2134, -0.4819,\n",
      "          -0.3209]]], device='cuda:0', requires_grad=True)\n",
      "Epoch: 25, Loss: 1.0913\n",
      "Parameter containing:\n",
      "tensor([[[ 0.2217,  0.2765, -0.1495, -0.3244,  0.7366, -0.2428, -0.5952,\n",
      "          -0.5369]]], device='cuda:0', requires_grad=True)\n",
      "Parameter containing:\n",
      "tensor([[[ 0.3378, -0.2456,  0.6941, -0.3953,  0.2064, -0.2134, -0.4819,\n",
      "          -0.3209]]], device='cuda:0', requires_grad=True)\n",
      "Epoch: 26, Loss: 1.0909\n",
      "Parameter containing:\n",
      "tensor([[[ 0.2217,  0.2765, -0.1495, -0.3244,  0.7366, -0.2428, -0.5952,\n",
      "          -0.5369]]], device='cuda:0', requires_grad=True)\n",
      "Parameter containing:\n",
      "tensor([[[ 0.3378, -0.2456,  0.6941, -0.3953,  0.2064, -0.2134, -0.4819,\n",
      "          -0.3209]]], device='cuda:0', requires_grad=True)\n",
      "Epoch: 27, Loss: 1.0903\n",
      "Parameter containing:\n",
      "tensor([[[ 0.2217,  0.2765, -0.1495, -0.3244,  0.7366, -0.2428, -0.5952,\n",
      "          -0.5369]]], device='cuda:0', requires_grad=True)\n",
      "Parameter containing:\n",
      "tensor([[[ 0.3378, -0.2456,  0.6941, -0.3953,  0.2064, -0.2134, -0.4819,\n",
      "          -0.3209]]], device='cuda:0', requires_grad=True)\n",
      "Epoch: 28, Loss: 1.0898\n",
      "Parameter containing:\n",
      "tensor([[[ 0.2217,  0.2765, -0.1495, -0.3244,  0.7366, -0.2428, -0.5952,\n",
      "          -0.5369]]], device='cuda:0', requires_grad=True)\n",
      "Parameter containing:\n",
      "tensor([[[ 0.3378, -0.2456,  0.6941, -0.3953,  0.2064, -0.2134, -0.4819,\n",
      "          -0.3209]]], device='cuda:0', requires_grad=True)\n",
      "Epoch: 29, Loss: 1.0887\n"
     ]
    }
   ],
   "source": [
    "losses = []\n",
    "train_accs = []\n",
    "valid_accs = []\n",
    "valid_dist = []\n",
    "for epoch in range(1, 30):\n",
    "    # loss = train(embedded_model)\n",
    "    loss = train(embedded_model)\n",
    "    losses.append(loss)\n",
    "    \n",
    "    print(f'Epoch: {epoch:02d}, Loss: {loss:.4f}')\n",
    "    if epoch % 10 == 0:\n",
    "        train_acc, _, _, _ = test(embedded_model, \"train\")\n",
    "        valid_acc, z, o,t = test(embedded_model, \"valid\")\n",
    "        train_accs.append(train_acc)\n",
    "        valid_accs.append(valid_acc)\n",
    "        valid_dist.append([z,o,t])\n",
    "        print(f\"Train accuracy: {train_acc}\")\n",
    "        print(f\"Valid accuracy: {valid_acc}\")\n",
    "\n",
    "\n",
    "    \n"
   ]
  },
  {
   "cell_type": "code",
   "execution_count": null,
   "metadata": {},
   "outputs": [
    {
     "data": {
      "image/png": "[encoded data removed]",
      "text/plain": [
       "<Figure size 640x480 with 1 Axes>"
      ]
     },
     "metadata": {},
     "output_type": "display_data"
    }
   ],
   "source": [
    "import numpy as np\n",
    "plt.plot(train_accs)\n",
    "plt.plot(valid_accs)\n",
    "plt.xticks(np.arange(0, 51, 10), np.arange(0, 510, 100))  # Set the x-ticks\n",
    "\n",
    "plt.legend([\"Train Accuracy\", \"Valid Accuracy\"])\n",
    "plt.show()"
   ]
  },
  {
   "cell_type": "code",
   "execution_count": null,
   "metadata": {},
   "outputs": [
    {
     "data": {
      "image/png": "[encoded data removed]",
      "text/plain": [
       "<Figure size 640x480 with 2 Axes>"
      ]
     },
     "metadata": {},
     "output_type": "display_data"
    }
   ],
   "source": [
    "embedded_model.eval()\n",
    "output = embedded_model(data)\n",
    "# edge_attr[:,-3] - train mask\n",
    "mask_name = \"train_masks\"\n",
    "mask = data['customer', 'order'][mask_name].bool().squeeze()\n",
    "pred = F.softmax(output[mask], dim=-1)\n",
    "target = data['customer', 'order'].label[mask].squeeze()\n",
    "pred = pred.argmax(dim=-1)\n",
    "\n",
    "cfm = confusion_matrix(target.cpu().numpy(), pred.cpu().numpy())\n",
    "sns.heatmap(cfm, annot=True, fmt='d', cmap='Blues')\n",
    "plt.show()"
   ]
  },
  {
   "cell_type": "code",
   "execution_count": null,
   "metadata": {},
   "outputs": [
    {
     "data": {
      "image/png": "[encoded data removed]",
      "text/plain": [
       "<Figure size 640x480 with 2 Axes>"
      ]
     },
     "metadata": {},
     "output_type": "display_data"
    }
   ],
   "source": [
    "\n",
    "embedded_model.eval()\n",
    "output = embedded_model(data)\n",
    "# edge_attr[:,-3] - train mask\n",
    "mask_name = \"valid_masks\"\n",
    "mask = data['customer', 'order'][mask_name].bool().squeeze()\n",
    "pred = F.softmax(output[mask], dim=-1)\n",
    "target = data['customer', 'order'].label[mask].squeeze()\n",
    "pred = pred.argmax(dim=-1)\n",
    "\n",
    "cfm = confusion_matrix(target.cpu().numpy(), pred.cpu().numpy())\n",
    "sns.heatmap(cfm, annot=True, fmt='d', cmap='Blues')\n",
    "plt.show()"
   ]
  },
  {
   "cell_type": "code",
   "execution_count": null,
   "metadata": {},
   "outputs": [
    {
     "data": {
      "image/png": "[encoded data removed]",
      "text/plain": [
       "<Figure size 640x480 with 1 Axes>"
      ]
     },
     "metadata": {},
     "output_type": "display_data"
    }
   ],
   "source": [
    "plt.plot(losses)\n",
    "\n",
    "plt.legend([\"Loss\"])\n",
    "plt.show()"
   ]
  },
  {
   "cell_type": "code",
   "execution_count": null,
   "metadata": {},
   "outputs": [
    {
     "data": {
      "image/png": "[encoded data removed]",
      "text/plain": [
       "<Figure size 640x480 with 1 Axes>"
      ]
     },
     "metadata": {},
     "output_type": "display_data"
    }
   ],
   "source": [
    "import numpy as np\n",
    "valid_dist = np.array(valid_dist)\n",
    "plt.plot(valid_dist[:,0])\n",
    "plt.plot(valid_dist[:,1])\n",
    "plt.plot(valid_dist[:,2])\n",
    "plt.legend([\"No return\", \"Partial return\", \"Full return\"])\n",
    "plt.show()"
   ]
  }
 ],
 "metadata": {
  "kernelspec": {
   "display_name": "pytorch-env",
   "language": "python",
   "name": "python3"
  },
  "language_info": {
   "codemirror_mode": {
    "name": "ipython",
    "version": 3
   },
   "file_extension": ".py",
   "mimetype": "text/x-python",
   "name": "python",
   "nbconvert_exporter": "python",
   "pygments_lexer": "ipython3",
   "version": "3.10.14"
  }
 },
 "nbformat": 4,
 "nbformat_minor": 2
}
