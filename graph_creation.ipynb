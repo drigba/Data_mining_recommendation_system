{
 "cells": [
  {
   "cell_type": "code",
   "id": "initial_id",
   "metadata": {
    "collapsed": true,
    "ExecuteTime": {
     "end_time": "2024-04-29T13:25:21.042807Z",
     "start_time": "2024-04-29T13:25:21.040104Z"
    }
   },
   "source": [
    "import pandas as pd\n",
    "pd.set_option('display.max_columns', None)"
   ],
   "outputs": [],
   "execution_count": 1
  },
  {
   "metadata": {
    "ExecuteTime": {
     "end_time": "2024-04-29T13:25:22.324284Z",
     "start_time": "2024-04-29T13:25:21.723606Z"
    }
   },
   "cell_type": "code",
   "source": [
    "df = pd.read_csv(\"task1_data.txt\")\n",
    "train_labels = pd.read_csv(\"task1_train_label.txt\", header=None, sep=\"\\t\", names=[\"order\", \"label\"])\n",
    "valid_labels = pd.read_csv(\"task1_valid_label.txt\", header=None, sep=\"\\t\", names=[\"order\", \"label\"])\n",
    "test_query = pd.read_csv(\"task1_test_query.txt\",header=None, names=[\"order\"])"
   ],
   "id": "64c1b4e2078c1d75",
   "outputs": [],
   "execution_count": 2
  },
  {
   "metadata": {
    "ExecuteTime": {
     "end_time": "2024-04-29T13:25:22.713113Z",
     "start_time": "2024-04-29T13:25:22.325536Z"
    }
   },
   "cell_type": "code",
   "source": [
    "train_df = df.merge(train_labels, on=\"order\")\n",
    "valid_df = df.merge(valid_labels, on=\"order\")\n",
    "test_df = df.merge(test_query, on=\"order\")"
   ],
   "id": "1ba144d953c0b663",
   "outputs": [],
   "execution_count": 3
  },
  {
   "metadata": {
    "ExecuteTime": {
     "end_time": "2024-04-29T13:25:23.241345Z",
     "start_time": "2024-04-29T13:25:23.234638Z"
    }
   },
   "cell_type": "code",
   "source": "train_df.head()",
   "id": "a0148a98fcbda695",
   "outputs": [
    {
     "data": {
      "text/plain": [
       "    order  product  customer  color  size  group  label\n",
       "0  298957    54654    192219    169    10     11      0\n",
       "1  298957    57127    192219    611    10     11      0\n",
       "2  570617    23677    322757     43    24     19      1\n",
       "3  570617    54993    322757    543    24     19      1\n",
       "4  654410    53969    305375    313    17     27      2"
      ],
      "text/html": [
       "<div>\n",
       "<style scoped>\n",
       "    .dataframe tbody tr th:only-of-type {\n",
       "        vertical-align: middle;\n",
       "    }\n",
       "\n",
       "    .dataframe tbody tr th {\n",
       "        vertical-align: top;\n",
       "    }\n",
       "\n",
       "    .dataframe thead th {\n",
       "        text-align: right;\n",
       "    }\n",
       "</style>\n",
       "<table border=\"1\" class=\"dataframe\">\n",
       "  <thead>\n",
       "    <tr style=\"text-align: right;\">\n",
       "      <th></th>\n",
       "      <th>order</th>\n",
       "      <th>product</th>\n",
       "      <th>customer</th>\n",
       "      <th>color</th>\n",
       "      <th>size</th>\n",
       "      <th>group</th>\n",
       "      <th>label</th>\n",
       "    </tr>\n",
       "  </thead>\n",
       "  <tbody>\n",
       "    <tr>\n",
       "      <th>0</th>\n",
       "      <td>298957</td>\n",
       "      <td>54654</td>\n",
       "      <td>192219</td>\n",
       "      <td>169</td>\n",
       "      <td>10</td>\n",
       "      <td>11</td>\n",
       "      <td>0</td>\n",
       "    </tr>\n",
       "    <tr>\n",
       "      <th>1</th>\n",
       "      <td>298957</td>\n",
       "      <td>57127</td>\n",
       "      <td>192219</td>\n",
       "      <td>611</td>\n",
       "      <td>10</td>\n",
       "      <td>11</td>\n",
       "      <td>0</td>\n",
       "    </tr>\n",
       "    <tr>\n",
       "      <th>2</th>\n",
       "      <td>570617</td>\n",
       "      <td>23677</td>\n",
       "      <td>322757</td>\n",
       "      <td>43</td>\n",
       "      <td>24</td>\n",
       "      <td>19</td>\n",
       "      <td>1</td>\n",
       "    </tr>\n",
       "    <tr>\n",
       "      <th>3</th>\n",
       "      <td>570617</td>\n",
       "      <td>54993</td>\n",
       "      <td>322757</td>\n",
       "      <td>543</td>\n",
       "      <td>24</td>\n",
       "      <td>19</td>\n",
       "      <td>1</td>\n",
       "    </tr>\n",
       "    <tr>\n",
       "      <th>4</th>\n",
       "      <td>654410</td>\n",
       "      <td>53969</td>\n",
       "      <td>305375</td>\n",
       "      <td>313</td>\n",
       "      <td>17</td>\n",
       "      <td>27</td>\n",
       "      <td>2</td>\n",
       "    </tr>\n",
       "  </tbody>\n",
       "</table>\n",
       "</div>"
      ]
     },
     "execution_count": 4,
     "metadata": {},
     "output_type": "execute_result"
    }
   ],
   "execution_count": 4
  },
  {
   "metadata": {
    "ExecuteTime": {
     "end_time": "2024-04-29T13:25:24.054440Z",
     "start_time": "2024-04-29T13:25:24.051326Z"
    }
   },
   "cell_type": "code",
   "source": [
    "def get_customer_edgelist(df: pd.DataFrame) -> pd.DataFrame:\n",
    "    \"\"\"\n",
    "    Returns the customer edgelist with the following edge attributes: customer, order, n_products, label\n",
    "    \n",
    "    Args:\n",
    "        df (pandas.DataFrame): DataFrame containing customer order information.\n",
    "    Returns:\n",
    "        pandas.DataFrame: DataFrame containing customer edgelist.\n",
    "    \"\"\"\n",
    "    # Group by customer\n",
    "    customer_groups = df.groupby(['order', 'customer', 'label']).size().reset_index().rename(columns={0: 'n_products'})\n",
    "    return customer_groups[['customer', 'order', 'n_products', 'label']].sort_values(by='customer')\n",
    "\n",
    "def save_customer_edgelist(df: pd.DataFrame, filename: str) -> None:\n",
    "    \"\"\"\n",
    "    Saves the customer edgelist to a file.\n",
    "    \n",
    "    Args:\n",
    "        df (pandas.DataFrame): DataFrame containing customer edgelist.\n",
    "        filename (str): Filename to save the customer edgelist to.\n",
    "    \"\"\"\n",
    "    output = get_customer_edgelist(df)\n",
    "    output.to_csv(filename, sep=',', index=False)"
   ],
   "id": "53e78dd8023aaf2c",
   "outputs": [],
   "execution_count": 5
  },
  {
   "metadata": {
    "ExecuteTime": {
     "end_time": "2024-04-29T13:25:26.161178Z",
     "start_time": "2024-04-29T13:25:25.215328Z"
    }
   },
   "cell_type": "code",
   "source": "save_customer_edgelist(train_df, 'train_edgelist.csv')",
   "id": "fe0d9b828ed644d3",
   "outputs": [],
   "execution_count": 6
  }
 ],
 "metadata": {
  "kernelspec": {
   "display_name": "Python 3",
   "language": "python",
   "name": "python3"
  },
  "language_info": {
   "codemirror_mode": {
    "name": "ipython",
    "version": 2
   },
   "file_extension": ".py",
   "mimetype": "text/x-python",
   "name": "python",
   "nbconvert_exporter": "python",
   "pygments_lexer": "ipython2",
   "version": "2.7.6"
  }
 },
 "nbformat": 4,
 "nbformat_minor": 5
}
