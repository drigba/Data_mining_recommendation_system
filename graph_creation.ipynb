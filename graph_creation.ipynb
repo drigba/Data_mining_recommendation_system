{
 "cells": [
  {
   "cell_type": "code",
   "execution_count": 4,
   "id": "initial_id",
   "metadata": {
    "ExecuteTime": {
     "end_time": "2024-04-29T13:35:12.460059Z",
     "start_time": "2024-04-29T13:35:12.457021Z"
    },
    "collapsed": true
   },
   "outputs": [],
   "source": [
    "import pandas as pd\n",
    "import numpy as np\n",
    "\n",
    "pd.set_option('display.max_columns', None)"
   ]
  },
  {
   "cell_type": "markdown",
   "id": "7949a953c19a3d17",
   "metadata": {},
   "source": [
    "# Load Dataset"
   ]
  },
  {
   "cell_type": "code",
   "execution_count": 5,
   "id": "64c1b4e2078c1d75",
   "metadata": {
    "ExecuteTime": {
     "end_time": "2024-04-29T13:35:13.074015Z",
     "start_time": "2024-04-29T13:35:12.472094Z"
    }
   },
   "outputs": [],
   "source": [
    "df = pd.read_csv(\"task1_data.txt\")\n",
    "train_labels = pd.read_csv(\"task1_train_label.txt\", header=None, sep=\"\\t\", names=[\"order\", \"label\"])\n",
    "valid_labels = pd.read_csv(\"task1_valid_label.txt\", header=None, sep=\"\\t\", names=[\"order\", \"label\"])\n",
    "test_query = pd.read_csv(\"task1_test_query.txt\",header=None, names=[\"order\"])"
   ]
  },
  {
   "cell_type": "code",
   "execution_count": 7,
   "id": "ef058777",
   "metadata": {},
   "outputs": [],
   "source": [
    "test_query[\"label\"] = -1"
   ]
  },
  {
   "cell_type": "code",
   "execution_count": 8,
   "id": "1ba144d953c0b663",
   "metadata": {
    "ExecuteTime": {
     "end_time": "2024-04-29T13:42:32.580311Z",
     "start_time": "2024-04-29T13:42:32.123903Z"
    }
   },
   "outputs": [],
   "source": [
    "train_df = df.merge(train_labels, on=\"order\")\n",
    "valid_df = df.merge(valid_labels, on=\"order\")\n",
    "test_df = df.merge(test_query, on=\"order\")"
   ]
  },
  {
   "cell_type": "code",
   "execution_count": 9,
   "id": "11423d8e",
   "metadata": {},
   "outputs": [
    {
     "data": {
      "text/html": [
       "<div>\n",
       "<style scoped>\n",
       "    .dataframe tbody tr th:only-of-type {\n",
       "        vertical-align: middle;\n",
       "    }\n",
       "\n",
       "    .dataframe tbody tr th {\n",
       "        vertical-align: top;\n",
       "    }\n",
       "\n",
       "    .dataframe thead th {\n",
       "        text-align: right;\n",
       "    }\n",
       "</style>\n",
       "<table border=\"1\" class=\"dataframe\">\n",
       "  <thead>\n",
       "    <tr style=\"text-align: right;\">\n",
       "      <th></th>\n",
       "      <th>order</th>\n",
       "      <th>train_masks</th>\n",
       "      <th>valid_masks</th>\n",
       "      <th>test_masks</th>\n",
       "    </tr>\n",
       "  </thead>\n",
       "  <tbody>\n",
       "    <tr>\n",
       "      <th>0</th>\n",
       "      <td>298957</td>\n",
       "      <td>1.0</td>\n",
       "      <td>0.0</td>\n",
       "      <td>0.0</td>\n",
       "    </tr>\n",
       "    <tr>\n",
       "      <th>1</th>\n",
       "      <td>570617</td>\n",
       "      <td>1.0</td>\n",
       "      <td>0.0</td>\n",
       "      <td>0.0</td>\n",
       "    </tr>\n",
       "    <tr>\n",
       "      <th>2</th>\n",
       "      <td>654410</td>\n",
       "      <td>1.0</td>\n",
       "      <td>0.0</td>\n",
       "      <td>0.0</td>\n",
       "    </tr>\n",
       "    <tr>\n",
       "      <th>3</th>\n",
       "      <td>286127</td>\n",
       "      <td>1.0</td>\n",
       "      <td>0.0</td>\n",
       "      <td>0.0</td>\n",
       "    </tr>\n",
       "    <tr>\n",
       "      <th>4</th>\n",
       "      <td>39521</td>\n",
       "      <td>1.0</td>\n",
       "      <td>0.0</td>\n",
       "      <td>0.0</td>\n",
       "    </tr>\n",
       "    <tr>\n",
       "      <th>...</th>\n",
       "      <td>...</td>\n",
       "      <td>...</td>\n",
       "      <td>...</td>\n",
       "      <td>...</td>\n",
       "    </tr>\n",
       "    <tr>\n",
       "      <th>127373</th>\n",
       "      <td>745048</td>\n",
       "      <td>0.0</td>\n",
       "      <td>0.0</td>\n",
       "      <td>1.0</td>\n",
       "    </tr>\n",
       "    <tr>\n",
       "      <th>127374</th>\n",
       "      <td>541377</td>\n",
       "      <td>0.0</td>\n",
       "      <td>0.0</td>\n",
       "      <td>1.0</td>\n",
       "    </tr>\n",
       "    <tr>\n",
       "      <th>127375</th>\n",
       "      <td>310744</td>\n",
       "      <td>0.0</td>\n",
       "      <td>0.0</td>\n",
       "      <td>1.0</td>\n",
       "    </tr>\n",
       "    <tr>\n",
       "      <th>127376</th>\n",
       "      <td>448242</td>\n",
       "      <td>0.0</td>\n",
       "      <td>0.0</td>\n",
       "      <td>1.0</td>\n",
       "    </tr>\n",
       "    <tr>\n",
       "      <th>127377</th>\n",
       "      <td>152315</td>\n",
       "      <td>0.0</td>\n",
       "      <td>0.0</td>\n",
       "      <td>1.0</td>\n",
       "    </tr>\n",
       "  </tbody>\n",
       "</table>\n",
       "<p>849185 rows × 4 columns</p>\n",
       "</div>"
      ],
      "text/plain": [
       "         order  train_masks  valid_masks  test_masks\n",
       "0       298957          1.0          0.0         0.0\n",
       "1       570617          1.0          0.0         0.0\n",
       "2       654410          1.0          0.0         0.0\n",
       "3       286127          1.0          0.0         0.0\n",
       "4        39521          1.0          0.0         0.0\n",
       "...        ...          ...          ...         ...\n",
       "127373  745048          0.0          0.0         1.0\n",
       "127374  541377          0.0          0.0         1.0\n",
       "127375  310744          0.0          0.0         1.0\n",
       "127376  448242          0.0          0.0         1.0\n",
       "127377  152315          0.0          0.0         1.0\n",
       "\n",
       "[849185 rows x 4 columns]"
      ]
     },
     "execution_count": 9,
     "metadata": {},
     "output_type": "execute_result"
    }
   ],
   "source": [
    "labels = pd.concat([train_labels, valid_labels, test_query])\n",
    "\n",
    "total_length = len(train_labels) + len(valid_labels) + len(test_query)\n",
    "\n",
    "train_masks = np.concatenate([np.ones(len(train_labels)), np.zeros(total_length - len(train_labels))])\n",
    "valid_masks = np.concatenate([np.zeros(len(train_labels)), np.ones(len(valid_labels)), np.zeros(len(test_query))])\n",
    "test_masks = np.concatenate([np.zeros(total_length - len(test_query)), np.ones(len(test_query))])\n",
    "\n",
    "masks = pd.DataFrame({\"order\": labels[\"order\"],\"train_masks\": train_masks, \"valid_masks\": valid_masks, \"test_masks\": test_masks})\n",
    "masks"
   ]
  },
  {
   "cell_type": "code",
   "execution_count": 10,
   "id": "a292124e",
   "metadata": {},
   "outputs": [
    {
     "data": {
      "text/html": [
       "<div>\n",
       "<style scoped>\n",
       "    .dataframe tbody tr th:only-of-type {\n",
       "        vertical-align: middle;\n",
       "    }\n",
       "\n",
       "    .dataframe tbody tr th {\n",
       "        vertical-align: top;\n",
       "    }\n",
       "\n",
       "    .dataframe thead th {\n",
       "        text-align: right;\n",
       "    }\n",
       "</style>\n",
       "<table border=\"1\" class=\"dataframe\">\n",
       "  <thead>\n",
       "    <tr style=\"text-align: right;\">\n",
       "      <th></th>\n",
       "      <th>order</th>\n",
       "      <th>product</th>\n",
       "      <th>customer</th>\n",
       "      <th>color</th>\n",
       "      <th>size</th>\n",
       "      <th>group</th>\n",
       "      <th>label</th>\n",
       "    </tr>\n",
       "  </thead>\n",
       "  <tbody>\n",
       "    <tr>\n",
       "      <th>0</th>\n",
       "      <td>298957</td>\n",
       "      <td>54654</td>\n",
       "      <td>192219</td>\n",
       "      <td>169</td>\n",
       "      <td>10</td>\n",
       "      <td>11</td>\n",
       "      <td>0</td>\n",
       "    </tr>\n",
       "    <tr>\n",
       "      <th>1</th>\n",
       "      <td>298957</td>\n",
       "      <td>57127</td>\n",
       "      <td>192219</td>\n",
       "      <td>611</td>\n",
       "      <td>10</td>\n",
       "      <td>11</td>\n",
       "      <td>0</td>\n",
       "    </tr>\n",
       "    <tr>\n",
       "      <th>2</th>\n",
       "      <td>570617</td>\n",
       "      <td>23677</td>\n",
       "      <td>322757</td>\n",
       "      <td>43</td>\n",
       "      <td>24</td>\n",
       "      <td>19</td>\n",
       "      <td>1</td>\n",
       "    </tr>\n",
       "  </tbody>\n",
       "</table>\n",
       "</div>"
      ],
      "text/plain": [
       "    order  product  customer  color  size  group  label\n",
       "0  298957    54654    192219    169    10     11      0\n",
       "1  298957    57127    192219    611    10     11      0\n",
       "2  570617    23677    322757     43    24     19      1"
      ]
     },
     "execution_count": 10,
     "metadata": {},
     "output_type": "execute_result"
    }
   ],
   "source": [
    "df = df.merge(labels, on=\"order\")\n",
    "df.head(3)"
   ]
  },
  {
   "cell_type": "code",
   "execution_count": 31,
   "id": "6582449b",
   "metadata": {},
   "outputs": [
    {
     "data": {
      "text/html": [
       "<div>\n",
       "<style scoped>\n",
       "    .dataframe tbody tr th:only-of-type {\n",
       "        vertical-align: middle;\n",
       "    }\n",
       "\n",
       "    .dataframe tbody tr th {\n",
       "        vertical-align: top;\n",
       "    }\n",
       "\n",
       "    .dataframe thead th {\n",
       "        text-align: right;\n",
       "    }\n",
       "</style>\n",
       "<table border=\"1\" class=\"dataframe\">\n",
       "  <thead>\n",
       "    <tr style=\"text-align: right;\">\n",
       "      <th></th>\n",
       "      <th>order</th>\n",
       "      <th>product</th>\n",
       "      <th>customer</th>\n",
       "      <th>color</th>\n",
       "      <th>size</th>\n",
       "      <th>group</th>\n",
       "      <th>label</th>\n",
       "    </tr>\n",
       "  </thead>\n",
       "  <tbody>\n",
       "    <tr>\n",
       "      <th>0</th>\n",
       "      <td>529565</td>\n",
       "      <td>10260</td>\n",
       "      <td>212452</td>\n",
       "      <td>92</td>\n",
       "      <td>17</td>\n",
       "      <td>19</td>\n",
       "      <td>0</td>\n",
       "    </tr>\n",
       "    <tr>\n",
       "      <th>1</th>\n",
       "      <td>529565</td>\n",
       "      <td>51789</td>\n",
       "      <td>212452</td>\n",
       "      <td>169</td>\n",
       "      <td>17</td>\n",
       "      <td>19</td>\n",
       "      <td>0</td>\n",
       "    </tr>\n",
       "    <tr>\n",
       "      <th>2</th>\n",
       "      <td>529565</td>\n",
       "      <td>12020</td>\n",
       "      <td>212452</td>\n",
       "      <td>313</td>\n",
       "      <td>17</td>\n",
       "      <td>19</td>\n",
       "      <td>0</td>\n",
       "    </tr>\n",
       "    <tr>\n",
       "      <th>3</th>\n",
       "      <td>529565</td>\n",
       "      <td>17961</td>\n",
       "      <td>212452</td>\n",
       "      <td>627</td>\n",
       "      <td>10</td>\n",
       "      <td>19</td>\n",
       "      <td>0</td>\n",
       "    </tr>\n",
       "    <tr>\n",
       "      <th>4</th>\n",
       "      <td>529565</td>\n",
       "      <td>47772</td>\n",
       "      <td>212452</td>\n",
       "      <td>409</td>\n",
       "      <td>17</td>\n",
       "      <td>6</td>\n",
       "      <td>0</td>\n",
       "    </tr>\n",
       "    <tr>\n",
       "      <th>...</th>\n",
       "      <td>...</td>\n",
       "      <td>...</td>\n",
       "      <td>...</td>\n",
       "      <td>...</td>\n",
       "      <td>...</td>\n",
       "      <td>...</td>\n",
       "      <td>...</td>\n",
       "    </tr>\n",
       "    <tr>\n",
       "      <th>386801</th>\n",
       "      <td>649891</td>\n",
       "      <td>29753</td>\n",
       "      <td>106325</td>\n",
       "      <td>81</td>\n",
       "      <td>17</td>\n",
       "      <td>0</td>\n",
       "      <td>2</td>\n",
       "    </tr>\n",
       "    <tr>\n",
       "      <th>386802</th>\n",
       "      <td>735831</td>\n",
       "      <td>3463</td>\n",
       "      <td>37468</td>\n",
       "      <td>249</td>\n",
       "      <td>14</td>\n",
       "      <td>9</td>\n",
       "      <td>0</td>\n",
       "    </tr>\n",
       "    <tr>\n",
       "      <th>386803</th>\n",
       "      <td>435829</td>\n",
       "      <td>21960</td>\n",
       "      <td>270329</td>\n",
       "      <td>31</td>\n",
       "      <td>10</td>\n",
       "      <td>11</td>\n",
       "      <td>0</td>\n",
       "    </tr>\n",
       "    <tr>\n",
       "      <th>386804</th>\n",
       "      <td>435829</td>\n",
       "      <td>58150</td>\n",
       "      <td>270329</td>\n",
       "      <td>548</td>\n",
       "      <td>17</td>\n",
       "      <td>11</td>\n",
       "      <td>0</td>\n",
       "    </tr>\n",
       "    <tr>\n",
       "      <th>386805</th>\n",
       "      <td>435829</td>\n",
       "      <td>20653</td>\n",
       "      <td>270329</td>\n",
       "      <td>437</td>\n",
       "      <td>17</td>\n",
       "      <td>8</td>\n",
       "      <td>0</td>\n",
       "    </tr>\n",
       "  </tbody>\n",
       "</table>\n",
       "<p>386806 rows × 7 columns</p>\n",
       "</div>"
      ],
      "text/plain": [
       "         order  product  customer  color  size  group  label\n",
       "0       529565    10260    212452     92    17     19      0\n",
       "1       529565    51789    212452    169    17     19      0\n",
       "2       529565    12020    212452    313    17     19      0\n",
       "3       529565    17961    212452    627    10     19      0\n",
       "4       529565    47772    212452    409    17      6      0\n",
       "...        ...      ...       ...    ...   ...    ...    ...\n",
       "386801  649891    29753    106325     81    17      0      2\n",
       "386802  735831     3463     37468    249    14      9      0\n",
       "386803  435829    21960    270329     31    10     11      0\n",
       "386804  435829    58150    270329    548    17     11      0\n",
       "386805  435829    20653    270329    437    17      8      0\n",
       "\n",
       "[386806 rows x 7 columns]"
      ]
     },
     "execution_count": 31,
     "metadata": {},
     "output_type": "execute_result"
    }
   ],
   "source": [
    "valid_df"
   ]
  },
  {
   "cell_type": "markdown",
   "id": "6d908096785980fe",
   "metadata": {},
   "source": [
    "# Create Customer Edgelist"
   ]
  },
  {
   "cell_type": "code",
   "execution_count": 51,
   "id": "53e78dd8023aaf2c",
   "metadata": {
    "ExecuteTime": {
     "end_time": "2024-04-29T13:35:13.450220Z",
     "start_time": "2024-04-29T13:35:13.447387Z"
    }
   },
   "outputs": [],
   "source": [
    "def get_customer_edgelist(df: pd.DataFrame) -> pd.DataFrame:\n",
    "    \"\"\"\n",
    "    Returns the customer edgelist with the following edge attributes: customer, order, n_products, label\n",
    "    \n",
    "    Args:\n",
    "        df (pandas.DataFrame): DataFrame containing customer order information.\n",
    "    Returns:\n",
    "        pandas.DataFrame: DataFrame containing customer edgelist.\n",
    "    \"\"\"\n",
    "    # Group by customer\n",
    "    customer_groups = df.groupby(['order', 'customer', 'label']).size().reset_index().rename(columns={0: 'n_products'})\n",
    "    return customer_groups[['customer', 'order', 'n_products', 'label']].sort_values(by='customer')\n",
    "\n",
    "def save_customer_edgelist(df: pd.DataFrame, filename: str) -> None:\n",
    "    \"\"\"\n",
    "    Saves the customer edgelist to a file.\n",
    "    \n",
    "    Args:\n",
    "        df (pandas.DataFrame): DataFrame containing customer edgelist.\n",
    "        filename (str): Filename to save the customer edgelist to.\n",
    "    \"\"\"\n",
    "    output = get_customer_edgelist(df)\n",
    "    output.to_csv(filename, sep=',', index=False)"
   ]
  },
  {
   "cell_type": "code",
   "execution_count": 71,
   "id": "fe0d9b828ed644d3",
   "metadata": {
    "ExecuteTime": {
     "end_time": "2024-04-29T13:35:14.389231Z",
     "start_time": "2024-04-29T13:35:13.450921Z"
    }
   },
   "outputs": [],
   "source": [
    "# save_customer_edgelist(train_df, 'train_customer_edgelist.csv')\n",
    "customer_edge_list = get_customer_edgelist(df)\n",
    "customer_edge_list = customer_edge_list.merge(masks, on=\"order\")\n",
    "customer_edge_list.to_csv(\"customer_edgelist.csv\", index=False)"
   ]
  },
  {
   "cell_type": "markdown",
   "id": "4c39d22e190cee93",
   "metadata": {},
   "source": [
    "# Create Order Edgelist"
   ]
  },
  {
   "cell_type": "code",
   "execution_count": 7,
   "id": "8745897b64243cff",
   "metadata": {
    "ExecuteTime": {
     "end_time": "2024-04-29T13:37:40.086901Z",
     "start_time": "2024-04-29T13:37:40.083398Z"
    }
   },
   "outputs": [],
   "source": [
    "def get_order_edgelist(df: pd.DataFrame) -> pd.DataFrame:\n",
    "    \"\"\"\n",
    "    Returns the order edgelist with the following edge attributes: order, product, n_customers, label\n",
    "    \n",
    "    Args:\n",
    "        df (pandas.DataFrame): DataFrame containing customer order information.\n",
    "    Returns:\n",
    "        pandas.DataFrame: DataFrame containing order edgelist.\n",
    "    \"\"\"\n",
    "    # Group by order\n",
    "    order_groups = df.groupby(['order', 'product', 'label','color','size']).size().reset_index().rename(columns={0: 'n_customers'})\n",
    "    return order_groups[['order', 'product', 'label','color','size']].sort_values(by='order')\n",
    "\n",
    "def save_order_edgelist(df: pd.DataFrame, filename: str) -> None:\n",
    "    \"\"\"\n",
    "    Saves the order edgelist to a file.\n",
    "    \n",
    "    Args:\n",
    "        df (pandas.DataFrame): DataFrame containing order edgelist.\n",
    "        filename (str): Filename to save the order edgelist to.\n",
    "    \"\"\"\n",
    "    output = get_order_edgelist(df)\n",
    "    output.to_csv(filename, sep=',', index=False)"
   ]
  },
  {
   "cell_type": "code",
   "execution_count": 10,
   "id": "335d3f22e3474b46",
   "metadata": {
    "ExecuteTime": {
     "end_time": "2024-04-29T13:35:17.295099Z",
     "start_time": "2024-04-29T13:35:14.393813Z"
    }
   },
   "outputs": [],
   "source": [
    "# save_order_edgelist(train_df, 'train_order_edgelist.csv')\n",
    "save_order_edgelist(df, 'order_edgelist.csv')"
   ]
  },
  {
   "cell_type": "markdown",
   "id": "6cc33a1a9f1e85ed",
   "metadata": {},
   "source": [
    "# Create Customer Node Attributes\n",
    "Possibly find some way to find the average size of product ordered, but also linked to product type."
   ]
  },
  {
   "cell_type": "code",
   "execution_count": 70,
   "id": "1d28b3d8988ebc77",
   "metadata": {
    "ExecuteTime": {
     "end_time": "2024-04-29T14:14:54.769167Z",
     "start_time": "2024-04-29T14:14:54.762796Z"
    }
   },
   "outputs": [],
   "source": [
    "def get_customer_node_attributes(df: pd.DataFrame) -> pd.DataFrame:\n",
    "    \"\"\"\n",
    "    Returns the customer node attributes with the following attributes: customer, n_orders, n_products, label\n",
    "    \n",
    "    Args:\n",
    "        df (pandas.DataFrame): DataFrame containing customer order information.\n",
    "    Returns:\n",
    "        pandas.DataFrame: DataFrame containing customer node attributes.\n",
    "    \"\"\"\n",
    "    # Group by customer\n",
    "    customer_groups = df.groupby(['customer', 'order', 'label']).size().reset_index().rename(columns={0: 'n_products'})\n",
    "    customer_groups['n_not_returned'] = customer_groups['label'].apply(lambda x: 1 if x == 0 else 0)\n",
    "    customer_groups['n_partial_returned'] = customer_groups['label'].apply(lambda x: 1 if x == 1 else 0)\n",
    "    customer_groups['n_fully_returned'] = customer_groups['label'].apply(lambda x: 1 if x == 2 else 0)\n",
    "    customer_groups = customer_groups.groupby('customer').agg({'order': 'count', 'n_not_returned': 'sum', 'n_partial_returned': 'sum', 'n_fully_returned': 'sum', 'n_products': 'sum'}).reset_index().rename(columns={'order': 'n_orders'})\n",
    "    return customer_groups\n",
    "\n",
    "def save_customer_node_attributes(df: pd.DataFrame, filename: str) -> None:\n",
    "    \"\"\"\n",
    "    Saves the customer node attributes to a file.\n",
    "    \n",
    "    Args:\n",
    "        df (pandas.DataFrame): DataFrame containing customer node attributes.\n",
    "        filename (str): Filename to save the customer node attributes to.\n",
    "    \"\"\"\n",
    "    output = get_customer_node_attributes(df)\n",
    "    output.to_csv(filename, sep=',', index=False)"
   ]
  },
  {
   "cell_type": "code",
   "execution_count": 67,
   "id": "10abcea6d07474be",
   "metadata": {
    "ExecuteTime": {
     "end_time": "2024-04-29T14:15:03.654853Z",
     "start_time": "2024-04-29T14:15:02.520412Z"
    }
   },
   "outputs": [],
   "source": [
    "save_customer_node_attributes(df, 'customer_node_attributes.csv')"
   ]
  },
  {
   "cell_type": "markdown",
   "id": "49f5e0edcc0bbfab",
   "metadata": {},
   "source": [
    "# Create Order Node Attributes"
   ]
  },
  {
   "cell_type": "code",
   "execution_count": 12,
   "id": "c2b6739ddc51a707",
   "metadata": {
    "ExecuteTime": {
     "end_time": "2024-04-29T14:18:28.068190Z",
     "start_time": "2024-04-29T14:18:28.065167Z"
    }
   },
   "outputs": [],
   "source": [
    "def get_order_node_attributes(df: pd.DataFrame) -> pd.DataFrame:\n",
    "    \"\"\"\n",
    "    Returns the order node attributes with the following attributes: customer, n_orders, n_products, label\n",
    "    \n",
    "    Args:\n",
    "        df (pandas.DataFrame): DataFrame containing customer order information.\n",
    "    Returns:\n",
    "        pandas.DataFrame: DataFrame containing customer node attributes.\n",
    "    \"\"\"\n",
    "    customer_groups = df.groupby(['order', 'label']).size().reset_index().rename(columns={0: 'n_products'})\n",
    "    return customer_groups\n",
    "\n",
    "def save_order_node_attributes(df: pd.DataFrame, filename: str) -> None:\n",
    "    \"\"\"\n",
    "    Saves the order node attributes to a file.\n",
    "    \n",
    "    Args:\n",
    "        df (pandas.DataFrame): DataFrame containing order node attributes.\n",
    "        filename (str): Filename to save the order node attributes to.\n",
    "    \"\"\"\n",
    "    output = get_order_node_attributes(df)\n",
    "    output.to_csv(filename, sep=',', index=False)"
   ]
  },
  {
   "cell_type": "code",
   "execution_count": 68,
   "id": "dfc93944fb858697",
   "metadata": {
    "ExecuteTime": {
     "end_time": "2024-04-29T14:18:37.975813Z",
     "start_time": "2024-04-29T14:18:37.313298Z"
    }
   },
   "outputs": [],
   "source": [
    "# save_order_node_attributes(train_df, 'train_order_node_attributes.csv')\n",
    "save_order_node_attributes(df, 'order_node_attributes.csv')"
   ]
  },
  {
   "cell_type": "markdown",
   "id": "fd84bbd98e4b39a3",
   "metadata": {},
   "source": [
    "# Create Product Node Attributes"
   ]
  },
  {
   "cell_type": "code",
   "execution_count": 28,
   "id": "bd8b828030ac1445",
   "metadata": {
    "ExecuteTime": {
     "end_time": "2024-04-29T14:29:32.035824Z",
     "start_time": "2024-04-29T14:29:30.228037Z"
    }
   },
   "outputs": [],
   "source": [
    "#todo: Finish this\n",
    "def get_product_node_attributes(df: pd.DataFrame) -> pd.DataFrame:\n",
    "    \"\"\"\n",
    "    Calculate the node attributes for each product in the given DataFrame.\n",
    "\n",
    "    Parameters:\n",
    "    df (pd.DataFrame): The input DataFrame containing the product data.\n",
    "\n",
    "    Returns:\n",
    "    pd.DataFrame: A DataFrame with the calculated node attributes for each product.\n",
    "    \"\"\"\n",
    "    # Function implementation goes here\n",
    "    pass\n",
    "\n",
    "    # Group by customer\n",
    "    product_stats = df.groupby('product').agg(\n",
    "    total_count=('product', 'count'),\n",
    "    return_1=('label', lambda x: (x==1).sum()),\n",
    "    return_2=('label', lambda x: (x==2).sum())\n",
    "    ).reset_index(drop=True)\n",
    "    product_stats['return1_rate'] = product_stats['return_1'] / product_stats['total_count']\n",
    "    product_stats['return2_rate'] = product_stats['return_2'] / product_stats['total_count']\n",
    "    product_stats.rename_axis('product', inplace=True)\n",
    "    return product_stats\n",
    "\n",
    "def save_product_node_attributes(df: pd.DataFrame, filename: str) -> pd.DataFrame:\n",
    "    \"\"\"\n",
    "    Save the product node attributes to a CSV file.\n",
    "\n",
    "    Parameters:\n",
    "    - df (pd.DataFrame): The input DataFrame containing the product node attributes.\n",
    "    - filename (str): The name of the CSV file to save the attributes to.\n",
    "\n",
    "    Returns:\n",
    "    - pd.DataFrame: The DataFrame containing the product node attributes.\n",
    "\n",
    "    \"\"\"\n",
    "    output = get_product_node_attributes(df)\n",
    "    output.to_csv(filename, index=True)\n",
    "\n"
   ]
  },
  {
   "cell_type": "code",
   "execution_count": 29,
   "id": "cfd88bbd",
   "metadata": {},
   "outputs": [],
   "source": [
    "# Returns calculated only on training data\n",
    "save_product_node_attributes(train_df, \"data/product_node_attributes.csv\")\n",
    "# p_s = get_product_node_attributes(train_df)"
   ]
  },
  {
   "cell_type": "code",
   "execution_count": 26,
   "id": "390e2724b7fd21d8",
   "metadata": {},
   "outputs": [
    {
     "data": {
      "text/html": [
       "<div>\n",
       "<style scoped>\n",
       "    .dataframe tbody tr th:only-of-type {\n",
       "        vertical-align: middle;\n",
       "    }\n",
       "\n",
       "    .dataframe tbody tr th {\n",
       "        vertical-align: top;\n",
       "    }\n",
       "\n",
       "    .dataframe thead th {\n",
       "        text-align: right;\n",
       "    }\n",
       "</style>\n",
       "<table border=\"1\" class=\"dataframe\">\n",
       "  <thead>\n",
       "    <tr style=\"text-align: right;\">\n",
       "      <th></th>\n",
       "      <th>total_count</th>\n",
       "      <th>return1_rate</th>\n",
       "      <th>return2_rate</th>\n",
       "    </tr>\n",
       "    <tr>\n",
       "      <th>product</th>\n",
       "      <th></th>\n",
       "      <th></th>\n",
       "      <th></th>\n",
       "    </tr>\n",
       "  </thead>\n",
       "  <tbody>\n",
       "    <tr>\n",
       "      <th>0</th>\n",
       "      <td>19</td>\n",
       "      <td>0.789474</td>\n",
       "      <td>0.052632</td>\n",
       "    </tr>\n",
       "    <tr>\n",
       "      <th>1</th>\n",
       "      <td>28</td>\n",
       "      <td>0.535714</td>\n",
       "      <td>0.107143</td>\n",
       "    </tr>\n",
       "    <tr>\n",
       "      <th>2</th>\n",
       "      <td>39</td>\n",
       "      <td>0.564103</td>\n",
       "      <td>0.205128</td>\n",
       "    </tr>\n",
       "    <tr>\n",
       "      <th>3</th>\n",
       "      <td>38</td>\n",
       "      <td>0.736842</td>\n",
       "      <td>0.026316</td>\n",
       "    </tr>\n",
       "    <tr>\n",
       "      <th>4</th>\n",
       "      <td>17</td>\n",
       "      <td>0.882353</td>\n",
       "      <td>0.058824</td>\n",
       "    </tr>\n",
       "    <tr>\n",
       "      <th>...</th>\n",
       "      <td>...</td>\n",
       "      <td>...</td>\n",
       "      <td>...</td>\n",
       "    </tr>\n",
       "    <tr>\n",
       "      <th>58410</th>\n",
       "      <td>9</td>\n",
       "      <td>0.666667</td>\n",
       "      <td>0.333333</td>\n",
       "    </tr>\n",
       "    <tr>\n",
       "      <th>58411</th>\n",
       "      <td>27</td>\n",
       "      <td>0.592593</td>\n",
       "      <td>0.222222</td>\n",
       "    </tr>\n",
       "    <tr>\n",
       "      <th>58412</th>\n",
       "      <td>28</td>\n",
       "      <td>0.678571</td>\n",
       "      <td>0.071429</td>\n",
       "    </tr>\n",
       "    <tr>\n",
       "      <th>58413</th>\n",
       "      <td>19</td>\n",
       "      <td>0.842105</td>\n",
       "      <td>0.052632</td>\n",
       "    </tr>\n",
       "    <tr>\n",
       "      <th>58414</th>\n",
       "      <td>1</td>\n",
       "      <td>1.000000</td>\n",
       "      <td>0.000000</td>\n",
       "    </tr>\n",
       "  </tbody>\n",
       "</table>\n",
       "<p>58415 rows × 3 columns</p>\n",
       "</div>"
      ],
      "text/plain": [
       "         total_count  return1_rate  return2_rate\n",
       "product                                         \n",
       "0                 19      0.789474      0.052632\n",
       "1                 28      0.535714      0.107143\n",
       "2                 39      0.564103      0.205128\n",
       "3                 38      0.736842      0.026316\n",
       "4                 17      0.882353      0.058824\n",
       "...              ...           ...           ...\n",
       "58410              9      0.666667      0.333333\n",
       "58411             27      0.592593      0.222222\n",
       "58412             28      0.678571      0.071429\n",
       "58413             19      0.842105      0.052632\n",
       "58414              1      1.000000      0.000000\n",
       "\n",
       "[58415 rows x 3 columns]"
      ]
     },
     "execution_count": 26,
     "metadata": {},
     "output_type": "execute_result"
    }
   ],
   "source": [
    "p_s"
   ]
  }
 ],
 "metadata": {
  "kernelspec": {
   "display_name": "Python 3",
   "language": "python",
   "name": "python3"
  },
  "language_info": {
   "codemirror_mode": {
    "name": "ipython",
    "version": 3
   },
   "file_extension": ".py",
   "mimetype": "text/x-python",
   "name": "python",
   "nbconvert_exporter": "python",
   "pygments_lexer": "ipython3",
   "version": "3.11.4"
  }
 },
 "nbformat": 4,
 "nbformat_minor": 5
}
