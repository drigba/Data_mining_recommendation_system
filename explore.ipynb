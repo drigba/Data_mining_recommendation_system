{
 "cells": [
  {
   "cell_type": "code",
   "execution_count": 78,
   "metadata": {},
   "outputs": [],
   "source": [
    "import pandas as pd"
   ]
  },
  {
   "cell_type": "code",
   "execution_count": 79,
   "metadata": {},
   "outputs": [],
   "source": [
    "df = pd.read_csv(\"task1_data.txt\")\n",
    "train_labels = pd.read_csv(\"task1_train_label.txt\", header=None, sep=\"\\t\", names=[\"order\", \"return\"])\n",
    "valid_labels = pd.read_csv(\"task1_valid_label.txt\", header=None, sep=\"\\t\", names=[\"order\", \"return\"])\n",
    "test_query = pd.read_csv(\"task1_test_query.txt\",header=None, names=[\"order\"])"
   ]
  },
  {
   "cell_type": "code",
   "execution_count": 80,
   "metadata": {},
   "outputs": [],
   "source": [
    "train_df = df.merge(train_labels, on=\"order\")\n",
    "valid_df = df.merge(valid_labels, on=\"order\")\n",
    "test_df = df.merge(test_query, on=\"order\")"
   ]
  },
  {
   "cell_type": "code",
   "execution_count": 81,
   "metadata": {},
   "outputs": [
    {
     "data": {
      "text/plain": [
       "return\n",
       "1    1116464\n",
       "0     431381\n",
       "2     345549\n",
       "Name: count, dtype: int64"
      ]
     },
     "execution_count": 81,
     "metadata": {},
     "output_type": "execute_result"
    }
   ],
   "source": [
    "train_df[\"return\"].value_counts(dropna=False)"
   ]
  },
  {
   "cell_type": "code",
   "execution_count": 82,
   "metadata": {},
   "outputs": [
    {
     "data": {
      "text/html": [
       "<div>\n",
       "<style scoped>\n",
       "    .dataframe tbody tr th:only-of-type {\n",
       "        vertical-align: middle;\n",
       "    }\n",
       "\n",
       "    .dataframe tbody tr th {\n",
       "        vertical-align: top;\n",
       "    }\n",
       "\n",
       "    .dataframe thead th {\n",
       "        text-align: right;\n",
       "    }\n",
       "</style>\n",
       "<table border=\"1\" class=\"dataframe\">\n",
       "  <thead>\n",
       "    <tr style=\"text-align: right;\">\n",
       "      <th></th>\n",
       "      <th>order</th>\n",
       "      <th>product</th>\n",
       "      <th>customer</th>\n",
       "      <th>color</th>\n",
       "      <th>size</th>\n",
       "      <th>group</th>\n",
       "      <th>return</th>\n",
       "    </tr>\n",
       "  </thead>\n",
       "  <tbody>\n",
       "    <tr>\n",
       "      <th>0</th>\n",
       "      <td>298957</td>\n",
       "      <td>54654</td>\n",
       "      <td>192219</td>\n",
       "      <td>169</td>\n",
       "      <td>10</td>\n",
       "      <td>11</td>\n",
       "      <td>0</td>\n",
       "    </tr>\n",
       "    <tr>\n",
       "      <th>1</th>\n",
       "      <td>298957</td>\n",
       "      <td>57127</td>\n",
       "      <td>192219</td>\n",
       "      <td>611</td>\n",
       "      <td>10</td>\n",
       "      <td>11</td>\n",
       "      <td>0</td>\n",
       "    </tr>\n",
       "    <tr>\n",
       "      <th>2</th>\n",
       "      <td>570617</td>\n",
       "      <td>23677</td>\n",
       "      <td>322757</td>\n",
       "      <td>43</td>\n",
       "      <td>24</td>\n",
       "      <td>19</td>\n",
       "      <td>1</td>\n",
       "    </tr>\n",
       "    <tr>\n",
       "      <th>3</th>\n",
       "      <td>570617</td>\n",
       "      <td>54993</td>\n",
       "      <td>322757</td>\n",
       "      <td>543</td>\n",
       "      <td>24</td>\n",
       "      <td>19</td>\n",
       "      <td>1</td>\n",
       "    </tr>\n",
       "    <tr>\n",
       "      <th>4</th>\n",
       "      <td>654410</td>\n",
       "      <td>53969</td>\n",
       "      <td>305375</td>\n",
       "      <td>313</td>\n",
       "      <td>17</td>\n",
       "      <td>27</td>\n",
       "      <td>2</td>\n",
       "    </tr>\n",
       "    <tr>\n",
       "      <th>...</th>\n",
       "      <td>...</td>\n",
       "      <td>...</td>\n",
       "      <td>...</td>\n",
       "      <td>...</td>\n",
       "      <td>...</td>\n",
       "      <td>...</td>\n",
       "      <td>...</td>\n",
       "    </tr>\n",
       "    <tr>\n",
       "      <th>1893389</th>\n",
       "      <td>304137</td>\n",
       "      <td>7155</td>\n",
       "      <td>239280</td>\n",
       "      <td>310</td>\n",
       "      <td>14</td>\n",
       "      <td>8</td>\n",
       "      <td>1</td>\n",
       "    </tr>\n",
       "    <tr>\n",
       "      <th>1893390</th>\n",
       "      <td>304137</td>\n",
       "      <td>28930</td>\n",
       "      <td>239280</td>\n",
       "      <td>291</td>\n",
       "      <td>2</td>\n",
       "      <td>23</td>\n",
       "      <td>1</td>\n",
       "    </tr>\n",
       "    <tr>\n",
       "      <th>1893391</th>\n",
       "      <td>359783</td>\n",
       "      <td>477</td>\n",
       "      <td>299845</td>\n",
       "      <td>131</td>\n",
       "      <td>14</td>\n",
       "      <td>1</td>\n",
       "      <td>2</td>\n",
       "    </tr>\n",
       "    <tr>\n",
       "      <th>1893392</th>\n",
       "      <td>117952</td>\n",
       "      <td>26468</td>\n",
       "      <td>81215</td>\n",
       "      <td>192</td>\n",
       "      <td>24</td>\n",
       "      <td>8</td>\n",
       "      <td>2</td>\n",
       "    </tr>\n",
       "    <tr>\n",
       "      <th>1893393</th>\n",
       "      <td>305711</td>\n",
       "      <td>51975</td>\n",
       "      <td>103613</td>\n",
       "      <td>160</td>\n",
       "      <td>24</td>\n",
       "      <td>27</td>\n",
       "      <td>0</td>\n",
       "    </tr>\n",
       "  </tbody>\n",
       "</table>\n",
       "<p>1893394 rows × 7 columns</p>\n",
       "</div>"
      ],
      "text/plain": [
       "          order  product  customer  color  size  group  return\n",
       "0        298957    54654    192219    169    10     11       0\n",
       "1        298957    57127    192219    611    10     11       0\n",
       "2        570617    23677    322757     43    24     19       1\n",
       "3        570617    54993    322757    543    24     19       1\n",
       "4        654410    53969    305375    313    17     27       2\n",
       "...         ...      ...       ...    ...   ...    ...     ...\n",
       "1893389  304137     7155    239280    310    14      8       1\n",
       "1893390  304137    28930    239280    291     2     23       1\n",
       "1893391  359783      477    299845    131    14      1       2\n",
       "1893392  117952    26468     81215    192    24      8       2\n",
       "1893393  305711    51975    103613    160    24     27       0\n",
       "\n",
       "[1893394 rows x 7 columns]"
      ]
     },
     "execution_count": 82,
     "metadata": {},
     "output_type": "execute_result"
    }
   ],
   "source": [
    "train_df"
   ]
  },
  {
   "cell_type": "code",
   "execution_count": 83,
   "metadata": {},
   "outputs": [
    {
     "data": {
      "text/plain": [
       "<Axes: >"
      ]
     },
     "execution_count": 83,
     "metadata": {},
     "output_type": "execute_result"
    },
    {
     "data": {
      "image/png": "[encoded data removed]",
      "text/plain": [
       "<Figure size 640x480 with 1 Axes>"
      ]
     },
     "metadata": {},
     "output_type": "display_data"
    }
   ],
   "source": [
    "train_df.groupby(\"order\").size().hist(bins=30)"
   ]
  },
  {
   "cell_type": "code",
   "execution_count": 84,
   "metadata": {},
   "outputs": [
    {
     "data": {
      "text/plain": [
       "product\n",
       "48216    1984\n",
       "27066    1671\n",
       "44701    1509\n",
       "6982     1207\n",
       "28512    1102\n",
       "         ... \n",
       "31260       1\n",
       "9554        1\n",
       "35543       1\n",
       "2941        1\n",
       "3298        1\n",
       "Name: count, Length: 58415, dtype: int64"
      ]
     },
     "execution_count": 84,
     "metadata": {},
     "output_type": "execute_result"
    }
   ],
   "source": [
    "train_df['product'].value_counts()"
   ]
  },
  {
   "cell_type": "code",
   "execution_count": 85,
   "metadata": {},
   "outputs": [
    {
     "data": {
      "text/html": [
       "<div>\n",
       "<style scoped>\n",
       "    .dataframe tbody tr th:only-of-type {\n",
       "        vertical-align: middle;\n",
       "    }\n",
       "\n",
       "    .dataframe tbody tr th {\n",
       "        vertical-align: top;\n",
       "    }\n",
       "\n",
       "    .dataframe thead th {\n",
       "        text-align: right;\n",
       "    }\n",
       "</style>\n",
       "<table border=\"1\" class=\"dataframe\">\n",
       "  <thead>\n",
       "    <tr style=\"text-align: right;\">\n",
       "      <th></th>\n",
       "      <th>order</th>\n",
       "      <th>product</th>\n",
       "      <th>customer</th>\n",
       "      <th>color</th>\n",
       "      <th>size</th>\n",
       "      <th>group</th>\n",
       "      <th>return</th>\n",
       "    </tr>\n",
       "  </thead>\n",
       "  <tbody>\n",
       "    <tr>\n",
       "      <th>0</th>\n",
       "      <td>298957</td>\n",
       "      <td>54654</td>\n",
       "      <td>192219</td>\n",
       "      <td>169</td>\n",
       "      <td>10</td>\n",
       "      <td>11</td>\n",
       "      <td>0</td>\n",
       "    </tr>\n",
       "    <tr>\n",
       "      <th>1</th>\n",
       "      <td>298957</td>\n",
       "      <td>57127</td>\n",
       "      <td>192219</td>\n",
       "      <td>611</td>\n",
       "      <td>10</td>\n",
       "      <td>11</td>\n",
       "      <td>0</td>\n",
       "    </tr>\n",
       "    <tr>\n",
       "      <th>2</th>\n",
       "      <td>570617</td>\n",
       "      <td>23677</td>\n",
       "      <td>322757</td>\n",
       "      <td>43</td>\n",
       "      <td>24</td>\n",
       "      <td>19</td>\n",
       "      <td>1</td>\n",
       "    </tr>\n",
       "    <tr>\n",
       "      <th>3</th>\n",
       "      <td>570617</td>\n",
       "      <td>54993</td>\n",
       "      <td>322757</td>\n",
       "      <td>543</td>\n",
       "      <td>24</td>\n",
       "      <td>19</td>\n",
       "      <td>1</td>\n",
       "    </tr>\n",
       "    <tr>\n",
       "      <th>4</th>\n",
       "      <td>654410</td>\n",
       "      <td>53969</td>\n",
       "      <td>305375</td>\n",
       "      <td>313</td>\n",
       "      <td>17</td>\n",
       "      <td>27</td>\n",
       "      <td>2</td>\n",
       "    </tr>\n",
       "    <tr>\n",
       "      <th>...</th>\n",
       "      <td>...</td>\n",
       "      <td>...</td>\n",
       "      <td>...</td>\n",
       "      <td>...</td>\n",
       "      <td>...</td>\n",
       "      <td>...</td>\n",
       "      <td>...</td>\n",
       "    </tr>\n",
       "    <tr>\n",
       "      <th>1893389</th>\n",
       "      <td>304137</td>\n",
       "      <td>7155</td>\n",
       "      <td>239280</td>\n",
       "      <td>310</td>\n",
       "      <td>14</td>\n",
       "      <td>8</td>\n",
       "      <td>1</td>\n",
       "    </tr>\n",
       "    <tr>\n",
       "      <th>1893390</th>\n",
       "      <td>304137</td>\n",
       "      <td>28930</td>\n",
       "      <td>239280</td>\n",
       "      <td>291</td>\n",
       "      <td>2</td>\n",
       "      <td>23</td>\n",
       "      <td>1</td>\n",
       "    </tr>\n",
       "    <tr>\n",
       "      <th>1893391</th>\n",
       "      <td>359783</td>\n",
       "      <td>477</td>\n",
       "      <td>299845</td>\n",
       "      <td>131</td>\n",
       "      <td>14</td>\n",
       "      <td>1</td>\n",
       "      <td>2</td>\n",
       "    </tr>\n",
       "    <tr>\n",
       "      <th>1893392</th>\n",
       "      <td>117952</td>\n",
       "      <td>26468</td>\n",
       "      <td>81215</td>\n",
       "      <td>192</td>\n",
       "      <td>24</td>\n",
       "      <td>8</td>\n",
       "      <td>2</td>\n",
       "    </tr>\n",
       "    <tr>\n",
       "      <th>1893393</th>\n",
       "      <td>305711</td>\n",
       "      <td>51975</td>\n",
       "      <td>103613</td>\n",
       "      <td>160</td>\n",
       "      <td>24</td>\n",
       "      <td>27</td>\n",
       "      <td>0</td>\n",
       "    </tr>\n",
       "  </tbody>\n",
       "</table>\n",
       "<p>1893394 rows × 7 columns</p>\n",
       "</div>"
      ],
      "text/plain": [
       "          order  product  customer  color  size  group  return\n",
       "0        298957    54654    192219    169    10     11       0\n",
       "1        298957    57127    192219    611    10     11       0\n",
       "2        570617    23677    322757     43    24     19       1\n",
       "3        570617    54993    322757    543    24     19       1\n",
       "4        654410    53969    305375    313    17     27       2\n",
       "...         ...      ...       ...    ...   ...    ...     ...\n",
       "1893389  304137     7155    239280    310    14      8       1\n",
       "1893390  304137    28930    239280    291     2     23       1\n",
       "1893391  359783      477    299845    131    14      1       2\n",
       "1893392  117952    26468     81215    192    24      8       2\n",
       "1893393  305711    51975    103613    160    24     27       0\n",
       "\n",
       "[1893394 rows x 7 columns]"
      ]
     },
     "execution_count": 85,
     "metadata": {},
     "output_type": "execute_result"
    }
   ],
   "source": [
    "train_df"
   ]
  },
  {
   "cell_type": "markdown",
   "metadata": {},
   "source": [
    "# Baseline"
   ]
  },
  {
   "cell_type": "code",
   "execution_count": 86,
   "metadata": {},
   "outputs": [
    {
     "data": {
      "text/plain": [
       "<Axes: >"
      ]
     },
     "execution_count": 86,
     "metadata": {},
     "output_type": "execute_result"
    },
    {
     "data": {
      "image/png": "[encoded data removed]",
      "text/plain": [
       "<Figure size 640x480 with 1 Axes>"
      ]
     },
     "metadata": {},
     "output_type": "display_data"
    }
   ],
   "source": [
    "# Calculate how many times each product has been in an order that was returned/partially returned\n",
    "# Return probability is the ratio of returns/partial returns and all occurences of the product\n",
    "product_stats = train_df.groupby('product').agg(\n",
    "    total_count=('product', 'count'),\n",
    "    return_1_or_2_count=('return', lambda x: (x==1).sum() + (x==2).sum())\n",
    ").reset_index(drop=True)\n",
    "product_stats['return_rate'] = product_stats['return_1_or_2_count'] / product_stats['total_count']\n",
    "product_stats[\"return_rate\"].hist()"
   ]
  },
  {
   "cell_type": "code",
   "execution_count": 87,
   "metadata": {},
   "outputs": [
    {
     "data": {
      "text/html": [
       "<div>\n",
       "<style scoped>\n",
       "    .dataframe tbody tr th:only-of-type {\n",
       "        vertical-align: middle;\n",
       "    }\n",
       "\n",
       "    .dataframe tbody tr th {\n",
       "        vertical-align: top;\n",
       "    }\n",
       "\n",
       "    .dataframe thead th {\n",
       "        text-align: right;\n",
       "    }\n",
       "</style>\n",
       "<table border=\"1\" class=\"dataframe\">\n",
       "  <thead>\n",
       "    <tr style=\"text-align: right;\">\n",
       "      <th></th>\n",
       "      <th>order</th>\n",
       "      <th>product</th>\n",
       "      <th>customer</th>\n",
       "      <th>color</th>\n",
       "      <th>size</th>\n",
       "      <th>group</th>\n",
       "      <th>return</th>\n",
       "    </tr>\n",
       "  </thead>\n",
       "  <tbody>\n",
       "    <tr>\n",
       "      <th>0</th>\n",
       "      <td>529565</td>\n",
       "      <td>10260</td>\n",
       "      <td>212452</td>\n",
       "      <td>92</td>\n",
       "      <td>17</td>\n",
       "      <td>19</td>\n",
       "      <td>0</td>\n",
       "    </tr>\n",
       "    <tr>\n",
       "      <th>1</th>\n",
       "      <td>529565</td>\n",
       "      <td>51789</td>\n",
       "      <td>212452</td>\n",
       "      <td>169</td>\n",
       "      <td>17</td>\n",
       "      <td>19</td>\n",
       "      <td>0</td>\n",
       "    </tr>\n",
       "    <tr>\n",
       "      <th>2</th>\n",
       "      <td>529565</td>\n",
       "      <td>12020</td>\n",
       "      <td>212452</td>\n",
       "      <td>313</td>\n",
       "      <td>17</td>\n",
       "      <td>19</td>\n",
       "      <td>0</td>\n",
       "    </tr>\n",
       "    <tr>\n",
       "      <th>3</th>\n",
       "      <td>529565</td>\n",
       "      <td>17961</td>\n",
       "      <td>212452</td>\n",
       "      <td>627</td>\n",
       "      <td>10</td>\n",
       "      <td>19</td>\n",
       "      <td>0</td>\n",
       "    </tr>\n",
       "    <tr>\n",
       "      <th>4</th>\n",
       "      <td>529565</td>\n",
       "      <td>47772</td>\n",
       "      <td>212452</td>\n",
       "      <td>409</td>\n",
       "      <td>17</td>\n",
       "      <td>6</td>\n",
       "      <td>0</td>\n",
       "    </tr>\n",
       "    <tr>\n",
       "      <th>...</th>\n",
       "      <td>...</td>\n",
       "      <td>...</td>\n",
       "      <td>...</td>\n",
       "      <td>...</td>\n",
       "      <td>...</td>\n",
       "      <td>...</td>\n",
       "      <td>...</td>\n",
       "    </tr>\n",
       "    <tr>\n",
       "      <th>386801</th>\n",
       "      <td>649891</td>\n",
       "      <td>29753</td>\n",
       "      <td>106325</td>\n",
       "      <td>81</td>\n",
       "      <td>17</td>\n",
       "      <td>0</td>\n",
       "      <td>2</td>\n",
       "    </tr>\n",
       "    <tr>\n",
       "      <th>386802</th>\n",
       "      <td>735831</td>\n",
       "      <td>3463</td>\n",
       "      <td>37468</td>\n",
       "      <td>249</td>\n",
       "      <td>14</td>\n",
       "      <td>9</td>\n",
       "      <td>0</td>\n",
       "    </tr>\n",
       "    <tr>\n",
       "      <th>386803</th>\n",
       "      <td>435829</td>\n",
       "      <td>21960</td>\n",
       "      <td>270329</td>\n",
       "      <td>31</td>\n",
       "      <td>10</td>\n",
       "      <td>11</td>\n",
       "      <td>0</td>\n",
       "    </tr>\n",
       "    <tr>\n",
       "      <th>386804</th>\n",
       "      <td>435829</td>\n",
       "      <td>58150</td>\n",
       "      <td>270329</td>\n",
       "      <td>548</td>\n",
       "      <td>17</td>\n",
       "      <td>11</td>\n",
       "      <td>0</td>\n",
       "    </tr>\n",
       "    <tr>\n",
       "      <th>386805</th>\n",
       "      <td>435829</td>\n",
       "      <td>20653</td>\n",
       "      <td>270329</td>\n",
       "      <td>437</td>\n",
       "      <td>17</td>\n",
       "      <td>8</td>\n",
       "      <td>0</td>\n",
       "    </tr>\n",
       "  </tbody>\n",
       "</table>\n",
       "<p>386806 rows × 7 columns</p>\n",
       "</div>"
      ],
      "text/plain": [
       "         order  product  customer  color  size  group  return\n",
       "0       529565    10260    212452     92    17     19       0\n",
       "1       529565    51789    212452    169    17     19       0\n",
       "2       529565    12020    212452    313    17     19       0\n",
       "3       529565    17961    212452    627    10     19       0\n",
       "4       529565    47772    212452    409    17      6       0\n",
       "...        ...      ...       ...    ...   ...    ...     ...\n",
       "386801  649891    29753    106325     81    17      0       2\n",
       "386802  735831     3463     37468    249    14      9       0\n",
       "386803  435829    21960    270329     31    10     11       0\n",
       "386804  435829    58150    270329    548    17     11       0\n",
       "386805  435829    20653    270329    437    17      8       0\n",
       "\n",
       "[386806 rows x 7 columns]"
      ]
     },
     "execution_count": 87,
     "metadata": {},
     "output_type": "execute_result"
    }
   ],
   "source": [
    "valid_df = valid_df.merge(product_stats[\"return_rate\"], how='left', right_index=True, left_on='product')\n",
    "valid_df[\"no_return_rate\"] = 1 - valid_df[\"return_rate\"]"
   ]
  },
  {
   "cell_type": "code",
   "execution_count": 88,
   "metadata": {},
   "outputs": [
    {
     "data": {
      "text/plain": [
       "<Axes: >"
      ]
     },
     "execution_count": 88,
     "metadata": {},
     "output_type": "execute_result"
    },
    {
     "data": {
      "image/png": "[encoded data removed]",
      "text/plain": [
       "<Figure size 640x480 with 1 Axes>"
      ]
     },
     "metadata": {},
     "output_type": "display_data"
    }
   ],
   "source": [
    "# Probability of a full return is the product of the return rates of all products in the order\n",
    "# Probablity of no return is the product of the no return rates of all products in the order\n",
    "order_return_rate = valid_df.groupby('order')['return_rate'].prod()\n",
    "order_no_return_rate = valid_df.groupby('order')['no_return_rate'].prod()\n",
    "order_no_return_rate.hist()"
   ]
  },
  {
   "cell_type": "code",
   "execution_count": 89,
   "metadata": {},
   "outputs": [],
   "source": [
    "# Probability of partial return is 1 - (probability of no return + probability of full return)\n",
    "return_df = pd.concat([order_return_rate, order_no_return_rate], axis=1, keys=['order_return_rate', 'order_no_return_rate'])\n",
    "return_df[\"some_return\"] = 1 - return_df[\"order_no_return_rate\"] - return_df[\"order_return_rate\"]\n",
    "return_df"
   ]
  },
  {
   "cell_type": "code",
   "execution_count": 92,
   "metadata": {},
   "outputs": [],
   "source": [
    "filtered_df = return_df[(return_df['order_no_return_rate'] > return_df['order_return_rate']) & (return_df['order_no_return_rate'] > return_df['some_return'])]"
   ]
  },
  {
   "cell_type": "code",
   "execution_count": 93,
   "metadata": {},
   "outputs": [],
   "source": [
    "import numpy as np\n",
    "\n",
    "# Prediction is the highest of the three probabilities\n",
    "conditions = [\n",
    "    (return_df['order_no_return_rate'] > return_df['some_return']) & (return_df['order_no_return_rate'] > return_df['order_return_rate']),\n",
    "    (return_df['some_return'] > return_df['order_no_return_rate']) & (return_df['some_return'] > return_df['order_return_rate']),\n",
    "    (return_df['order_return_rate'] > return_df['order_no_return_rate']) & (return_df['order_return_rate'] > return_df['some_return'])\n",
    "]\n",
    "\n",
    "choices = [0, 1, 2]\n",
    "\n",
    "return_df['prediction'] = np.select(conditions, choices, default=np.nan)"
   ]
  },
  {
   "cell_type": "code",
   "execution_count": 95,
   "metadata": {},
   "outputs": [],
   "source": [
    "# Accuracy calculation\n",
    "valid_labels = pd.read_csv(\"task1_valid_label.txt\", header=None, sep=\"\\t\", names=[\"order\", \"label\"])\n",
    "return_df = return_df.merge(valid_labels, on=\"order\")\n",
    "return_df[\"correct\"] = return_df[\"prediction\"] == return_df[\"label\"]\n",
    "accuracy = return_df[\"correct\"].sum() / return_df[\"correct\"].count()"
   ]
  },
  {
   "cell_type": "code",
   "execution_count": null,
   "metadata": {},
   "outputs": [],
   "source": []
  }
 ],
 "metadata": {
  "kernelspec": {
   "display_name": "pytorch-env",
   "language": "python",
   "name": "python3"
  },
  "language_info": {
   "codemirror_mode": {
    "name": "ipython",
    "version": 3
   },
   "file_extension": ".py",
   "mimetype": "text/x-python",
   "name": "python",
   "nbconvert_exporter": "python",
   "pygments_lexer": "ipython3",
   "version": "3.11.4"
  }
 },
 "nbformat": 4,
 "nbformat_minor": 2
}
