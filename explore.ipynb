{
 "cells": [
  {
   "cell_type": "code",
   "execution_count": null,
   "metadata": {},
   "outputs": [],
   "source": [
    "import pandas as pd\n",
    "import seaborn as sns\n",
    "import numpy as np"
   ]
  },
  {
   "cell_type": "code",
   "execution_count": null,
   "metadata": {},
   "outputs": [],
   "source": [
    "df = pd.read_csv(\"task1_data.txt\")\n",
    "train_labels = pd.read_csv(\"task1_train_label.txt\", header=None, sep=\"\\t\", names=[\"order\", \"label\"])\n",
    "valid_labels = pd.read_csv(\"task1_valid_label.txt\", header=None, sep=\"\\t\", names=[\"order\", \"label\"])\n",
    "test_query = pd.read_csv(\"task1_test_query.txt\",header=None, names=[\"order\"])"
   ]
  },
  {
   "cell_type": "code",
   "execution_count": null,
   "metadata": {},
   "outputs": [],
   "source": [
    "train_df = df.merge(train_labels, on=\"order\")\n",
    "valid_df = df.merge(valid_labels, on=\"order\")\n",
    "test_df = df.merge(test_query, on=\"order\")"
   ]
  },
  {
   "cell_type": "code",
   "execution_count": null,
   "metadata": {},
   "outputs": [],
   "source": [
    "# Order size correlate with label?\n",
    "size_label = train_df.groupby(\"order\").size().to_frame(name=\"count\").merge(train_labels,on=\"order\")\n",
    "correlation = size_label['count'].corr(size_label['label'])\n"
   ]
  },
  {
   "cell_type": "code",
   "execution_count": null,
   "metadata": {},
   "outputs": [],
   "source": [
    "size_label.sort_values(by=\"count\", ascending=False).head(500)"
   ]
  },
  {
   "cell_type": "code",
   "execution_count": null,
   "metadata": {},
   "outputs": [],
   "source": [
    "corr = train_df.corr()\n",
    "corr"
   ]
  },
  {
   "cell_type": "code",
   "execution_count": null,
   "metadata": {},
   "outputs": [],
   "source": [
    "train_df[\"group\"].hist(bins=train_df[\"group\"].nunique())"
   ]
  },
  {
   "cell_type": "code",
   "execution_count": null,
   "metadata": {},
   "outputs": [],
   "source": [
    "train_df[train_df[\"order\"] == 11376]"
   ]
  },
  {
   "cell_type": "markdown",
   "metadata": {},
   "source": [
    "# Create customer stats\n",
    "Return rates go up when ordering different size (and group) than usual"
   ]
  },
  {
   "cell_type": "code",
   "execution_count": null,
   "metadata": {},
   "outputs": [],
   "source": [
    "train_order_customer = train_df.groupby('order')['customer'].first().reset_index()\n"
   ]
  },
  {
   "cell_type": "code",
   "execution_count": null,
   "metadata": {},
   "outputs": [],
   "source": [
    "s = [\"group\", \"customer\"]\n",
    "print(\"_\"+\"_\".join(s)+\"_stat\")"
   ]
  },
  {
   "cell_type": "code",
   "execution_count": null,
   "metadata": {},
   "outputs": [],
   "source": [
    "def create_user_stat_dist(df, group_by_cols, agg_col, agg_func):\n",
    "    suff = \"_\"+\"_\".join(group_by_cols) + \"_stat\"\n",
    "    agg_col_stat = agg_col + suff\n",
    "    \n",
    "    customer_stat =  df.groupby(group_by_cols).agg({agg_col: agg_func})\n",
    "    merged_df = df.merge(customer_stat, on=group_by_cols, suffixes=(\"\",suff))\n",
    "    \n",
    "    # If multiple modes exist they are stored as a list -> handle them differently\n",
    "    filter_single_mode = merged_df[merged_df[agg_col_stat].apply(lambda x: isinstance(x, np.int64))]\n",
    "    filter_multi_mode = merged_df[merged_df[agg_col_stat].apply(lambda x: not isinstance(x, np.int64))]\n",
    "    \n",
    "    \n",
    "    label_dist_single_mode = filter_single_mode[filter_single_mode[agg_col] != filter_single_mode[agg_col_stat]][[\"order\", \"label\"]].drop_duplicates()[\"label\"].value_counts()\n",
    "    label_dist_multi_mode = filter_multi_mode[filter_multi_mode.apply(lambda x: x[agg_col] not in x[agg_col_stat], axis=1)][[\"order\", \"label\"]].drop_duplicates()[\"label\"].value_counts()\n",
    "    \n",
    "    label_dist = label_dist_single_mode + label_dist_multi_mode\n",
    "    label_dist = label_dist/label_dist.sum()\n",
    "    return label_dist\n"
   ]
  },
  {
   "cell_type": "code",
   "execution_count": null,
   "metadata": {},
   "outputs": [],
   "source": [
    "group_difference_label_dist = create_user_stat_dist(train_df, [\"customer\"], \"group\", lambda x: pd.Series.mode(x))\n",
    "size_difference_label_dist = create_user_stat_dist(train_df, [\"customer\", \"group\"], \"size\", lambda x: pd.Series.mode(x))"
   ]
  },
  {
   "cell_type": "code",
   "execution_count": null,
   "metadata": {},
   "outputs": [],
   "source": [
    "label_dist =  train_df[[\"order\", \"label\"]].drop_duplicates()[\"label\"].value_counts()\n",
    "label_dist = label_dist/label_dist.sum()"
   ]
  },
  {
   "cell_type": "code",
   "execution_count": null,
   "metadata": {},
   "outputs": [],
   "source": [
    "dist_df = pd.DataFrame({\"original\": label_dist, \"group_diff\": group_difference_label_dist, \"size_diff\": size_difference_label_dist})\n",
    "dist_df.index = ['no_return', 'partial_return', 'full_return']\n",
    "dist_df.plot(kind=\"bar\", rot=0)"
   ]
  }
 ],
 "metadata": {
  "kernelspec": {
   "display_name": "pytorch-env",
   "language": "python",
   "name": "python3"
  },
  "language_info": {
   "codemirror_mode": {
    "name": "ipython",
    "version": 3
   },
   "file_extension": ".py",
   "mimetype": "text/x-python",
   "name": "python",
   "nbconvert_exporter": "python",
   "pygments_lexer": "ipython3",
   "version": "3.11.4"
  }
 },
 "nbformat": 4,
 "nbformat_minor": 2
}
