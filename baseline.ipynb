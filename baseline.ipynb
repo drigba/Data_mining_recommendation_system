{
 "cells": [
  {
   "cell_type": "code",
   "execution_count": null,
   "metadata": {},
   "outputs": [],
   "source": [
    "import pandas as pd\n",
    "from sklearn.linear_model import LogisticRegression\n",
    "from sklearn.ensemble import RandomForestClassifier\n",
    "pd.set_option('display.max_columns', None)"
   ]
  },
  {
   "cell_type": "code",
   "execution_count": null,
   "metadata": {},
   "outputs": [],
   "source": [
    "df = pd.read_csv(\"task1_data.txt\")\n",
    "train_labels = pd.read_csv(\"task1_train_label.txt\", header=None, sep=\"\\t\", names=[\"order\", \"label\"])\n",
    "valid_labels = pd.read_csv(\"task1_valid_label.txt\", header=None, sep=\"\\t\", names=[\"order\", \"label\"])\n",
    "test_query = pd.read_csv(\"task1_test_query.txt\",header=None, names=[\"order\"])"
   ]
  },
  {
   "cell_type": "code",
   "execution_count": null,
   "metadata": {},
   "outputs": [],
   "source": [
    "train_df = df.merge(train_labels, on=\"order\")\n",
    "valid_df = df.merge(valid_labels, on=\"order\")\n",
    "test_df = df.merge(test_query, on=\"order\")"
   ]
  },
  {
   "cell_type": "code",
   "execution_count": null,
   "metadata": {},
   "outputs": [],
   "source": [
    "train_df[\"label\"].value_counts(dropna=False)"
   ]
  },
  {
   "cell_type": "markdown",
   "metadata": {},
   "source": [
    "# Baseline"
   ]
  },
  {
   "cell_type": "code",
   "execution_count": null,
   "metadata": {},
   "outputs": [],
   "source": [
    "def create_return_df(df, labels, product_stats):\n",
    "    df = df.merge(product_stats[\"return_rate\"], how='left', right_index=True, left_on='product')\n",
    "    df[\"no_return_rate\"] = 1 - df[\"return_rate\"]\n",
    "    order_return_rate = df.groupby('order')['return_rate'].prod()\n",
    "    order_no_return_rate = df.groupby('order')['no_return_rate'].prod()\n",
    "    return_df = pd.concat([order_return_rate, order_no_return_rate], axis=1, keys=['order_return_rate', 'order_no_return_rate'])\n",
    "    return_df[\"some_return\"] = 1 - return_df[\"order_no_return_rate\"] - return_df[\"order_return_rate\"]\n",
    "    return_df = return_df.merge(labels, on=\"order\")\n",
    "    return return_df"
   ]
  },
  {
   "cell_type": "code",
   "execution_count": null,
   "metadata": {},
   "outputs": [],
   "source": [
    "# Calculate how many times each product has been in an order that was returned/partially returned\n",
    "# Return probability is the ratio of returns/partial returns and all occurences of the product\n",
    "product_stats = train_df.groupby('product').agg(\n",
    "    total_count=('product', 'count'),\n",
    "    return_1_or_2_count=('label', lambda x: (x==1).sum() + (x==2).sum())\n",
    ").reset_index(drop=True)\n",
    "product_stats['return_rate'] = product_stats['return_1_or_2_count'] / product_stats['total_count']\n",
    "product_stats[\"return_rate\"].hist()"
   ]
  },
  {
   "cell_type": "code",
   "execution_count": null,
   "metadata": {},
   "outputs": [],
   "source": [
    "import numpy as np\n",
    "\n",
    "valid_return_df = create_return_df(valid_df, valid_labels, product_stats)# Prediction is the highest of the three probabilities\n",
    "conditions = [\n",
    "    (valid_return_df['order_no_return_rate'] > valid_return_df['some_return']) & (valid_return_df['order_no_return_rate'] > valid_return_df['order_return_rate']),\n",
    "    (valid_return_df['some_return'] > valid_return_df['order_no_return_rate']) & (valid_return_df['some_return'] > valid_return_df['order_return_rate']),\n",
    "    (valid_return_df['order_return_rate'] > valid_return_df['order_no_return_rate']) & (valid_return_df['order_return_rate'] > valid_return_df['some_return'])\n",
    "]\n",
    "\n",
    "choices = [0, 1, 2]\n",
    "\n",
    "valid_return_df['prediction'] = np.select(conditions, choices, default=np.nan)"
   ]
  },
  {
   "cell_type": "code",
   "execution_count": null,
   "metadata": {},
   "outputs": [],
   "source": [
    "# Accuracy calculation\n",
    "valid_return_df[\"correct\"] = valid_return_df[\"prediction\"] == valid_return_df[\"label\"]\n",
    "accuracy = valid_return_df[\"correct\"].sum() / valid_return_df[\"correct\"].count()\n",
    "accuracy"
   ]
  },
  {
   "cell_type": "markdown",
   "metadata": {},
   "source": [
    "# Baseline - Simple model"
   ]
  },
  {
   "cell_type": "code",
   "execution_count": null,
   "metadata": {},
   "outputs": [],
   "source": [
    "train_return_df = create_return_df(train_df, train_labels, product_stats)\n",
    "valid_return_df = create_return_df(valid_df, valid_labels, product_stats)"
   ]
  },
  {
   "cell_type": "code",
   "execution_count": null,
   "metadata": {},
   "outputs": [],
   "source": [
    "from sklearn.linear_model import SGDClassifier\n",
    "feature_names = [\"order_return_rate\", \"order_no_return_rate\", \"some_return\"]\n",
    "features = train_return_df[feature_names]\n",
    "labels = train_return_df[\"label\"]\n",
    "model = SGDClassifier()\n",
    "model.fit(features, labels)\n",
    "score = model.score(features, labels)\n",
    "\n",
    "score"
   ]
  },
  {
   "cell_type": "code",
   "execution_count": null,
   "metadata": {},
   "outputs": [],
   "source": [
    "valid_return_df[\"prediction\"] = model.predict(valid_return_df[feature_names])\n",
    "valid_return_df[\"correct\"] = valid_return_df[\"prediction\"] == valid_return_df[\"label\"]\n",
    "accuracy = valid_return_df[\"correct\"].sum() / valid_return_df[\"correct\"].count()\n",
    "accuracy"
   ]
  },
  {
   "cell_type": "markdown",
   "metadata": {},
   "source": [
    "# Use user stat"
   ]
  },
  {
   "cell_type": "code",
   "execution_count": null,
   "metadata": {},
   "outputs": [],
   "source": [
    "# Create user return stats\n",
    "customer_stats = train_df.groupby('customer').agg(\n",
    "    total_count=('customer', 'count'),\n",
    "    partial_return=('label', lambda x: (x==1).sum()),\n",
    "    total_return = ('label', lambda x: (x==2).sum()),\n",
    ").reset_index(drop=True)\n",
    "customer_stats[\"no_return\"] = customer_stats[\"total_count\"] - customer_stats[\"partial_return\"] - customer_stats[\"total_return\"]\n",
    "\n",
    "customer_stats[\"partial_return_rate\"] = customer_stats[\"partial_return\"] / customer_stats[\"total_count\"]\n",
    "customer_stats[\"total_return_rate\"] = customer_stats[\"total_return\"] / customer_stats[\"total_count\"]\n",
    "customer_stats[\"no_return_rate\"] = customer_stats[\"no_return\"] / customer_stats[\"total_count\"]"
   ]
  },
  {
   "cell_type": "code",
   "execution_count": null,
   "metadata": {},
   "outputs": [],
   "source": [
    "# Merge stats on the return dataframes\n",
    "train_order_customer = train_df.groupby('order')['customer'].first().reset_index()\n",
    "valid_order_customer = valid_df.groupby('order')['customer'].first().reset_index()\n",
    "\n",
    "train_return_df = train_return_df.merge(train_order_customer, on=\"order\")\n",
    "train_return_df = train_return_df.merge(customer_stats[[\"no_return_rate\", \"partial_return_rate\", \"total_return_rate\"]].add_prefix(\"customer_\"), left_on=\"customer\", right_index=True)\n",
    "\n",
    "valid_return_df = valid_return_df.merge(valid_order_customer, on=\"order\")\n",
    "valid_return_df = valid_return_df.merge(customer_stats[[\"no_return_rate\", \"partial_return_rate\", \"total_return_rate\"]].add_prefix(\"customer_\"), left_on=\"customer\", right_index=True)"
   ]
  },
  {
   "cell_type": "code",
   "execution_count": null,
   "metadata": {},
   "outputs": [],
   "source": [
    "from sklearn.linear_model import SGDClassifier\n",
    "feature_names = [\"order_return_rate\", \"order_no_return_rate\", \"some_return\", \"customer_no_return_rate\", \"customer_partial_return_rate\", \"customer_total_return_rate\"]\n",
    "features = train_return_df[feature_names]\n",
    "labels = train_return_df[\"label\"]\n",
    "model = SGDClassifier()\n",
    "model.fit(features, labels)\n",
    "score = model.score(features, labels)\n",
    "score"
   ]
  },
  {
   "cell_type": "code",
   "execution_count": null,
   "metadata": {},
   "outputs": [],
   "source": [
    "valid_return_df[\"prediction\"] = model.predict(valid_return_df[feature_names])\n",
    "valid_return_df[\"correct\"] = valid_return_df[\"prediction\"] == valid_return_df[\"label\"]\n",
    "accuracy = valid_return_df[\"correct\"].sum() / valid_return_df[\"correct\"].count()\n",
    "accuracy"
   ]
  },
  {
   "cell_type": "markdown",
   "metadata": {},
   "source": [
    "# Use item group info"
   ]
  },
  {
   "cell_type": "code",
   "execution_count": null,
   "metadata": {},
   "outputs": [],
   "source": [
    "train_df"
   ]
  },
  {
   "cell_type": "code",
   "execution_count": null,
   "metadata": {},
   "outputs": [],
   "source": [
    "train_counts = train_df.groupby(['order', 'group']).size()\n",
    "valid_counts = valid_df.groupby(['order', 'group']).size()"
   ]
  },
  {
   "cell_type": "code",
   "execution_count": null,
   "metadata": {},
   "outputs": [],
   "source": [
    "train_order_size = train_df.groupby('order').size()\n",
    "valid_order_size = valid_df.groupby('order').size()\n",
    "\n",
    "train_normalized_counts = train_counts / train_order_size.loc[train_counts.index.get_level_values('order')].values\n",
    "valid_normalized_counts = valid_counts / valid_order_size.loc[valid_counts.index.get_level_values('order')].values"
   ]
  },
  {
   "cell_type": "code",
   "execution_count": null,
   "metadata": {},
   "outputs": [],
   "source": [
    "train_normalized_counts"
   ]
  },
  {
   "cell_type": "code",
   "execution_count": null,
   "metadata": {},
   "outputs": [],
   "source": [
    "train_normalized_pivot = train_normalized_counts.unstack(fill_value=0)\n",
    "valid_normalized_pivot = valid_normalized_counts.unstack(fill_value=0)"
   ]
  },
  {
   "cell_type": "code",
   "execution_count": null,
   "metadata": {},
   "outputs": [],
   "source": [
    "if len(valid_normalized_pivot.columns) != len(train_normalized_pivot.columns):\n",
    "    missing_cols = set(train_normalized_pivot.columns) - set(valid_normalized_pivot.columns)\n",
    "    valid_normalized_pivot[list(missing_cols)] = 0"
   ]
  },
  {
   "cell_type": "code",
   "execution_count": null,
   "metadata": {},
   "outputs": [],
   "source": [
    "train_return_df = create_return_df(train_df, train_labels, product_stats)\n",
    "valid_return_df = create_return_df(valid_df, valid_labels, product_stats)"
   ]
  },
  {
   "cell_type": "code",
   "execution_count": null,
   "metadata": {},
   "outputs": [],
   "source": [
    "train_return_df"
   ]
  },
  {
   "cell_type": "code",
   "execution_count": null,
   "metadata": {},
   "outputs": [],
   "source": [
    "train_return_df = train_return_df.merge(train_normalized_pivot.add_prefix(\"group_\"), left_on='order', right_index=True)\n",
    "valid_return_df = valid_return_df.merge(valid_normalized_pivot.add_prefix(\"group_\"), left_on='order', right_index=True)"
   ]
  },
  {
   "cell_type": "code",
   "execution_count": null,
   "metadata": {},
   "outputs": [],
   "source": [
    "train_return_df"
   ]
  },
  {
   "cell_type": "code",
   "execution_count": null,
   "metadata": {},
   "outputs": [],
   "source": [
    "feature_names = [\"order_return_rate\", \"order_no_return_rate\", \"some_return\"] + [f\"group_{i}\" for i in range(32)]\n",
    "features = train_return_df[feature_names]\n",
    "labels = train_return_df[\"label\"]\n",
    "model = SGDClassifier()\n",
    "model.fit(features, labels)\n",
    "score = model.score(features, labels)\n",
    "score"
   ]
  },
  {
   "cell_type": "code",
   "execution_count": null,
   "metadata": {},
   "outputs": [],
   "source": [
    "valid_return_df[\"prediction\"] = model.predict(valid_return_df[feature_names])\n",
    "valid_return_df[\"correct\"] = valid_return_df[\"prediction\"] == valid_return_df[\"label\"]\n",
    "accuracy = valid_return_df[\"correct\"].sum() / valid_return_df[\"correct\"].count()\n",
    "accuracy"
   ]
  },
  {
   "cell_type": "code",
   "execution_count": null,
   "metadata": {},
   "outputs": [],
   "source": []
  }
 ],
 "metadata": {
  "kernelspec": {
   "display_name": "pytorch-env",
   "language": "python",
   "name": "python3"
  },
  "language_info": {
   "codemirror_mode": {
    "name": "ipython",
    "version": 3
   },
   "file_extension": ".py",
   "mimetype": "text/x-python",
   "name": "python",
   "nbconvert_exporter": "python",
   "pygments_lexer": "ipython3",
   "version": "3.11.4"
  }
 },
 "nbformat": 4,
 "nbformat_minor": 2
}
