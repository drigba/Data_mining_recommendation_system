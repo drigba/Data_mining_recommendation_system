{
 "cells": [
  {
   "cell_type": "code",
   "metadata": {
    "ExecuteTime": {
     "end_time": "2024-04-29T11:18:13.322992Z",
     "start_time": "2024-04-29T11:18:12.066403Z"
    }
   },
   "source": [
    "import pandas as pd\n",
    "from sklearn.linear_model import LogisticRegression\n",
    "from sklearn.ensemble import RandomForestClassifier\n",
    "pd.set_option('display.max_columns', None)"
   ],
   "outputs": [],
   "execution_count": 1
  },
  {
   "cell_type": "code",
   "metadata": {
    "ExecuteTime": {
     "end_time": "2024-04-29T11:18:15.836037Z",
     "start_time": "2024-04-29T11:18:15.201904Z"
    }
   },
   "source": [
    "df = pd.read_csv(\"task1_data.txt\")\n",
    "train_labels = pd.read_csv(\"task1_train_label.txt\", header=None, sep=\"\\t\", names=[\"order\", \"label\"])\n",
    "valid_labels = pd.read_csv(\"task1_valid_label.txt\", header=None, sep=\"\\t\", names=[\"order\", \"label\"])\n",
    "test_query = pd.read_csv(\"task1_test_query.txt\",header=None, names=[\"order\"])"
   ],
   "outputs": [],
   "execution_count": 2
  },
  {
   "cell_type": "code",
   "metadata": {
    "ExecuteTime": {
     "end_time": "2024-04-29T11:18:17.188801Z",
     "start_time": "2024-04-29T11:18:16.783868Z"
    }
   },
   "source": [
    "train_df_original = df.merge(train_labels, on=\"order\")\n",
    "valid_df_original = df.merge(valid_labels, on=\"order\")\n",
    "test_df_original = df.merge(test_query, on=\"order\")"
   ],
   "outputs": [],
   "execution_count": 3
  },
  {
   "cell_type": "code",
   "execution_count": null,
   "metadata": {},
   "outputs": [],
   "source": [
    "train_df = train_df_original.copy()\n",
    "valid_df = valid_df_original.copy()\n",
    "test_df = test_df_original.copy()"
   ]
  },
  {
   "cell_type": "code",
   "metadata": {
    "ExecuteTime": {
     "end_time": "2024-04-29T11:18:17.438540Z",
     "start_time": "2024-04-29T11:18:17.427088Z"
    }
   },
   "source": [
    "train_df[\"label\"].value_counts(dropna=False)"
   ],
   "outputs": [
    {
     "data": {
      "text/plain": [
       "label\n",
       "1    1116464\n",
       "0     431381\n",
       "2     345549\n",
       "Name: count, dtype: int64"
      ]
     },
     "execution_count": 4,
     "metadata": {},
     "output_type": "execute_result"
    }
   ],
   "execution_count": 4
  },
  {
   "cell_type": "markdown",
   "metadata": {},
   "source": [
    "# Baseline"
   ]
  },
  {
   "cell_type": "code",
   "metadata": {
    "ExecuteTime": {
     "end_time": "2024-04-29T11:18:20.790821Z",
     "start_time": "2024-04-29T11:18:20.787655Z"
    }
   },
   "source": [
    "def create_return_df(df, labels, product_stats):\n",
    "    df = df.merge(product_stats[\"return_rate\"], how='left', right_index=True, left_on='product')\n",
    "    df[\"no_return_rate\"] = 1 - df[\"return_rate\"]\n",
    "    order_return_rate = df.groupby('order')['return_rate'].prod()\n",
    "    order_no_return_rate = df.groupby('order')['no_return_rate'].prod()\n",
    "    return_df = pd.concat([order_return_rate, order_no_return_rate], axis=1, keys=['order_return_rate', 'order_no_return_rate'])\n",
    "    return_df[\"some_return\"] = 1 - return_df[\"order_no_return_rate\"] - return_df[\"order_return_rate\"]\n",
    "    return_df = return_df.merge(labels, on=\"order\")\n",
    "    return return_df"
   ],
   "outputs": [],
   "execution_count": 5
  },
  {
   "cell_type": "code",
   "metadata": {
    "ExecuteTime": {
     "end_time": "2024-04-29T11:18:26.558905Z",
     "start_time": "2024-04-29T11:18:22.706908Z"
    }
   },
   "source": [
    "# Calculate how many times each product has been in an order that was returned/partially returned\n",
    "# Return probability is the ratio of returns/partial returns and all occurences of the product\n",
    "product_stats = train_df.groupby('product').agg(\n",
    "    total_count=('product', 'count'),\n",
    "    return_1_or_2_count=('label', lambda x: (x==1).sum() + (x==2).sum())\n",
    ").reset_index(drop=True)\n",
    "product_stats['return_rate'] = product_stats['return_1_or_2_count'] / product_stats['total_count']\n",
    "product_stats[\"return_rate\"].hist()"
   ],
   "outputs": [
    {
     "data": {
      "text/plain": [
       "<Axes: >"
      ]
     },
     "execution_count": 6,
     "metadata": {},
     "output_type": "execute_result"
    },
    {
     "data": {
      "text/plain": [
       "<Figure size 640x480 with 1 Axes>"
      ],
      "image/png": "[encoded data removed]"
     },
     "metadata": {},
     "output_type": "display_data"
    }
   ],
   "execution_count": 6
  },
  {
   "cell_type": "code",
   "metadata": {
    "ExecuteTime": {
     "end_time": "2024-04-29T11:19:44.522119Z",
     "start_time": "2024-04-29T11:19:44.418913Z"
    }
   },
   "source": [
    "import numpy as np\n",
    "\n",
    "valid_return_df = create_return_df(valid_df, valid_labels, product_stats) # Prediction is the highest of the three probabilities\n",
    "conditions = [\n",
    "    (valid_return_df['order_no_return_rate'] > valid_return_df['some_return']) & (valid_return_df['order_no_return_rate'] > valid_return_df['order_return_rate']),\n",
    "    (valid_return_df['some_return'] > valid_return_df['order_no_return_rate']) & (valid_return_df['some_return'] > valid_return_df['order_return_rate']),\n",
    "    (valid_return_df['order_return_rate'] > valid_return_df['order_no_return_rate']) & (valid_return_df['order_return_rate'] > valid_return_df['some_return'])\n",
    "]\n",
    "\n",
    "choices = [0, 1, 2]\n",
    "\n",
    "valid_return_df['prediction'] = np.select(conditions, choices, default=np.nan)"
   ],
   "outputs": [],
   "execution_count": 10
  },
  {
   "cell_type": "code",
   "metadata": {
    "ExecuteTime": {
     "end_time": "2024-04-29T11:24:05.418118Z",
     "start_time": "2024-04-29T11:24:05.409492Z"
    }
   },
   "source": [
    "# Accuracy calculation\n",
    "valid_return_df[\"correct\"] = valid_return_df[\"prediction\"] == valid_return_df[\"label\"]\n",
    "accuracy = valid_return_df[\"correct\"].sum() / valid_return_df[\"correct\"].count()\n",
    "accuracy"
   ],
   "outputs": [
    {
     "data": {
      "text/plain": [
       "0.4503717311602566"
      ]
     },
     "execution_count": 12,
     "metadata": {},
     "output_type": "execute_result"
    }
   ],
   "execution_count": 12
  },
  {
   "cell_type": "markdown",
   "metadata": {},
   "source": [
    "# Baseline - Simple model"
   ]
  },
  {
   "cell_type": "code",
   "metadata": {
    "ExecuteTime": {
     "end_time": "2024-04-29T11:24:10.436122Z",
     "start_time": "2024-04-29T11:24:09.802133Z"
    }
   },
   "source": [
    "train_return_df = create_return_df(train_df, train_labels, product_stats)\n",
    "valid_return_df = create_return_df(valid_df, valid_labels, product_stats)"
   ],
   "outputs": [],
   "execution_count": 13
  },
  {
   "cell_type": "code",
   "metadata": {
    "ExecuteTime": {
     "end_time": "2024-04-29T11:24:14.523312Z",
     "start_time": "2024-04-29T11:24:13.333562Z"
    }
   },
   "source": [
    "from sklearn.linear_model import SGDClassifier\n",
    "feature_names = [\"order_return_rate\", \"order_no_return_rate\", \"some_return\"]\n",
    "features = train_return_df[feature_names]\n",
    "labels = train_return_df[\"label\"]\n",
    "model = SGDClassifier()\n",
    "model.fit(features, labels)\n",
    "score = model.score(features, labels)\n",
    "\n",
    "score"
   ],
   "outputs": [
    {
     "data": {
      "text/plain": [
       "0.6040559864071463"
      ]
     },
     "execution_count": 14,
     "metadata": {},
     "output_type": "execute_result"
    }
   ],
   "execution_count": 14
  },
  {
   "cell_type": "code",
   "metadata": {
    "ExecuteTime": {
     "end_time": "2024-04-29T11:24:15.578168Z",
     "start_time": "2024-04-29T11:24:15.494762Z"
    }
   },
   "source": [
    "valid_return_df[\"prediction\"] = model.predict(valid_return_df[feature_names])\n",
    "valid_return_df[\"correct\"] = valid_return_df[\"prediction\"] == valid_return_df[\"label\"]\n",
    "accuracy = valid_return_df[\"correct\"].sum() / valid_return_df[\"correct\"].count()\n",
    "accuracy"
   ],
   "outputs": [
    {
     "data": {
      "text/plain": [
       "0.579508074456142"
      ]
     },
     "execution_count": 15,
     "metadata": {},
     "output_type": "execute_result"
    }
   ],
   "execution_count": 15
  },
  {
   "cell_type": "markdown",
   "metadata": {},
   "source": [
    "# Use user return rate"
   ]
  },
  {
   "cell_type": "code",
   "metadata": {
    "ExecuteTime": {
     "end_time": "2024-04-29T11:25:32.027961Z",
     "start_time": "2024-04-29T11:25:12.701361Z"
    }
   },
   "source": [
    "# Create user return stats\n",
    "customer_stats = train_df.groupby('customer').agg(\n",
    "    total_count=('customer', 'count'),\n",
    "    partial_return=('label', lambda x: (x==1).sum()),\n",
    "    total_return = ('label', lambda x: (x==2).sum()),\n",
    ").reset_index(drop=True)\n",
    "customer_stats[\"no_return\"] = customer_stats[\"total_count\"] - customer_stats[\"partial_return\"] - customer_stats[\"total_return\"]\n",
    "\n",
    "customer_stats[\"partial_return_rate\"] = customer_stats[\"partial_return\"] / customer_stats[\"total_count\"]\n",
    "customer_stats[\"total_return_rate\"] = customer_stats[\"total_return\"] / customer_stats[\"total_count\"]\n",
    "customer_stats[\"no_return_rate\"] = customer_stats[\"no_return\"] / customer_stats[\"total_count\"]"
   ],
   "outputs": [],
   "execution_count": 16
  },
  {
   "cell_type": "code",
   "execution_count": null,
   "metadata": {},
   "outputs": [],
   "source": [
    "# Merge stats on the return dataframes\n",
    "train_order_customer = train_df.groupby('order')['customer'].first().reset_index()\n",
    "valid_order_customer = valid_df.groupby('order')['customer'].first().reset_index()\n",
    "\n",
    "train_return_df = train_return_df.merge(train_order_customer, on=\"order\")\n",
    "train_return_df = train_return_df.merge(customer_stats[[\"no_return_rate\", \"partial_return_rate\", \"total_return_rate\"]].add_prefix(\"customer_\"), left_on=\"customer\", right_index=True)\n",
    "\n",
    "valid_return_df = valid_return_df.merge(valid_order_customer, on=\"order\")\n",
    "valid_return_df = valid_return_df.merge(customer_stats[[\"no_return_rate\", \"partial_return_rate\", \"total_return_rate\"]].add_prefix(\"customer_\"), left_on=\"customer\", right_index=True)"
   ]
  },
  {
   "cell_type": "code",
   "execution_count": null,
   "metadata": {},
   "outputs": [],
   "source": [
    "from sklearn.linear_model import SGDClassifier\n",
    "feature_names = [\"order_return_rate\", \"order_no_return_rate\", \"some_return\", \"customer_no_return_rate\", \"customer_partial_return_rate\", \"customer_total_return_rate\"]\n",
    "features = train_return_df[feature_names]\n",
    "labels = train_return_df[\"label\"]\n",
    "model = SGDClassifier()\n",
    "model.fit(features, labels)\n",
    "score = model.score(features, labels)\n",
    "score"
   ]
  },
  {
   "cell_type": "code",
   "execution_count": null,
   "metadata": {},
   "outputs": [],
   "source": [
    "valid_return_df[\"prediction\"] = model.predict(valid_return_df[feature_names])\n",
    "valid_return_df[\"correct\"] = valid_return_df[\"prediction\"] == valid_return_df[\"label\"]\n",
    "accuracy = valid_return_df[\"correct\"].sum() / valid_return_df[\"correct\"].count()\n",
    "accuracy"
   ]
  },
  {
   "cell_type": "markdown",
   "metadata": {},
   "source": [
    "# Use item group info"
   ]
  },
  {
   "cell_type": "code",
   "execution_count": null,
   "metadata": {},
   "outputs": [],
   "source": [
    "train_df"
   ]
  },
  {
   "cell_type": "code",
   "execution_count": null,
   "metadata": {},
   "outputs": [],
   "source": [
    "train_counts = train_df.groupby(['order', 'group']).size()\n",
    "valid_counts = valid_df.groupby(['order', 'group']).size()"
   ]
  },
  {
   "cell_type": "code",
   "execution_count": null,
   "metadata": {},
   "outputs": [],
   "source": [
    "train_order_size = train_df.groupby('order').size()\n",
    "valid_order_size = valid_df.groupby('order').size()\n",
    "\n",
    "train_normalized_counts = train_counts / train_order_size.loc[train_counts.index.get_level_values('order')].values\n",
    "valid_normalized_counts = valid_counts / valid_order_size.loc[valid_counts.index.get_level_values('order')].values"
   ]
  },
  {
   "cell_type": "code",
   "execution_count": null,
   "metadata": {},
   "outputs": [],
   "source": [
    "train_normalized_counts"
   ]
  },
  {
   "cell_type": "code",
   "execution_count": null,
   "metadata": {},
   "outputs": [],
   "source": [
    "train_normalized_pivot = train_normalized_counts.unstack(fill_value=0)\n",
    "valid_normalized_pivot = valid_normalized_counts.unstack(fill_value=0)"
   ]
  },
  {
   "cell_type": "code",
   "execution_count": null,
   "metadata": {},
   "outputs": [],
   "source": [
    "if len(valid_normalized_pivot.columns) != len(train_normalized_pivot.columns):\n",
    "    missing_cols = set(train_normalized_pivot.columns) - set(valid_normalized_pivot.columns)\n",
    "    valid_normalized_pivot[list(missing_cols)] = 0"
   ]
  },
  {
   "cell_type": "code",
   "execution_count": null,
   "metadata": {},
   "outputs": [],
   "source": [
    "train_return_df = create_return_df(train_df, train_labels, product_stats)\n",
    "valid_return_df = create_return_df(valid_df, valid_labels, product_stats)"
   ]
  },
  {
   "cell_type": "code",
   "execution_count": null,
   "metadata": {},
   "outputs": [],
   "source": [
    "train_return_df"
   ]
  },
  {
   "cell_type": "code",
   "execution_count": null,
   "metadata": {},
   "outputs": [],
   "source": [
    "train_return_df = train_return_df.merge(train_normalized_pivot.add_prefix(\"group_\"), left_on='order', right_index=True)\n",
    "valid_return_df = valid_return_df.merge(valid_normalized_pivot.add_prefix(\"group_\"), left_on='order', right_index=True)"
   ]
  },
  {
   "cell_type": "code",
   "execution_count": null,
   "metadata": {},
   "outputs": [],
   "source": [
    "train_return_df"
   ]
  },
  {
   "cell_type": "code",
   "execution_count": null,
   "metadata": {},
   "outputs": [],
   "source": [
    "feature_names = [\"order_return_rate\", \"order_no_return_rate\", \"some_return\"] + [f\"group_{i}\" for i in range(32)]\n",
    "features = train_return_df[feature_names]\n",
    "labels = train_return_df[\"label\"]\n",
    "model = SGDClassifier()\n",
    "model.fit(features, labels)\n",
    "score = model.score(features, labels)\n",
    "score"
   ]
  },
  {
   "cell_type": "code",
   "execution_count": null,
   "metadata": {},
   "outputs": [],
   "source": [
    "valid_return_df[\"prediction\"] = model.predict(valid_return_df[feature_names])\n",
    "valid_return_df[\"correct\"] = valid_return_df[\"prediction\"] == valid_return_df[\"label\"]\n",
    "accuracy = valid_return_df[\"correct\"].sum() / valid_return_df[\"correct\"].count()\n",
    "accuracy"
   ]
  },
  {
   "cell_type": "markdown",
   "metadata": {},
   "source": [
    "# Customer group size difference"
   ]
  },
  {
   "cell_type": "code",
   "execution_count": null,
   "metadata": {},
   "outputs": [],
   "source": [
    "def create_user_stat(df, group_by_cols, agg_col, agg_func):\n",
    "    suff = \"_\"+\"_\".join(group_by_cols) + \"_stat\"\n",
    "    agg_col_stat = agg_col + suff\n",
    "    \n",
    "    customer_stat =  df.groupby(group_by_cols).agg({agg_col: agg_func})\n",
    "    merged_df = df.merge(customer_stat, on=group_by_cols, suffixes=(\"\",suff))\n",
    "    return merged_df\n",
    "\n",
    "usual_user_size_by_group = train_df.groupby(['customer', 'group']).agg({\"size\": lambda x: pd.Series.mode(x)})\n",
    "train_df = df.merge(usual_user_size_by_group, on=['customer', 'group'], suffixes=(\"\",\"_customer_group_stat\"))"
   ]
  },
  {
   "cell_type": "code",
   "execution_count": null,
   "metadata": {},
   "outputs": [],
   "source": [
    "train_df = create_user_stat(train_df, [\"customer\", \"group\"], \"size\", lambda x: pd.Series.mode(x))"
   ]
  },
  {
   "cell_type": "code",
   "execution_count": null,
   "metadata": {},
   "outputs": [],
   "source": [
    "train_df[\"size_diff\"] = train_df[\"size\"] - train_df[\"size_customer_group_stat\"]"
   ]
  },
  {
   "cell_type": "code",
   "execution_count": null,
   "metadata": {},
   "outputs": [],
   "source": [
    "filter_single_mode = train_df[train_df[\"size_diff\"].apply(lambda x: isinstance(x, np.int64))]\n",
    "filter_multi_mode = train_df[train_df[\"size_diff\"].apply(lambda x: not isinstance(x, np.int64))]\n",
    "\n",
    "filter_multi_mode[\"size_diff\"] = filter_multi_mode[\"size_diff\"].apply(lambda x: min(abs(x)))"
   ]
  },
  {
   "cell_type": "code",
   "execution_count": null,
   "metadata": {},
   "outputs": [],
   "source": [
    "train_df.update(filter_multi_mode)"
   ]
  },
  {
   "cell_type": "code",
   "execution_count": null,
   "metadata": {},
   "outputs": [],
   "source": [
    "train_df.groupby(\"order\")[\"size_diff\"].sum()"
   ]
  },
  {
   "cell_type": "code",
   "execution_count": null,
   "metadata": {},
   "outputs": [],
   "source": [
    "train_return_df = create_return_df(train_df, train_labels, product_stats)\n",
    "valid_return_df = create_return_df(valid_df, valid_labels, product_stats)"
   ]
  }
 ],
 "metadata": {
  "kernelspec": {
   "display_name": "pytorch-env",
   "language": "python",
   "name": "python3"
  },
  "language_info": {
   "codemirror_mode": {
    "name": "ipython",
    "version": 3
   },
   "file_extension": ".py",
   "mimetype": "text/x-python",
   "name": "python",
   "nbconvert_exporter": "python",
   "pygments_lexer": "ipython3",
   "version": "undefined.undefined.undefined"
  }
 },
 "nbformat": 4,
 "nbformat_minor": 2
}
