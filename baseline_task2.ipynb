{
 "cells": [
  {
   "metadata": {},
   "cell_type": "code",
   "outputs": [],
   "execution_count": 1,
   "source": [
    "import pandas as pd\n",
    "from sklearn.linear_model import LogisticRegression, SGDClassifier\n",
    "from sklearn.ensemble import RandomForestClassifier\n",
    "import numpy as np\n",
    "from sklearn.decomposition import PCA\n",
    "import matplotlib.pyplot as plt\n",
    "\n",
    "pd.set_option('display.max_columns', None)"
   ]
  },
  {
   "metadata": {},
   "cell_type": "markdown",
   "source": "# Load the dataset and labels"
  },
  {
   "metadata": {
    "ExecuteTime": {
     "end_time": "2024-05-29T15:08:13.157962Z",
     "start_time": "2024-05-29T15:08:12.220514Z"
    }
   },
   "cell_type": "code",
   "source": [
    "data = pd.read_csv(\"task2_data.txt\")\n",
    "train_labels = pd.read_csv(\"task2_train_label.txt\", header=None, sep=\"\\t\", names=[\"order\", \"label\"])\n",
    "valid_labels = pd.read_csv(\"task2_valid_label.txt\", header=None, sep=\"\\t\", names=[\"order\", \"label\"])\n",
    "test_query = pd.read_csv(\"task2_test_query.txt\",header=None, sep=\"\\t\", names=[\"order\", \"product\"])"
   ],
   "outputs": [],
   "execution_count": 31
  },
  {
   "metadata": {},
   "cell_type": "markdown",
   "source": "Add the attributes to the test, train and validation sets"
  },
  {
   "metadata": {
    "ExecuteTime": {
     "end_time": "2024-05-29T15:13:16.141822Z",
     "start_time": "2024-05-29T15:13:15.034878Z"
    }
   },
   "cell_type": "code",
   "source": [
    "train_df_original = data.merge(train_labels, on=\"order\")\n",
    "valid_df_original = data.merge(valid_labels, on=\"order\")\n",
    "test_df_original = data.merge(test_query, on=[\"order\", \"product\"])"
   ],
   "outputs": [],
   "execution_count": 43
  },
  {
   "metadata": {},
   "cell_type": "markdown",
   "source": "Create a copy for actual training"
  },
  {
   "metadata": {
    "ExecuteTime": {
     "end_time": "2024-05-29T15:15:18.444036Z",
     "start_time": "2024-05-29T15:15:18.149457Z"
    }
   },
   "cell_type": "code",
   "source": [
    "train_df = train_df_original.copy()\n",
    "valid_df = valid_df_original.copy()\n",
    "test_df = test_df_original.copy()"
   ],
   "outputs": [],
   "execution_count": 50
  },
  {
   "metadata": {},
   "cell_type": "markdown",
   "source": [
    "# Baseline - Filtering\n",
    "To figure out a baseline without any machine learning model we can simply label products above a certain return rate to be likely to be returned."
   ]
  },
  {
   "metadata": {},
   "cell_type": "code",
   "execution_count": 80,
   "source": [
    "def get_product_stats(df):\n",
    "    product_stats = df.groupby('product').agg(\n",
    "        total_count=('product', 'count'),\n",
    "        return_1_or_2_count=('label', lambda x: x.isin([1, 2]).sum())\n",
    "    ).reset_index(drop=True)\n",
    "    product_stats['product'] = product_stats.index\n",
    "    product_stats['return_rate'] = product_stats['return_1_or_2_count'] / product_stats['total_count']\n",
    "    return product_stats"
   ],
   "outputs": []
  },
  {
   "metadata": {
    "ExecuteTime": {
     "end_time": "2024-05-29T15:45:44.823489Z",
     "start_time": "2024-05-29T15:45:44.820054Z"
    }
   },
   "cell_type": "code",
   "source": [
    "def create_return_df(df, labels):\n",
    "    product_stats = get_product_stats(df)\n",
    "    return_df = df.merge(product_stats[\"return_rate\"], how='left', right_index=True, left_on='product')\n",
    "    return_df['no_return_rate'] = 1 - return_df['return_rate']\n",
    "    return return_df"
   ],
   "outputs": [],
   "execution_count": 121
  },
  {
   "metadata": {
    "ExecuteTime": {
     "end_time": "2024-05-29T15:55:15.257564Z",
     "start_time": "2024-05-29T15:55:10.253261Z"
    }
   },
   "cell_type": "code",
   "source": [
    "train_return_df = create_return_df(train_df, train_labels)\n",
    "valid_return_df = create_return_df(valid_df, valid_labels)"
   ],
   "outputs": [],
   "execution_count": 150
  },
  {
   "metadata": {
    "ExecuteTime": {
     "end_time": "2024-05-29T15:55:32.962759Z",
     "start_time": "2024-05-29T15:55:32.939111Z"
    }
   },
   "cell_type": "code",
   "source": [
    "# Set the threshold to 0.5 and if below set predicted to 0\n",
    "train_return_df['predicted'] = np.where(train_return_df['return_rate'] > 0.5, 1, 0)\n",
    "valid_return_df['predicted'] = np.where(valid_return_df['return_rate'] > 0.5, 1, 0)"
   ],
   "outputs": [],
   "execution_count": 154
  },
  {
   "metadata": {
    "ExecuteTime": {
     "end_time": "2024-05-29T15:55:58.171591Z",
     "start_time": "2024-05-29T15:55:58.161597Z"
    }
   },
   "cell_type": "code",
   "source": [
    "train_return_df[\"correct\"] = train_return_df[\"predicted\"] == train_return_df[\"label\"]\n",
    "valid_return_df[\"correct\"] = valid_return_df[\"predicted\"] == valid_return_df[\"label\"]"
   ],
   "outputs": [],
   "execution_count": 157
  },
  {
   "metadata": {
    "ExecuteTime": {
     "end_time": "2024-05-29T15:56:20.877287Z",
     "start_time": "2024-05-29T15:56:20.861493Z"
    }
   },
   "cell_type": "code",
   "source": [
    "train_accuracy = train_return_df[\"correct\"].sum() / train_return_df[\"correct\"].count()\n",
    "valid_accuracy = valid_return_df[\"correct\"].sum() / valid_return_df[\"correct\"].count()\n",
    "train_accuracy, valid_accuracy"
   ],
   "outputs": [
    {
     "data": {
      "text/plain": [
       "(0.4987971368079539, 0.49712946969245736)"
      ]
     },
     "execution_count": 159,
     "metadata": {},
     "output_type": "execute_result"
    }
   ],
   "execution_count": 159
  },
  {
   "metadata": {},
   "cell_type": "markdown",
   "source": "# Baseline - SGD Classifier"
  },
  {
   "metadata": {
    "ExecuteTime": {
     "end_time": "2024-05-29T16:05:09.769642Z",
     "start_time": "2024-05-29T16:05:04.214446Z"
    }
   },
   "cell_type": "code",
   "source": [
    "train_return_df = create_return_df(train_df, train_labels).dropna()\n",
    "valid_return_df = create_return_df(valid_df, valid_labels).dropna()"
   ],
   "outputs": [],
   "execution_count": 181
  },
  {
   "metadata": {
    "ExecuteTime": {
     "end_time": "2024-05-29T16:07:59.609489Z",
     "start_time": "2024-05-29T16:07:59.606182Z"
    }
   },
   "cell_type": "code",
   "source": "train_return_df.columns",
   "outputs": [
    {
     "data": {
      "text/plain": [
       "Index(['order', 'product', 'customer', 'color', 'size', 'group', 'label',\n",
       "       'return_rate', 'no_return_rate', 'predicted', 'correct'],\n",
       "      dtype='object')"
      ]
     },
     "execution_count": 196,
     "metadata": {},
     "output_type": "execute_result"
    }
   ],
   "execution_count": 196
  },
  {
   "metadata": {
    "ExecuteTime": {
     "end_time": "2024-05-29T16:08:28.571075Z",
     "start_time": "2024-05-29T16:08:24.238562Z"
    }
   },
   "cell_type": "code",
   "source": [
    "from sklearn.linear_model import SGDClassifier\n",
    "\n",
    "features = ['return_rate']\n",
    "X_train = train_return_df[features]\n",
    "y_train = train_return_df['label']\n",
    "X_valid = valid_return_df[features]\n",
    "y_valid = valid_return_df['label']\n",
    "\n",
    "clf = SGDClassifier()\n",
    "clf.fit(X_train, y_train)"
   ],
   "outputs": [
    {
     "data": {
      "text/plain": [
       "SGDClassifier()"
      ],
      "text/html": [
       "<style>#sk-container-id-5 {color: black;background-color: white;}#sk-container-id-5 pre{padding: 0;}#sk-container-id-5 div.sk-toggleable {background-color: white;}#sk-container-id-5 label.sk-toggleable__label {cursor: pointer;display: block;width: 100%;margin-bottom: 0;padding: 0.3em;box-sizing: border-box;text-align: center;}#sk-container-id-5 label.sk-toggleable__label-arrow:before {content: \"▸\";float: left;margin-right: 0.25em;color: #696969;}#sk-container-id-5 label.sk-toggleable__label-arrow:hover:before {color: black;}#sk-container-id-5 div.sk-estimator:hover label.sk-toggleable__label-arrow:before {color: black;}#sk-container-id-5 div.sk-toggleable__content {max-height: 0;max-width: 0;overflow: hidden;text-align: left;background-color: #f0f8ff;}#sk-container-id-5 div.sk-toggleable__content pre {margin: 0.2em;color: black;border-radius: 0.25em;background-color: #f0f8ff;}#sk-container-id-5 input.sk-toggleable__control:checked~div.sk-toggleable__content {max-height: 200px;max-width: 100%;overflow: auto;}#sk-container-id-5 input.sk-toggleable__control:checked~label.sk-toggleable__label-arrow:before {content: \"▾\";}#sk-container-id-5 div.sk-estimator input.sk-toggleable__control:checked~label.sk-toggleable__label {background-color: #d4ebff;}#sk-container-id-5 div.sk-label input.sk-toggleable__control:checked~label.sk-toggleable__label {background-color: #d4ebff;}#sk-container-id-5 input.sk-hidden--visually {border: 0;clip: rect(1px 1px 1px 1px);clip: rect(1px, 1px, 1px, 1px);height: 1px;margin: -1px;overflow: hidden;padding: 0;position: absolute;width: 1px;}#sk-container-id-5 div.sk-estimator {font-family: monospace;background-color: #f0f8ff;border: 1px dotted black;border-radius: 0.25em;box-sizing: border-box;margin-bottom: 0.5em;}#sk-container-id-5 div.sk-estimator:hover {background-color: #d4ebff;}#sk-container-id-5 div.sk-parallel-item::after {content: \"\";width: 100%;border-bottom: 1px solid gray;flex-grow: 1;}#sk-container-id-5 div.sk-label:hover label.sk-toggleable__label {background-color: #d4ebff;}#sk-container-id-5 div.sk-serial::before {content: \"\";position: absolute;border-left: 1px solid gray;box-sizing: border-box;top: 0;bottom: 0;left: 50%;z-index: 0;}#sk-container-id-5 div.sk-serial {display: flex;flex-direction: column;align-items: center;background-color: white;padding-right: 0.2em;padding-left: 0.2em;position: relative;}#sk-container-id-5 div.sk-item {position: relative;z-index: 1;}#sk-container-id-5 div.sk-parallel {display: flex;align-items: stretch;justify-content: center;background-color: white;position: relative;}#sk-container-id-5 div.sk-item::before, #sk-container-id-5 div.sk-parallel-item::before {content: \"\";position: absolute;border-left: 1px solid gray;box-sizing: border-box;top: 0;bottom: 0;left: 50%;z-index: -1;}#sk-container-id-5 div.sk-parallel-item {display: flex;flex-direction: column;z-index: 1;position: relative;background-color: white;}#sk-container-id-5 div.sk-parallel-item:first-child::after {align-self: flex-end;width: 50%;}#sk-container-id-5 div.sk-parallel-item:last-child::after {align-self: flex-start;width: 50%;}#sk-container-id-5 div.sk-parallel-item:only-child::after {width: 0;}#sk-container-id-5 div.sk-dashed-wrapped {border: 1px dashed gray;margin: 0 0.4em 0.5em 0.4em;box-sizing: border-box;padding-bottom: 0.4em;background-color: white;}#sk-container-id-5 div.sk-label label {font-family: monospace;font-weight: bold;display: inline-block;line-height: 1.2em;}#sk-container-id-5 div.sk-label-container {text-align: center;}#sk-container-id-5 div.sk-container {/* jupyter's `normalize.less` sets `[hidden] { display: none; }` but bootstrap.min.css set `[hidden] { display: none !important; }` so we also need the `!important` here to be able to override the default hidden behavior on the sphinx rendered scikit-learn.org. See: https://github.com/scikit-learn/scikit-learn/issues/21755 */display: inline-block !important;position: relative;}#sk-container-id-5 div.sk-text-repr-fallback {display: none;}</style><div id=\"sk-container-id-5\" class=\"sk-top-container\"><div class=\"sk-text-repr-fallback\"><pre>SGDClassifier()</pre><b>In a Jupyter environment, please rerun this cell to show the HTML representation or trust the notebook. <br />On GitHub, the HTML representation is unable to render, please try loading this page with nbviewer.org.</b></div><div class=\"sk-container\" hidden><div class=\"sk-item\"><div class=\"sk-estimator sk-toggleable\"><input class=\"sk-toggleable__control sk-hidden--visually\" id=\"sk-estimator-id-5\" type=\"checkbox\" checked><label for=\"sk-estimator-id-5\" class=\"sk-toggleable__label sk-toggleable__label-arrow\">SGDClassifier</label><div class=\"sk-toggleable__content\"><pre>SGDClassifier()</pre></div></div></div></div></div>"
      ]
     },
     "execution_count": 197,
     "metadata": {},
     "output_type": "execute_result"
    }
   ],
   "execution_count": 197
  },
  {
   "metadata": {
    "ExecuteTime": {
     "end_time": "2024-05-29T16:08:30.530281Z",
     "start_time": "2024-05-29T16:08:30.462810Z"
    }
   },
   "cell_type": "code",
   "source": [
    "train_return_df['predicted'] = clf.predict(X_train)\n",
    "valid_return_df['predicted'] = clf.predict(X_valid)"
   ],
   "outputs": [],
   "execution_count": 198
  },
  {
   "metadata": {
    "ExecuteTime": {
     "end_time": "2024-05-29T16:08:31.952821Z",
     "start_time": "2024-05-29T16:08:31.929153Z"
    }
   },
   "cell_type": "code",
   "source": [
    "train_return_df[\"correct\"] = train_return_df[\"predicted\"] == train_return_df[\"label\"]\n",
    "valid_return_df[\"correct\"] = valid_return_df[\"predicted\"] == valid_return_df[\"label\"]   \n",
    "\n",
    "train_accuracy = train_return_df[\"correct\"].sum() / train_return_df[\"correct\"].count()\n",
    "valid_accuracy = valid_return_df[\"correct\"].sum() / valid_return_df[\"correct\"].count()\n",
    "\n",
    "train_accuracy, valid_accuracy"
   ],
   "outputs": [
    {
     "data": {
      "text/plain": [
       "(0.523042147566936, 0.5132298241081351)"
      ]
     },
     "execution_count": 199,
     "metadata": {},
     "output_type": "execute_result"
    }
   ],
   "execution_count": 199
  },
  {
   "metadata": {
    "ExecuteTime": {
     "end_time": "2024-05-29T16:08:33.455852Z",
     "start_time": "2024-05-29T16:08:33.433588Z"
    }
   },
   "cell_type": "code",
   "source": "train_return_df[\"predicted\"].value_counts()",
   "outputs": [
    {
     "data": {
      "text/plain": [
       "predicted\n",
       "1    4687649\n",
       "Name: count, dtype: int64"
      ]
     },
     "execution_count": 200,
     "metadata": {},
     "output_type": "execute_result"
    }
   ],
   "execution_count": 200
  },
  {
   "metadata": {
    "ExecuteTime": {
     "end_time": "2024-05-29T16:08:44.444951Z",
     "start_time": "2024-05-29T16:08:44.423734Z"
    }
   },
   "cell_type": "code",
   "source": "train_return_df[\"label\"].value_counts()",
   "outputs": [
    {
     "data": {
      "text/plain": [
       "label\n",
       "1    2451838\n",
       "0    2235811\n",
       "Name: count, dtype: int64"
      ]
     },
     "execution_count": 201,
     "metadata": {},
     "output_type": "execute_result"
    }
   ],
   "execution_count": 201
  },
  {
   "metadata": {
    "ExecuteTime": {
     "end_time": "2024-05-29T16:09:25.768904Z",
     "start_time": "2024-05-29T16:09:24.977907Z"
    }
   },
   "cell_type": "code",
   "source": [
    "from sklearn.metrics import confusion_matrix\n",
    "import seaborn as sns\n",
    "\n",
    "confusion_matrix_train = confusion_matrix(train_return_df[\"label\"], train_return_df[\"predicted\"])\n",
    "confusion_matrix_valid = confusion_matrix(valid_return_df[\"label\"], valid_return_df[\"predicted\"])\n",
    "\n",
    "sns.heatmap(confusion_matrix_train, annot=True)"
   ],
   "outputs": [
    {
     "data": {
      "text/plain": [
       "<Axes: >"
      ]
     },
     "execution_count": 205,
     "metadata": {},
     "output_type": "execute_result"
    },
    {
     "data": {
      "text/plain": [
       "<Figure size 640x480 with 2 Axes>"
      ],
      "image/png": "[encoded data removed]"
     },
     "metadata": {},
     "output_type": "display_data"
    }
   ],
   "execution_count": 205
  },
  {
   "metadata": {},
   "cell_type": "markdown",
   "source": "# Baseline - Random Forest Classifier"
  },
  {
   "metadata": {
    "ExecuteTime": {
     "end_time": "2024-05-29T16:09:36.361738Z",
     "start_time": "2024-05-29T16:09:30.565726Z"
    }
   },
   "cell_type": "code",
   "source": [
    "train_return_df = create_return_df(train_df, train_labels).dropna()\n",
    "valid_return_df = create_return_df(valid_df, valid_labels).dropna()"
   ],
   "outputs": [],
   "execution_count": 206
  },
  {
   "metadata": {
    "ExecuteTime": {
     "end_time": "2024-05-29T16:15:15.809795Z",
     "start_time": "2024-05-29T16:12:51.005070Z"
    }
   },
   "cell_type": "code",
   "source": [
    "features = ['return_rate', 'no_return_rate']\n",
    "\n",
    "X_train = train_return_df[features]\n",
    "y_train = train_return_df['label']\n",
    "\n",
    "X_valid = valid_return_df[features]\n",
    "y_valid = valid_return_df['label']\n",
    "\n",
    "clf = RandomForestClassifier(verbose = 1, n_jobs=5)\n",
    "\n",
    "clf.fit(X_train, y_train)"
   ],
   "outputs": [
    {
     "name": "stderr",
     "output_type": "stream",
     "text": [
      "[Parallel(n_jobs=5)]: Using backend ThreadingBackend with 5 concurrent workers.\n",
      "[Parallel(n_jobs=5)]: Done  40 tasks      | elapsed:   59.5s\n",
      "[Parallel(n_jobs=5)]: Done 100 out of 100 | elapsed:  2.4min finished\n"
     ]
    },
    {
     "data": {
      "text/plain": [
       "RandomForestClassifier(n_jobs=5, verbose=1)"
      ],
      "text/html": [
       "<style>#sk-container-id-6 {color: black;background-color: white;}#sk-container-id-6 pre{padding: 0;}#sk-container-id-6 div.sk-toggleable {background-color: white;}#sk-container-id-6 label.sk-toggleable__label {cursor: pointer;display: block;width: 100%;margin-bottom: 0;padding: 0.3em;box-sizing: border-box;text-align: center;}#sk-container-id-6 label.sk-toggleable__label-arrow:before {content: \"▸\";float: left;margin-right: 0.25em;color: #696969;}#sk-container-id-6 label.sk-toggleable__label-arrow:hover:before {color: black;}#sk-container-id-6 div.sk-estimator:hover label.sk-toggleable__label-arrow:before {color: black;}#sk-container-id-6 div.sk-toggleable__content {max-height: 0;max-width: 0;overflow: hidden;text-align: left;background-color: #f0f8ff;}#sk-container-id-6 div.sk-toggleable__content pre {margin: 0.2em;color: black;border-radius: 0.25em;background-color: #f0f8ff;}#sk-container-id-6 input.sk-toggleable__control:checked~div.sk-toggleable__content {max-height: 200px;max-width: 100%;overflow: auto;}#sk-container-id-6 input.sk-toggleable__control:checked~label.sk-toggleable__label-arrow:before {content: \"▾\";}#sk-container-id-6 div.sk-estimator input.sk-toggleable__control:checked~label.sk-toggleable__label {background-color: #d4ebff;}#sk-container-id-6 div.sk-label input.sk-toggleable__control:checked~label.sk-toggleable__label {background-color: #d4ebff;}#sk-container-id-6 input.sk-hidden--visually {border: 0;clip: rect(1px 1px 1px 1px);clip: rect(1px, 1px, 1px, 1px);height: 1px;margin: -1px;overflow: hidden;padding: 0;position: absolute;width: 1px;}#sk-container-id-6 div.sk-estimator {font-family: monospace;background-color: #f0f8ff;border: 1px dotted black;border-radius: 0.25em;box-sizing: border-box;margin-bottom: 0.5em;}#sk-container-id-6 div.sk-estimator:hover {background-color: #d4ebff;}#sk-container-id-6 div.sk-parallel-item::after {content: \"\";width: 100%;border-bottom: 1px solid gray;flex-grow: 1;}#sk-container-id-6 div.sk-label:hover label.sk-toggleable__label {background-color: #d4ebff;}#sk-container-id-6 div.sk-serial::before {content: \"\";position: absolute;border-left: 1px solid gray;box-sizing: border-box;top: 0;bottom: 0;left: 50%;z-index: 0;}#sk-container-id-6 div.sk-serial {display: flex;flex-direction: column;align-items: center;background-color: white;padding-right: 0.2em;padding-left: 0.2em;position: relative;}#sk-container-id-6 div.sk-item {position: relative;z-index: 1;}#sk-container-id-6 div.sk-parallel {display: flex;align-items: stretch;justify-content: center;background-color: white;position: relative;}#sk-container-id-6 div.sk-item::before, #sk-container-id-6 div.sk-parallel-item::before {content: \"\";position: absolute;border-left: 1px solid gray;box-sizing: border-box;top: 0;bottom: 0;left: 50%;z-index: -1;}#sk-container-id-6 div.sk-parallel-item {display: flex;flex-direction: column;z-index: 1;position: relative;background-color: white;}#sk-container-id-6 div.sk-parallel-item:first-child::after {align-self: flex-end;width: 50%;}#sk-container-id-6 div.sk-parallel-item:last-child::after {align-self: flex-start;width: 50%;}#sk-container-id-6 div.sk-parallel-item:only-child::after {width: 0;}#sk-container-id-6 div.sk-dashed-wrapped {border: 1px dashed gray;margin: 0 0.4em 0.5em 0.4em;box-sizing: border-box;padding-bottom: 0.4em;background-color: white;}#sk-container-id-6 div.sk-label label {font-family: monospace;font-weight: bold;display: inline-block;line-height: 1.2em;}#sk-container-id-6 div.sk-label-container {text-align: center;}#sk-container-id-6 div.sk-container {/* jupyter's `normalize.less` sets `[hidden] { display: none; }` but bootstrap.min.css set `[hidden] { display: none !important; }` so we also need the `!important` here to be able to override the default hidden behavior on the sphinx rendered scikit-learn.org. See: https://github.com/scikit-learn/scikit-learn/issues/21755 */display: inline-block !important;position: relative;}#sk-container-id-6 div.sk-text-repr-fallback {display: none;}</style><div id=\"sk-container-id-6\" class=\"sk-top-container\"><div class=\"sk-text-repr-fallback\"><pre>RandomForestClassifier(n_jobs=5, verbose=1)</pre><b>In a Jupyter environment, please rerun this cell to show the HTML representation or trust the notebook. <br />On GitHub, the HTML representation is unable to render, please try loading this page with nbviewer.org.</b></div><div class=\"sk-container\" hidden><div class=\"sk-item\"><div class=\"sk-estimator sk-toggleable\"><input class=\"sk-toggleable__control sk-hidden--visually\" id=\"sk-estimator-id-6\" type=\"checkbox\" checked><label for=\"sk-estimator-id-6\" class=\"sk-toggleable__label sk-toggleable__label-arrow\">RandomForestClassifier</label><div class=\"sk-toggleable__content\"><pre>RandomForestClassifier(n_jobs=5, verbose=1)</pre></div></div></div></div></div>"
      ]
     },
     "execution_count": 209,
     "metadata": {},
     "output_type": "execute_result"
    }
   ],
   "execution_count": 209
  },
  {
   "metadata": {
    "ExecuteTime": {
     "end_time": "2024-05-29T16:16:01.528094Z",
     "start_time": "2024-05-29T16:15:49.847750Z"
    }
   },
   "cell_type": "code",
   "source": [
    "train_return_df['predicted'] = clf.predict(X_train)\n",
    "valid_return_df['predicted'] = clf.predict(X_valid)"
   ],
   "outputs": [
    {
     "name": "stderr",
     "output_type": "stream",
     "text": [
      "[Parallel(n_jobs=5)]: Using backend ThreadingBackend with 5 concurrent workers.\n",
      "[Parallel(n_jobs=5)]: Done  40 tasks      | elapsed:    3.8s\n",
      "[Parallel(n_jobs=5)]: Done 100 out of 100 | elapsed:    9.5s finished\n",
      "[Parallel(n_jobs=5)]: Using backend ThreadingBackend with 5 concurrent workers.\n",
      "[Parallel(n_jobs=5)]: Done  40 tasks      | elapsed:    0.8s\n",
      "[Parallel(n_jobs=5)]: Done 100 out of 100 | elapsed:    2.0s finished\n"
     ]
    }
   ],
   "execution_count": 210
  },
  {
   "metadata": {
    "ExecuteTime": {
     "end_time": "2024-05-29T16:16:06.004141Z",
     "start_time": "2024-05-29T16:16:05.947106Z"
    }
   },
   "cell_type": "code",
   "source": [
    "train_return_df[\"correct\"] = train_return_df[\"predicted\"] == train_return_df[\"label\"]\n",
    "valid_return_df[\"correct\"] = valid_return_df[\"predicted\"] == valid_return_df[\"label\"]\n",
    "\n",
    "train_accuracy = train_return_df[\"correct\"].sum() / train_return_df[\"correct\"].count()\n",
    "valid_accuracy = valid_return_df[\"correct\"].sum() / valid_return_df[\"correct\"].count()\n",
    "\n",
    "train_accuracy, valid_accuracy"
   ],
   "outputs": [
    {
     "data": {
      "text/plain": [
       "(0.5389354023733433, 0.511272622138015)"
      ]
     },
     "execution_count": 211,
     "metadata": {},
     "output_type": "execute_result"
    }
   ],
   "execution_count": 211
  },
  {
   "metadata": {
    "ExecuteTime": {
     "end_time": "2024-05-29T16:16:08.388389Z",
     "start_time": "2024-05-29T16:16:08.365431Z"
    }
   },
   "cell_type": "code",
   "source": "train_return_df[\"predicted\"].value_counts()",
   "outputs": [
    {
     "data": {
      "text/plain": [
       "predicted\n",
       "1    3796909\n",
       "0     890740\n",
       "Name: count, dtype: int64"
      ]
     },
     "execution_count": 212,
     "metadata": {},
     "output_type": "execute_result"
    }
   ],
   "execution_count": 212
  },
  {
   "metadata": {
    "ExecuteTime": {
     "end_time": "2024-05-29T16:16:10.386089Z",
     "start_time": "2024-05-29T16:16:10.364130Z"
    }
   },
   "cell_type": "code",
   "source": "train_return_df[\"label\"].value_counts()",
   "outputs": [
    {
     "data": {
      "text/plain": [
       "label\n",
       "1    2451838\n",
       "0    2235811\n",
       "Name: count, dtype: int64"
      ]
     },
     "execution_count": 213,
     "metadata": {},
     "output_type": "execute_result"
    }
   ],
   "execution_count": 213
  },
  {
   "metadata": {
    "ExecuteTime": {
     "end_time": "2024-05-29T16:16:12.759697Z",
     "start_time": "2024-05-29T16:16:11.633987Z"
    }
   },
   "cell_type": "code",
   "source": [
    "confusion_matrix_train = confusion_matrix(train_return_df[\"label\"], train_return_df[\"predicted\"])\n",
    "confusion_matrix_valid = confusion_matrix(valid_return_df[\"label\"], valid_return_df[\"predicted\"])\n",
    "\n",
    "plt.subplots(1, 2, figsize=(10, 5))\n",
    "sns.heatmap(confusion_matrix_train, annot=True)\n",
    "sns.heatmap(confusion_matrix_valid, annot=True)"
   ],
   "outputs": [
    {
     "data": {
      "text/plain": [
       "<Axes: >"
      ]
     },
     "execution_count": 214,
     "metadata": {},
     "output_type": "execute_result"
    },
    {
     "data": {
      "text/plain": [
       "<Figure size 1000x500 with 4 Axes>"
      ],
      "image/png": "[encoded data removed]"
     },
     "metadata": {},
     "output_type": "display_data"
    }
   ],
   "execution_count": 214
  },
  {
   "metadata": {},
   "cell_type": "markdown",
   "source": ""
  }
 ],
 "metadata": {
  "kernelspec": {
   "display_name": "pytorch-env",
   "language": "python",
   "name": "python3"
  },
  "language_info": {
   "codemirror_mode": {
    "name": "ipython",
    "version": 3
   },
   "file_extension": ".py",
   "mimetype": "text/x-python",
   "name": "python",
   "nbconvert_exporter": "python",
   "pygments_lexer": "ipython3",
   "version": "3.10.14"
  }
 },
 "nbformat": 4,
 "nbformat_minor": 2
}
